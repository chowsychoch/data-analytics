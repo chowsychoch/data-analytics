{
 "cells": [
  {
   "cell_type": "markdown",
   "metadata": {},
   "source": [
    "# Homework1\n",
    "\n",
    "Please upload to Brightspace a **.zip** archive containing your Jupyter Notebook with solutions and all data required to reproduce your solutions. \n",
    "\n",
    "Please also prepare a **requirements.txt** file which lists all the packages that you have used for your homework, one package per line. This will allow us to install all required packages.\n",
    "\n",
    "Please name your .zip archive using your full name and student id as follows - **Firstname_Lastname_12345678_COMP47350_Homework1.zip**. \n",
    "\n",
    "For your Notebook, please split the code and explanations into many little cells so it is easy to see and read the results of each step of your solution. Please remember to name your variables and methods with self-explanatory names. Please remember to write comments and where needed, justifications, for the decisions you make and code you write. Feel free to revisit *tips_to_keep_your_ipython_notebook_readable_and_easy_to_debug.html* provided on Brightspace.\n",
    "\n",
    "Your code and analysis is like a story that awaits to be read, make it a nice story please. Always start with an introduction about the problem and your understanding of the problem domain and data analytics solution and describe the steps you do and your findings from each step.\n",
    "\n",
    "The accepted file formats for the homework are:\n",
    "    - .ipynb\n",
    "    - .zip\n",
    "    - .pdf\n",
    "    - .csv\n",
    "    \n",
    "Please keep the whole code in a single notebook. Usage of external tools/files is discouraged for portability reasons. Files in any other format but mentioned above can be used but will be ignored and not considered for the submission (including .doc, .rar, .7z, .pages, .xlsx, .tex etc.). \n",
    "Any image format is allowed to be used as far as the images appear embedded in your report (.ipynb or .pdf or .html).\n",
    "\n",
    "**Deadline: Monday, 12 March, 2021, midnight.** "
   ]
  },
  {
   "cell_type": "markdown",
   "metadata": {},
   "source": [
    "## Exercises\n",
    "\n",
    "This homework focuses on data understanding and preparation for a particular problem and dataset.\n",
    "The data comes from the Centers for Disease Control and Prevention (CDC: https://covid.cdc.gov/covid-data-tracker/). CDC is a USA health protection agency and is in charge of collecting data about the COVID-19 pandemic, and in particular, tracking cases, deaths, and trends of COVID-19 in the United States. CDC collects and makes public deidentified individual-case data on a daily basis, submitted using standardized case reporting forms. In this analysis, we focus on using the data collected by CDC to build a data analytics solution for death risk prediction. CDC collects demographic characteristics, exposure history, disease severity indicators and outcomes, clinical data, laboratory diagnostic test results, and comorbidities. It also includes information on whether the individual survived or not.\n",
    "\n",
    "The dataset we work with is a sample of the public data released by CDC, where the outcome for the target feature death_yn is known (i.e., either 'yes' or 'no'):\n",
    "https://data.cdc.gov/Case-Surveillance/COVID-19-Case-Surveillance-Public-Use-Data/vbim-akqf\n",
    "\n",
    "Each student will work with a different subset of the data. The CSV file is named using the format: **covid19-cdc-[your-student-number].csv**, e.g., **covid19-cdc-12345678.csv** is the data file for a student with number 12345678. You need to work with the CSV file corresponding to your student number, available from this link: https://drive.google.com/drive/folders/1HiAbcwh7-JT3UXn5qfd4Xo89kfwXISJ9?usp=sharing. There are 4 parts for this homework. Each part has an indicative maximum percentage given in brackets, e.g., part (1) has a maximum of 40% shown as [40].\n",
    "\n",
    "\n",
    "\n",
    "(1). [40] Prepare a data quality report for your CSV file. Below you have a set of guideline steps to help you in this process.\n",
    "    - Check how many rows and columns your CSV has.\n",
    "    - Print the first and the last 5 rows.\n",
    "    - Convert the features to their appropriate data types (e.g., decide which features are more appropriate as \n",
    "    continuos and which ones as categorical types). \n",
    "    - Drop duplicate rows and columns, if any.\n",
    "    - Drop constant columns, if any.\n",
    "    - Save your updated/cleaned data frame to a new csv file.\n",
    "  \n",
    "    For the updated CSV and data frame (after column/row removal):\n",
    "    - Prepare a table with descriptive statistics for all the continuous features.\n",
    "    - Prepare a table with descriptive statistics for all the categorical features.\n",
    "    - Plot histograms for all the continuous features.\n",
    "    - Plot box plots for all the continuous features.\n",
    "    - Plot bar plots for all the categorical features.\n",
    "    - Discuss your initial findings.\n",
    "    - Save the initial discussion of your findings into a single data quality report PDF file.                     The PDF report should focus on the key issues identified in the data and discuss potential strategies              to handle them. Simple listing of tables and plots without discussion of findings will not receive full marks. To receive full marks you need to show your understanding and analysis of the dataset, through a detailed discussion for each feature. The report should be concise and complete, the goal is not to make it long for the sake of length, but to cover all the important aspects of the features.\n",
    "\n",
    "(2). [30] Prepare a data quality plan for the cleaned CSV file. \n",
    "    - Mark down all the features where there are potential problems or data quality issues.\n",
    "    - Propose solutions to deal with the problems identified. Explain why did you choose one solution over \n",
    "    potentially many other. It is very important to provide justification for your thinking in this part and to list potential solutions, including the solution that will be implemented to clean the data.\n",
    "    - Apply your solutions to obtain a new CSV file where the identified data quality issues were addressed. \n",
    "    - Save the new CSV file with a self explanatory name. \n",
    "    - Save the data quality plan to a single PDF file.\n",
    "        \n",
    "(3). [15] Exploring relationships between feature pairs:\n",
    "    - Choose a subset of features you find promising and plot pairwise feature interactions (e.g., \n",
    "    continuous-continuous feature plot or continuous-categorical plots or correlation plots). \n",
    "    Explain your choices.\n",
    "    - Discuss your findings from the plots above. Do you find any features or feature combinations that are \n",
    "    indicative of the target outcome? Explain in plain words (a short paragraph) the story of your\n",
    "    findings so far.\n",
    "    \n",
    "(4). [15] Transform, extend or combine the existing features to create a few new features (at least 3) with the aim to better capture the problem domain and the target outcome. Justify the steps and choices you are making. Add these features to your clean dataset and save it as a CSV file with a self explanatory name. "
   ]
  },
  {
   "cell_type": "markdown",
   "metadata": {},
   "source": [
    "# (0). Background for the given data analytics problem and dataset.\n",
    "\n",
    "Please check the PDF report \"Data_Quality_Report_and_Plan_Initial_Findings.pdf\" for background and important terminology for this problem.\n"
   ]
  },
  {
   "cell_type": "code",
   "execution_count": 1,
   "metadata": {},
   "outputs": [
    {
     "ename": "TypeError",
     "evalue": "required field \"type_ignores\" missing from Module",
     "output_type": "error",
     "traceback": [
      "\u001b[0;31m---------------------------------------------------------------------------\u001b[0m",
      "\u001b[0;31mTypeError\u001b[0m                                 Traceback (most recent call last)",
      "\u001b[0;32m~/opt/anaconda3/envs/COMP47350_a1/lib/python3.8/codeop.py\u001b[0m in \u001b[0;36m__call__\u001b[0;34m(self, source, filename, symbol)\u001b[0m\n\u001b[1;32m    139\u001b[0m \u001b[0;34m\u001b[0m\u001b[0m\n\u001b[1;32m    140\u001b[0m     \u001b[0;32mdef\u001b[0m \u001b[0m__call__\u001b[0m\u001b[0;34m(\u001b[0m\u001b[0mself\u001b[0m\u001b[0;34m,\u001b[0m \u001b[0msource\u001b[0m\u001b[0;34m,\u001b[0m \u001b[0mfilename\u001b[0m\u001b[0;34m,\u001b[0m \u001b[0msymbol\u001b[0m\u001b[0;34m)\u001b[0m\u001b[0;34m:\u001b[0m\u001b[0;34m\u001b[0m\u001b[0;34m\u001b[0m\u001b[0m\n\u001b[0;32m--> 141\u001b[0;31m         \u001b[0mcodeob\u001b[0m \u001b[0;34m=\u001b[0m \u001b[0mcompile\u001b[0m\u001b[0;34m(\u001b[0m\u001b[0msource\u001b[0m\u001b[0;34m,\u001b[0m \u001b[0mfilename\u001b[0m\u001b[0;34m,\u001b[0m \u001b[0msymbol\u001b[0m\u001b[0;34m,\u001b[0m \u001b[0mself\u001b[0m\u001b[0;34m.\u001b[0m\u001b[0mflags\u001b[0m\u001b[0;34m,\u001b[0m \u001b[0;36m1\u001b[0m\u001b[0;34m)\u001b[0m\u001b[0;34m\u001b[0m\u001b[0;34m\u001b[0m\u001b[0m\n\u001b[0m\u001b[1;32m    142\u001b[0m         \u001b[0;32mfor\u001b[0m \u001b[0mfeature\u001b[0m \u001b[0;32min\u001b[0m \u001b[0m_features\u001b[0m\u001b[0;34m:\u001b[0m\u001b[0;34m\u001b[0m\u001b[0;34m\u001b[0m\u001b[0m\n\u001b[1;32m    143\u001b[0m             \u001b[0;32mif\u001b[0m \u001b[0mcodeob\u001b[0m\u001b[0;34m.\u001b[0m\u001b[0mco_flags\u001b[0m \u001b[0;34m&\u001b[0m \u001b[0mfeature\u001b[0m\u001b[0;34m.\u001b[0m\u001b[0mcompiler_flag\u001b[0m\u001b[0;34m:\u001b[0m\u001b[0;34m\u001b[0m\u001b[0;34m\u001b[0m\u001b[0m\n",
      "\u001b[0;31mTypeError\u001b[0m: required field \"type_ignores\" missing from Module"
     ]
    }
   ],
   "source": [
    "# Import pandas, numpy, matplotlib, seaborn libraries\n",
    "import pandas as pd\n",
    "import numpy as np\n",
    "import matplotlib.pyplot as plt\n",
    "import matplotlib.patches as mpatches\n",
    "import seaborn as sns\n",
    "from datetime import date\n",
    "from matplotlib.backends.backend_pdf import PdfPages\n",
    "\n",
    "# hide ipykernel warnings \n",
    "import warnings\n",
    "warnings.filterwarnings('ignore')\n",
    "%matplotlib inline"
   ]
  },
  {
   "cell_type": "code",
   "execution_count": 2,
   "metadata": {},
   "outputs": [],
   "source": [
    "# read in data from csv file to pandas dataframe.  \n",
    "df = pd.read_csv('covid19-cdc-20200225.csv',  keep_default_na=True, sep=',\\s+', delimiter=',', skipinitialspace=True)"
   ]
  },
  {
   "cell_type": "markdown",
   "metadata": {},
   "source": [
    "# (1). Prepare a data quality report for the CSV file."
   ]
  },
  {
   "cell_type": "markdown",
   "metadata": {},
   "source": [
    "### Check shape of CSV file"
   ]
  },
  {
   "cell_type": "code",
   "execution_count": 3,
   "metadata": {},
   "outputs": [
    {
     "data": {
      "text/plain": [
       "(10000, 12)"
      ]
     },
     "execution_count": 3,
     "metadata": {},
     "output_type": "execute_result"
    }
   ],
   "source": [
    "df.shape"
   ]
  },
  {
   "cell_type": "markdown",
   "metadata": {},
   "source": [
    "We have a 10000 reported case with 12 features associated with each case."
   ]
  },
  {
   "cell_type": "markdown",
   "metadata": {},
   "source": [
    "### - Print the first and the last 5 rows."
   ]
  },
  {
   "cell_type": "code",
   "execution_count": 4,
   "metadata": {},
   "outputs": [
    {
     "data": {
      "text/html": [
       "<div>\n",
       "<style scoped>\n",
       "    .dataframe tbody tr th:only-of-type {\n",
       "        vertical-align: middle;\n",
       "    }\n",
       "\n",
       "    .dataframe tbody tr th {\n",
       "        vertical-align: top;\n",
       "    }\n",
       "\n",
       "    .dataframe thead th {\n",
       "        text-align: right;\n",
       "    }\n",
       "</style>\n",
       "<table border=\"1\" class=\"dataframe\">\n",
       "  <thead>\n",
       "    <tr style=\"text-align: right;\">\n",
       "      <th></th>\n",
       "      <th>cdc_case_earliest_dt</th>\n",
       "      <th>cdc_report_dt</th>\n",
       "      <th>pos_spec_dt</th>\n",
       "      <th>onset_dt</th>\n",
       "      <th>current_status</th>\n",
       "      <th>sex</th>\n",
       "      <th>age_group</th>\n",
       "      <th>race_ethnicity_combined</th>\n",
       "      <th>hosp_yn</th>\n",
       "      <th>icu_yn</th>\n",
       "      <th>death_yn</th>\n",
       "      <th>medcond_yn</th>\n",
       "    </tr>\n",
       "  </thead>\n",
       "  <tbody>\n",
       "    <tr>\n",
       "      <th>0</th>\n",
       "      <td>2020/10/29</td>\n",
       "      <td>NaN</td>\n",
       "      <td>NaN</td>\n",
       "      <td>NaN</td>\n",
       "      <td>Laboratory-confirmed case</td>\n",
       "      <td>Male</td>\n",
       "      <td>20 - 29 Years</td>\n",
       "      <td>Unknown</td>\n",
       "      <td>Missing</td>\n",
       "      <td>Missing</td>\n",
       "      <td>No</td>\n",
       "      <td>Missing</td>\n",
       "    </tr>\n",
       "    <tr>\n",
       "      <th>1</th>\n",
       "      <td>2021/01/11</td>\n",
       "      <td>NaN</td>\n",
       "      <td>NaN</td>\n",
       "      <td>NaN</td>\n",
       "      <td>Laboratory-confirmed case</td>\n",
       "      <td>Female</td>\n",
       "      <td>0 - 9 Years</td>\n",
       "      <td>Multiple/Other, Non-Hispanic</td>\n",
       "      <td>No</td>\n",
       "      <td>Missing</td>\n",
       "      <td>No</td>\n",
       "      <td>Missing</td>\n",
       "    </tr>\n",
       "    <tr>\n",
       "      <th>2</th>\n",
       "      <td>2020/10/27</td>\n",
       "      <td>2020/10/27</td>\n",
       "      <td>2020/10/30</td>\n",
       "      <td>2020/10/27</td>\n",
       "      <td>Laboratory-confirmed case</td>\n",
       "      <td>Female</td>\n",
       "      <td>30 - 39 Years</td>\n",
       "      <td>Unknown</td>\n",
       "      <td>No</td>\n",
       "      <td>Unknown</td>\n",
       "      <td>No</td>\n",
       "      <td>Unknown</td>\n",
       "    </tr>\n",
       "    <tr>\n",
       "      <th>3</th>\n",
       "      <td>2020/07/09</td>\n",
       "      <td>NaN</td>\n",
       "      <td>NaN</td>\n",
       "      <td>NaN</td>\n",
       "      <td>Laboratory-confirmed case</td>\n",
       "      <td>Male</td>\n",
       "      <td>20 - 29 Years</td>\n",
       "      <td>Unknown</td>\n",
       "      <td>Missing</td>\n",
       "      <td>Missing</td>\n",
       "      <td>No</td>\n",
       "      <td>Missing</td>\n",
       "    </tr>\n",
       "    <tr>\n",
       "      <th>4</th>\n",
       "      <td>2020/10/19</td>\n",
       "      <td>2021/01/14</td>\n",
       "      <td>NaN</td>\n",
       "      <td>2020/10/19</td>\n",
       "      <td>Laboratory-confirmed case</td>\n",
       "      <td>Male</td>\n",
       "      <td>20 - 29 Years</td>\n",
       "      <td>White, Non-Hispanic</td>\n",
       "      <td>No</td>\n",
       "      <td>Missing</td>\n",
       "      <td>No</td>\n",
       "      <td>Missing</td>\n",
       "    </tr>\n",
       "  </tbody>\n",
       "</table>\n",
       "</div>"
      ],
      "text/plain": [
       "  cdc_case_earliest_dt cdc_report_dt pos_spec_dt    onset_dt  \\\n",
       "0           2020/10/29           NaN         NaN         NaN   \n",
       "1           2021/01/11           NaN         NaN         NaN   \n",
       "2           2020/10/27    2020/10/27  2020/10/30  2020/10/27   \n",
       "3           2020/07/09           NaN         NaN         NaN   \n",
       "4           2020/10/19    2021/01/14         NaN  2020/10/19   \n",
       "\n",
       "              current_status     sex      age_group  \\\n",
       "0  Laboratory-confirmed case    Male  20 - 29 Years   \n",
       "1  Laboratory-confirmed case  Female    0 - 9 Years   \n",
       "2  Laboratory-confirmed case  Female  30 - 39 Years   \n",
       "3  Laboratory-confirmed case    Male  20 - 29 Years   \n",
       "4  Laboratory-confirmed case    Male  20 - 29 Years   \n",
       "\n",
       "        race_ethnicity_combined  hosp_yn   icu_yn death_yn medcond_yn  \n",
       "0                       Unknown  Missing  Missing       No    Missing  \n",
       "1  Multiple/Other, Non-Hispanic       No  Missing       No    Missing  \n",
       "2                       Unknown       No  Unknown       No    Unknown  \n",
       "3                       Unknown  Missing  Missing       No    Missing  \n",
       "4           White, Non-Hispanic       No  Missing       No    Missing  "
      ]
     },
     "execution_count": 4,
     "metadata": {},
     "output_type": "execute_result"
    }
   ],
   "source": [
    "df.head(5)"
   ]
  },
  {
   "cell_type": "code",
   "execution_count": 5,
   "metadata": {},
   "outputs": [
    {
     "data": {
      "text/html": [
       "<div>\n",
       "<style scoped>\n",
       "    .dataframe tbody tr th:only-of-type {\n",
       "        vertical-align: middle;\n",
       "    }\n",
       "\n",
       "    .dataframe tbody tr th {\n",
       "        vertical-align: top;\n",
       "    }\n",
       "\n",
       "    .dataframe thead th {\n",
       "        text-align: right;\n",
       "    }\n",
       "</style>\n",
       "<table border=\"1\" class=\"dataframe\">\n",
       "  <thead>\n",
       "    <tr style=\"text-align: right;\">\n",
       "      <th></th>\n",
       "      <th>cdc_case_earliest_dt</th>\n",
       "      <th>cdc_report_dt</th>\n",
       "      <th>pos_spec_dt</th>\n",
       "      <th>onset_dt</th>\n",
       "      <th>current_status</th>\n",
       "      <th>sex</th>\n",
       "      <th>age_group</th>\n",
       "      <th>race_ethnicity_combined</th>\n",
       "      <th>hosp_yn</th>\n",
       "      <th>icu_yn</th>\n",
       "      <th>death_yn</th>\n",
       "      <th>medcond_yn</th>\n",
       "    </tr>\n",
       "  </thead>\n",
       "  <tbody>\n",
       "    <tr>\n",
       "      <th>9995</th>\n",
       "      <td>2020/06/22</td>\n",
       "      <td>2021/01/24</td>\n",
       "      <td>2020/06/22</td>\n",
       "      <td>NaN</td>\n",
       "      <td>Laboratory-confirmed case</td>\n",
       "      <td>Male</td>\n",
       "      <td>10 - 19 Years</td>\n",
       "      <td>Unknown</td>\n",
       "      <td>Missing</td>\n",
       "      <td>Missing</td>\n",
       "      <td>No</td>\n",
       "      <td>Missing</td>\n",
       "    </tr>\n",
       "    <tr>\n",
       "      <th>9996</th>\n",
       "      <td>2020/05/24</td>\n",
       "      <td>2020/05/29</td>\n",
       "      <td>NaN</td>\n",
       "      <td>2020/05/24</td>\n",
       "      <td>Laboratory-confirmed case</td>\n",
       "      <td>Female</td>\n",
       "      <td>40 - 49 Years</td>\n",
       "      <td>Unknown</td>\n",
       "      <td>No</td>\n",
       "      <td>Missing</td>\n",
       "      <td>No</td>\n",
       "      <td>Missing</td>\n",
       "    </tr>\n",
       "    <tr>\n",
       "      <th>9997</th>\n",
       "      <td>2020/05/07</td>\n",
       "      <td>2020/05/07</td>\n",
       "      <td>NaN</td>\n",
       "      <td>2020/05/07</td>\n",
       "      <td>Laboratory-confirmed case</td>\n",
       "      <td>Male</td>\n",
       "      <td>20 - 29 Years</td>\n",
       "      <td>Unknown</td>\n",
       "      <td>No</td>\n",
       "      <td>Missing</td>\n",
       "      <td>No</td>\n",
       "      <td>Missing</td>\n",
       "    </tr>\n",
       "    <tr>\n",
       "      <th>9998</th>\n",
       "      <td>2021/01/05</td>\n",
       "      <td>NaN</td>\n",
       "      <td>NaN</td>\n",
       "      <td>NaN</td>\n",
       "      <td>Laboratory-confirmed case</td>\n",
       "      <td>Female</td>\n",
       "      <td>0 - 9 Years</td>\n",
       "      <td>Unknown</td>\n",
       "      <td>No</td>\n",
       "      <td>Missing</td>\n",
       "      <td>No</td>\n",
       "      <td>Missing</td>\n",
       "    </tr>\n",
       "    <tr>\n",
       "      <th>9999</th>\n",
       "      <td>2020/05/12</td>\n",
       "      <td>2020/05/22</td>\n",
       "      <td>NaN</td>\n",
       "      <td>2020/05/12</td>\n",
       "      <td>Laboratory-confirmed case</td>\n",
       "      <td>Male</td>\n",
       "      <td>50 - 59 Years</td>\n",
       "      <td>Hispanic/Latino</td>\n",
       "      <td>No</td>\n",
       "      <td>Missing</td>\n",
       "      <td>No</td>\n",
       "      <td>Missing</td>\n",
       "    </tr>\n",
       "  </tbody>\n",
       "</table>\n",
       "</div>"
      ],
      "text/plain": [
       "     cdc_case_earliest_dt cdc_report_dt pos_spec_dt    onset_dt  \\\n",
       "9995           2020/06/22    2021/01/24  2020/06/22         NaN   \n",
       "9996           2020/05/24    2020/05/29         NaN  2020/05/24   \n",
       "9997           2020/05/07    2020/05/07         NaN  2020/05/07   \n",
       "9998           2021/01/05           NaN         NaN         NaN   \n",
       "9999           2020/05/12    2020/05/22         NaN  2020/05/12   \n",
       "\n",
       "                 current_status     sex      age_group  \\\n",
       "9995  Laboratory-confirmed case    Male  10 - 19 Years   \n",
       "9996  Laboratory-confirmed case  Female  40 - 49 Years   \n",
       "9997  Laboratory-confirmed case    Male  20 - 29 Years   \n",
       "9998  Laboratory-confirmed case  Female    0 - 9 Years   \n",
       "9999  Laboratory-confirmed case    Male  50 - 59 Years   \n",
       "\n",
       "     race_ethnicity_combined  hosp_yn   icu_yn death_yn medcond_yn  \n",
       "9995                 Unknown  Missing  Missing       No    Missing  \n",
       "9996                 Unknown       No  Missing       No    Missing  \n",
       "9997                 Unknown       No  Missing       No    Missing  \n",
       "9998                 Unknown       No  Missing       No    Missing  \n",
       "9999         Hispanic/Latino       No  Missing       No    Missing  "
      ]
     },
     "execution_count": 5,
     "metadata": {},
     "output_type": "execute_result"
    }
   ],
   "source": [
    "df.tail(5)"
   ]
  },
  {
   "cell_type": "markdown",
   "metadata": {},
   "source": [
    "### Convert features to appropriate datatypes (e.g. decide which features are continuous or categorical types"
   ]
  },
  {
   "cell_type": "code",
   "execution_count": 6,
   "metadata": {},
   "outputs": [
    {
     "data": {
      "text/plain": [
       "cdc_case_earliest_dt       object\n",
       "cdc_report_dt              object\n",
       "pos_spec_dt                object\n",
       "onset_dt                   object\n",
       "current_status             object\n",
       "sex                        object\n",
       "age_group                  object\n",
       "race_ethnicity_combined    object\n",
       "hosp_yn                    object\n",
       "icu_yn                     object\n",
       "death_yn                   object\n",
       "medcond_yn                 object\n",
       "dtype: object"
      ]
     },
     "execution_count": 6,
     "metadata": {},
     "output_type": "execute_result"
    }
   ],
   "source": [
    "df.dtypes"
   ]
  },
  {
   "cell_type": "markdown",
   "metadata": {},
   "source": [
    "Based on examining the data in a spreadsheet program, all of the features are categorical.\n",
    "\n",
    "- *cdc_case_earliest_dt* will be converted to **categorical** after converting by months from 1 - 12(each representing a differnt month, thus a separate category) because it data type will be converted to datetime64 i.e. numerical value. In this problem set, it makes sense to count the feature values (months, days, years) instead of compute the mean and deviations. \n",
    "\n",
    "- *cdc_report_dt* will be converted to **categorical** after converting by months from 1 - 12(each representing a differnt month, thus a separate category) because because it data type will be converted to datetime64 i.e. numerical value. In this problem set, it makes sense to count the feature values (months, days, years) instead of compute the mean and deviations. \n",
    "\n",
    "- *pos_spec_dt* will be converted to **categorical** after converting by months from 1 - 12(each representing a differnt month, thus a separate category) because because it data type will be converted to datetime64 i.e. numerical value. In this problem set, it makes sense to count the feature values (months, days, years) instead of compute the mean and deviations.  \n",
    "\n",
    "- *onset_dt* will be converted to **categorical** after converting by months from 1 - 12(each representing a differnt month, thus a separate category) because because it data type will be converted to datetime64 i.e. numerical value. In this problem set, it makes sense to count the feature values (months, days, years) instead of compute the mean and deviations.  \n",
    "\n",
    "- *hosp_yn* *icu_yn* *death_yn* *medcond_yn* *sex* *current_status* *race_ethnicity_combined* *age_group* will be converted to **categorical** because it contains finite set of possible values, each representing different meaning.\n"
   ]
  },
  {
   "cell_type": "markdown",
   "metadata": {},
   "source": [
    "### Check for duplicate row/columns"
   ]
  },
  {
   "cell_type": "code",
   "execution_count": 7,
   "metadata": {},
   "outputs": [],
   "source": [
    "#Select columns containing categorical data\n",
    "categorical_columns = df[['current_status','sex','age_group','race_ethnicity_combined','hosp_yn','icu_yn','death_yn','medcond_yn']].columns\n",
    "datetime_columns = df[['cdc_case_earliest_dt','cdc_report_dt','pos_spec_dt','onset_dt']].columns\n",
    "\n",
    "# Convert data type to category for these columns\n",
    "for column in categorical_columns:\n",
    "    df[column] = df[column].astype('category') \n",
    "\n",
    "#Convert data type to datetime64 for these columns\n",
    "for column in datetime_columns:\n",
    "    df[column] = df[column].astype('datetime64')\n",
    "\n",
    "\n"
   ]
  },
  {
   "cell_type": "code",
   "execution_count": 8,
   "metadata": {},
   "outputs": [
    {
     "data": {
      "text/plain": [
       "cdc_case_earliest_dt       datetime64[ns]\n",
       "cdc_report_dt              datetime64[ns]\n",
       "pos_spec_dt                datetime64[ns]\n",
       "onset_dt                   datetime64[ns]\n",
       "current_status                   category\n",
       "sex                              category\n",
       "age_group                        category\n",
       "race_ethnicity_combined          category\n",
       "hosp_yn                          category\n",
       "icu_yn                           category\n",
       "death_yn                         category\n",
       "medcond_yn                       category\n",
       "dtype: object"
      ]
     },
     "execution_count": 8,
     "metadata": {},
     "output_type": "execute_result"
    }
   ],
   "source": [
    "df.dtypes"
   ]
  },
  {
   "cell_type": "code",
   "execution_count": 9,
   "metadata": {},
   "outputs": [
    {
     "data": {
      "text/html": [
       "<div>\n",
       "<style scoped>\n",
       "    .dataframe tbody tr th:only-of-type {\n",
       "        vertical-align: middle;\n",
       "    }\n",
       "\n",
       "    .dataframe tbody tr th {\n",
       "        vertical-align: top;\n",
       "    }\n",
       "\n",
       "    .dataframe thead th {\n",
       "        text-align: right;\n",
       "    }\n",
       "</style>\n",
       "<table border=\"1\" class=\"dataframe\">\n",
       "  <thead>\n",
       "    <tr style=\"text-align: right;\">\n",
       "      <th></th>\n",
       "      <th>count</th>\n",
       "      <th>unique</th>\n",
       "      <th>top</th>\n",
       "      <th>freq</th>\n",
       "      <th>first</th>\n",
       "      <th>last</th>\n",
       "    </tr>\n",
       "  </thead>\n",
       "  <tbody>\n",
       "    <tr>\n",
       "      <th>cdc_case_earliest_dt</th>\n",
       "      <td>10000</td>\n",
       "      <td>322</td>\n",
       "      <td>2020-12-14</td>\n",
       "      <td>112</td>\n",
       "      <td>2020-02-17</td>\n",
       "      <td>2021-01-16</td>\n",
       "    </tr>\n",
       "    <tr>\n",
       "      <th>cdc_report_dt</th>\n",
       "      <td>7671</td>\n",
       "      <td>325</td>\n",
       "      <td>2020-06-10</td>\n",
       "      <td>132</td>\n",
       "      <td>2020-02-17</td>\n",
       "      <td>2021-01-29</td>\n",
       "    </tr>\n",
       "    <tr>\n",
       "      <th>pos_spec_dt</th>\n",
       "      <td>2800</td>\n",
       "      <td>314</td>\n",
       "      <td>2021-01-04</td>\n",
       "      <td>34</td>\n",
       "      <td>2020-03-11</td>\n",
       "      <td>2021-01-25</td>\n",
       "    </tr>\n",
       "    <tr>\n",
       "      <th>onset_dt</th>\n",
       "      <td>5074</td>\n",
       "      <td>322</td>\n",
       "      <td>2020-11-30</td>\n",
       "      <td>50</td>\n",
       "      <td>2020-02-17</td>\n",
       "      <td>2021-01-16</td>\n",
       "    </tr>\n",
       "  </tbody>\n",
       "</table>\n",
       "</div>"
      ],
      "text/plain": [
       "                      count unique        top freq      first       last\n",
       "cdc_case_earliest_dt  10000    322 2020-12-14  112 2020-02-17 2021-01-16\n",
       "cdc_report_dt          7671    325 2020-06-10  132 2020-02-17 2021-01-29\n",
       "pos_spec_dt            2800    314 2021-01-04   34 2020-03-11 2021-01-25\n",
       "onset_dt               5074    322 2020-11-30   50 2020-02-17 2021-01-16"
      ]
     },
     "execution_count": 9,
     "metadata": {},
     "output_type": "execute_result"
    }
   ],
   "source": [
    "# # for column in continuous_columns:\n",
    "# df['year'] = df['cdc_case_earliest_dt'].dt.year\n",
    "df.select_dtypes(include=['datetime64']).describe().T"
   ]
  },
  {
   "cell_type": "markdown",
   "metadata": {},
   "source": [
    "\n"
   ]
  },
  {
   "cell_type": "code",
   "execution_count": 10,
   "metadata": {},
   "outputs": [
    {
     "data": {
      "text/html": [
       "<div>\n",
       "<style scoped>\n",
       "    .dataframe tbody tr th:only-of-type {\n",
       "        vertical-align: middle;\n",
       "    }\n",
       "\n",
       "    .dataframe tbody tr th {\n",
       "        vertical-align: top;\n",
       "    }\n",
       "\n",
       "    .dataframe thead th {\n",
       "        text-align: right;\n",
       "    }\n",
       "</style>\n",
       "<table border=\"1\" class=\"dataframe\">\n",
       "  <thead>\n",
       "    <tr style=\"text-align: right;\">\n",
       "      <th></th>\n",
       "      <th>cdc_case_earliest_dt</th>\n",
       "      <th>cdc_report_dt</th>\n",
       "      <th>pos_spec_dt</th>\n",
       "      <th>onset_dt</th>\n",
       "      <th>current_status</th>\n",
       "      <th>sex</th>\n",
       "      <th>age_group</th>\n",
       "      <th>race_ethnicity_combined</th>\n",
       "      <th>hosp_yn</th>\n",
       "      <th>icu_yn</th>\n",
       "      <th>death_yn</th>\n",
       "      <th>medcond_yn</th>\n",
       "    </tr>\n",
       "  </thead>\n",
       "  <tbody>\n",
       "    <tr>\n",
       "      <th>497</th>\n",
       "      <td>2021-01-09</td>\n",
       "      <td>NaT</td>\n",
       "      <td>NaT</td>\n",
       "      <td>NaT</td>\n",
       "      <td>Laboratory-confirmed case</td>\n",
       "      <td>Male</td>\n",
       "      <td>20 - 29 Years</td>\n",
       "      <td>Unknown</td>\n",
       "      <td>No</td>\n",
       "      <td>Missing</td>\n",
       "      <td>No</td>\n",
       "      <td>Missing</td>\n",
       "    </tr>\n",
       "    <tr>\n",
       "      <th>831</th>\n",
       "      <td>2020-07-08</td>\n",
       "      <td>2020-07-08</td>\n",
       "      <td>NaT</td>\n",
       "      <td>2020-07-08</td>\n",
       "      <td>Laboratory-confirmed case</td>\n",
       "      <td>Female</td>\n",
       "      <td>20 - 29 Years</td>\n",
       "      <td>Unknown</td>\n",
       "      <td>No</td>\n",
       "      <td>Missing</td>\n",
       "      <td>No</td>\n",
       "      <td>Missing</td>\n",
       "    </tr>\n",
       "    <tr>\n",
       "      <th>834</th>\n",
       "      <td>2020-11-24</td>\n",
       "      <td>NaT</td>\n",
       "      <td>NaT</td>\n",
       "      <td>NaT</td>\n",
       "      <td>Laboratory-confirmed case</td>\n",
       "      <td>Female</td>\n",
       "      <td>30 - 39 Years</td>\n",
       "      <td>Unknown</td>\n",
       "      <td>Missing</td>\n",
       "      <td>Missing</td>\n",
       "      <td>No</td>\n",
       "      <td>Missing</td>\n",
       "    </tr>\n",
       "    <tr>\n",
       "      <th>1193</th>\n",
       "      <td>2021-01-07</td>\n",
       "      <td>NaT</td>\n",
       "      <td>NaT</td>\n",
       "      <td>NaT</td>\n",
       "      <td>Laboratory-confirmed case</td>\n",
       "      <td>Female</td>\n",
       "      <td>20 - 29 Years</td>\n",
       "      <td>Unknown</td>\n",
       "      <td>Unknown</td>\n",
       "      <td>Missing</td>\n",
       "      <td>No</td>\n",
       "      <td>Missing</td>\n",
       "    </tr>\n",
       "    <tr>\n",
       "      <th>1255</th>\n",
       "      <td>2020-12-02</td>\n",
       "      <td>NaT</td>\n",
       "      <td>NaT</td>\n",
       "      <td>NaT</td>\n",
       "      <td>Laboratory-confirmed case</td>\n",
       "      <td>Male</td>\n",
       "      <td>40 - 49 Years</td>\n",
       "      <td>Unknown</td>\n",
       "      <td>Missing</td>\n",
       "      <td>Missing</td>\n",
       "      <td>No</td>\n",
       "      <td>Missing</td>\n",
       "    </tr>\n",
       "    <tr>\n",
       "      <th>...</th>\n",
       "      <td>...</td>\n",
       "      <td>...</td>\n",
       "      <td>...</td>\n",
       "      <td>...</td>\n",
       "      <td>...</td>\n",
       "      <td>...</td>\n",
       "      <td>...</td>\n",
       "      <td>...</td>\n",
       "      <td>...</td>\n",
       "      <td>...</td>\n",
       "      <td>...</td>\n",
       "      <td>...</td>\n",
       "    </tr>\n",
       "    <tr>\n",
       "      <th>9909</th>\n",
       "      <td>2020-12-14</td>\n",
       "      <td>NaT</td>\n",
       "      <td>NaT</td>\n",
       "      <td>NaT</td>\n",
       "      <td>Laboratory-confirmed case</td>\n",
       "      <td>Male</td>\n",
       "      <td>20 - 29 Years</td>\n",
       "      <td>Unknown</td>\n",
       "      <td>Missing</td>\n",
       "      <td>Missing</td>\n",
       "      <td>No</td>\n",
       "      <td>Missing</td>\n",
       "    </tr>\n",
       "    <tr>\n",
       "      <th>9933</th>\n",
       "      <td>2020-12-17</td>\n",
       "      <td>NaT</td>\n",
       "      <td>NaT</td>\n",
       "      <td>NaT</td>\n",
       "      <td>Laboratory-confirmed case</td>\n",
       "      <td>Male</td>\n",
       "      <td>10 - 19 Years</td>\n",
       "      <td>Unknown</td>\n",
       "      <td>No</td>\n",
       "      <td>Missing</td>\n",
       "      <td>No</td>\n",
       "      <td>Missing</td>\n",
       "    </tr>\n",
       "    <tr>\n",
       "      <th>9959</th>\n",
       "      <td>2020-12-18</td>\n",
       "      <td>NaT</td>\n",
       "      <td>NaT</td>\n",
       "      <td>NaT</td>\n",
       "      <td>Laboratory-confirmed case</td>\n",
       "      <td>Female</td>\n",
       "      <td>20 - 29 Years</td>\n",
       "      <td>Unknown</td>\n",
       "      <td>Missing</td>\n",
       "      <td>Missing</td>\n",
       "      <td>No</td>\n",
       "      <td>Missing</td>\n",
       "    </tr>\n",
       "    <tr>\n",
       "      <th>9984</th>\n",
       "      <td>2021-01-08</td>\n",
       "      <td>NaT</td>\n",
       "      <td>NaT</td>\n",
       "      <td>NaT</td>\n",
       "      <td>Laboratory-confirmed case</td>\n",
       "      <td>Female</td>\n",
       "      <td>10 - 19 Years</td>\n",
       "      <td>Unknown</td>\n",
       "      <td>Unknown</td>\n",
       "      <td>Missing</td>\n",
       "      <td>No</td>\n",
       "      <td>Missing</td>\n",
       "    </tr>\n",
       "    <tr>\n",
       "      <th>9991</th>\n",
       "      <td>2020-12-28</td>\n",
       "      <td>NaT</td>\n",
       "      <td>NaT</td>\n",
       "      <td>NaT</td>\n",
       "      <td>Laboratory-confirmed case</td>\n",
       "      <td>Male</td>\n",
       "      <td>30 - 39 Years</td>\n",
       "      <td>Unknown</td>\n",
       "      <td>Missing</td>\n",
       "      <td>Missing</td>\n",
       "      <td>No</td>\n",
       "      <td>Missing</td>\n",
       "    </tr>\n",
       "  </tbody>\n",
       "</table>\n",
       "<p>496 rows × 12 columns</p>\n",
       "</div>"
      ],
      "text/plain": [
       "     cdc_case_earliest_dt cdc_report_dt pos_spec_dt   onset_dt  \\\n",
       "497            2021-01-09           NaT         NaT        NaT   \n",
       "831            2020-07-08    2020-07-08         NaT 2020-07-08   \n",
       "834            2020-11-24           NaT         NaT        NaT   \n",
       "1193           2021-01-07           NaT         NaT        NaT   \n",
       "1255           2020-12-02           NaT         NaT        NaT   \n",
       "...                   ...           ...         ...        ...   \n",
       "9909           2020-12-14           NaT         NaT        NaT   \n",
       "9933           2020-12-17           NaT         NaT        NaT   \n",
       "9959           2020-12-18           NaT         NaT        NaT   \n",
       "9984           2021-01-08           NaT         NaT        NaT   \n",
       "9991           2020-12-28           NaT         NaT        NaT   \n",
       "\n",
       "                 current_status     sex      age_group  \\\n",
       "497   Laboratory-confirmed case    Male  20 - 29 Years   \n",
       "831   Laboratory-confirmed case  Female  20 - 29 Years   \n",
       "834   Laboratory-confirmed case  Female  30 - 39 Years   \n",
       "1193  Laboratory-confirmed case  Female  20 - 29 Years   \n",
       "1255  Laboratory-confirmed case    Male  40 - 49 Years   \n",
       "...                         ...     ...            ...   \n",
       "9909  Laboratory-confirmed case    Male  20 - 29 Years   \n",
       "9933  Laboratory-confirmed case    Male  10 - 19 Years   \n",
       "9959  Laboratory-confirmed case  Female  20 - 29 Years   \n",
       "9984  Laboratory-confirmed case  Female  10 - 19 Years   \n",
       "9991  Laboratory-confirmed case    Male  30 - 39 Years   \n",
       "\n",
       "     race_ethnicity_combined  hosp_yn   icu_yn death_yn medcond_yn  \n",
       "497                  Unknown       No  Missing       No    Missing  \n",
       "831                  Unknown       No  Missing       No    Missing  \n",
       "834                  Unknown  Missing  Missing       No    Missing  \n",
       "1193                 Unknown  Unknown  Missing       No    Missing  \n",
       "1255                 Unknown  Missing  Missing       No    Missing  \n",
       "...                      ...      ...      ...      ...        ...  \n",
       "9909                 Unknown  Missing  Missing       No    Missing  \n",
       "9933                 Unknown       No  Missing       No    Missing  \n",
       "9959                 Unknown  Missing  Missing       No    Missing  \n",
       "9984                 Unknown  Unknown  Missing       No    Missing  \n",
       "9991                 Unknown  Missing  Missing       No    Missing  \n",
       "\n",
       "[496 rows x 12 columns]"
      ]
     },
     "execution_count": 10,
     "metadata": {},
     "output_type": "execute_result"
    }
   ],
   "source": [
    "df[df.duplicated()]"
   ]
  },
  {
   "cell_type": "code",
   "execution_count": 11,
   "metadata": {},
   "outputs": [
    {
     "name": "stdout",
     "output_type": "stream",
     "text": [
      "Number of duplicate (excluding first) rows in the table is:  496\n",
      "Number of duplicate rows (including first) in the table is: 874\n"
     ]
    }
   ],
   "source": [
    "#Print the number of duplicates, without the original rows that were duplicated\n",
    "print('Number of duplicate (excluding first) rows in the table is: ', df.duplicated().sum())\n",
    "\n",
    "# Check for duplicate rows. \n",
    "# Use \"keep=False\" to mark all duplicates as true, including the original rows that were duplicated.\n",
    "# My approach is to keep the first row\n",
    "print('Number of duplicate rows (including first) in the table is:', df[df.duplicated(keep=False)].shape[0])"
   ]
  },
  {
   "cell_type": "code",
   "execution_count": 12,
   "metadata": {},
   "outputs": [
    {
     "name": "stdout",
     "output_type": "stream",
     "text": [
      "Number of duplicate (excluding first) columns in the table is:  0\n",
      "Number of duplicate (including first) columns in the table is:  0\n"
     ]
    }
   ],
   "source": [
    "# Check for duplicate columns\n",
    "#First transpose the df so columns become rows, then apply the same check as above\n",
    "dfT = df.T\n",
    "print(\"Number of duplicate (excluding first) columns in the table is: \", dfT.duplicated().sum())\n",
    "print(\"Number of duplicate (including first) columns in the table is: \",  dfT[dfT.duplicated(keep=False)].shape[0])"
   ]
  },
  {
   "cell_type": "markdown",
   "metadata": {},
   "source": [
    "#### Result - Duplicate rows exist\n",
    "\n",
    "- Rows \n",
    "    - There is no primary key in the dataset (id or patient number attribute) to check if a user is included twice. Therefore I compare against all columns attributes. This acts like a primary key. This initially returned 496 duplicate rows. To also include the rows that were matched I include \"keep=False\" parameter. Displaying these rows in a dataframe I see they include the value *NaT* for all attributes. This is a special value meaning \"missing\" information. These rows can be safely dropped as they add no information.\n",
    "\n",
    "- Columns \n",
    "    - There are no duplicate columns. We will also check the descriptive stats to make sure we did not miss any duplicated columns.\n",
    "    - From the CDC Documentation, the column of * cdc_report_dt* namely Initial case report date to CDC. mentioned the column is *deprecated, use new cdc_case_earliest_dt*. This column will be dropped too as invalid. "
   ]
  },
  {
   "cell_type": "code",
   "execution_count": 13,
   "metadata": {},
   "outputs": [
    {
     "data": {
      "text/html": [
       "<div>\n",
       "<style scoped>\n",
       "    .dataframe tbody tr th:only-of-type {\n",
       "        vertical-align: middle;\n",
       "    }\n",
       "\n",
       "    .dataframe tbody tr th {\n",
       "        vertical-align: top;\n",
       "    }\n",
       "\n",
       "    .dataframe thead th {\n",
       "        text-align: right;\n",
       "    }\n",
       "</style>\n",
       "<table border=\"1\" class=\"dataframe\">\n",
       "  <thead>\n",
       "    <tr style=\"text-align: right;\">\n",
       "      <th></th>\n",
       "      <th>cdc_case_earliest_dt</th>\n",
       "      <th>cdc_report_dt</th>\n",
       "      <th>pos_spec_dt</th>\n",
       "      <th>onset_dt</th>\n",
       "      <th>current_status</th>\n",
       "      <th>sex</th>\n",
       "      <th>age_group</th>\n",
       "      <th>race_ethnicity_combined</th>\n",
       "      <th>hosp_yn</th>\n",
       "      <th>icu_yn</th>\n",
       "      <th>death_yn</th>\n",
       "      <th>medcond_yn</th>\n",
       "    </tr>\n",
       "  </thead>\n",
       "  <tbody>\n",
       "    <tr>\n",
       "      <th>497</th>\n",
       "      <td>2021-01-09</td>\n",
       "      <td>NaT</td>\n",
       "      <td>NaT</td>\n",
       "      <td>NaT</td>\n",
       "      <td>Laboratory-confirmed case</td>\n",
       "      <td>Male</td>\n",
       "      <td>20 - 29 Years</td>\n",
       "      <td>Unknown</td>\n",
       "      <td>No</td>\n",
       "      <td>Missing</td>\n",
       "      <td>No</td>\n",
       "      <td>Missing</td>\n",
       "    </tr>\n",
       "    <tr>\n",
       "      <th>831</th>\n",
       "      <td>2020-07-08</td>\n",
       "      <td>2020-07-08</td>\n",
       "      <td>NaT</td>\n",
       "      <td>2020-07-08</td>\n",
       "      <td>Laboratory-confirmed case</td>\n",
       "      <td>Female</td>\n",
       "      <td>20 - 29 Years</td>\n",
       "      <td>Unknown</td>\n",
       "      <td>No</td>\n",
       "      <td>Missing</td>\n",
       "      <td>No</td>\n",
       "      <td>Missing</td>\n",
       "    </tr>\n",
       "    <tr>\n",
       "      <th>834</th>\n",
       "      <td>2020-11-24</td>\n",
       "      <td>NaT</td>\n",
       "      <td>NaT</td>\n",
       "      <td>NaT</td>\n",
       "      <td>Laboratory-confirmed case</td>\n",
       "      <td>Female</td>\n",
       "      <td>30 - 39 Years</td>\n",
       "      <td>Unknown</td>\n",
       "      <td>Missing</td>\n",
       "      <td>Missing</td>\n",
       "      <td>No</td>\n",
       "      <td>Missing</td>\n",
       "    </tr>\n",
       "    <tr>\n",
       "      <th>1193</th>\n",
       "      <td>2021-01-07</td>\n",
       "      <td>NaT</td>\n",
       "      <td>NaT</td>\n",
       "      <td>NaT</td>\n",
       "      <td>Laboratory-confirmed case</td>\n",
       "      <td>Female</td>\n",
       "      <td>20 - 29 Years</td>\n",
       "      <td>Unknown</td>\n",
       "      <td>Unknown</td>\n",
       "      <td>Missing</td>\n",
       "      <td>No</td>\n",
       "      <td>Missing</td>\n",
       "    </tr>\n",
       "    <tr>\n",
       "      <th>1255</th>\n",
       "      <td>2020-12-02</td>\n",
       "      <td>NaT</td>\n",
       "      <td>NaT</td>\n",
       "      <td>NaT</td>\n",
       "      <td>Laboratory-confirmed case</td>\n",
       "      <td>Male</td>\n",
       "      <td>40 - 49 Years</td>\n",
       "      <td>Unknown</td>\n",
       "      <td>Missing</td>\n",
       "      <td>Missing</td>\n",
       "      <td>No</td>\n",
       "      <td>Missing</td>\n",
       "    </tr>\n",
       "    <tr>\n",
       "      <th>1259</th>\n",
       "      <td>2020-12-18</td>\n",
       "      <td>NaT</td>\n",
       "      <td>NaT</td>\n",
       "      <td>NaT</td>\n",
       "      <td>Laboratory-confirmed case</td>\n",
       "      <td>Female</td>\n",
       "      <td>30 - 39 Years</td>\n",
       "      <td>Unknown</td>\n",
       "      <td>Missing</td>\n",
       "      <td>Missing</td>\n",
       "      <td>No</td>\n",
       "      <td>Missing</td>\n",
       "    </tr>\n",
       "    <tr>\n",
       "      <th>1304</th>\n",
       "      <td>2020-11-27</td>\n",
       "      <td>NaT</td>\n",
       "      <td>NaT</td>\n",
       "      <td>NaT</td>\n",
       "      <td>Laboratory-confirmed case</td>\n",
       "      <td>Male</td>\n",
       "      <td>30 - 39 Years</td>\n",
       "      <td>Unknown</td>\n",
       "      <td>Unknown</td>\n",
       "      <td>Missing</td>\n",
       "      <td>No</td>\n",
       "      <td>Missing</td>\n",
       "    </tr>\n",
       "    <tr>\n",
       "      <th>1350</th>\n",
       "      <td>2021-01-02</td>\n",
       "      <td>NaT</td>\n",
       "      <td>NaT</td>\n",
       "      <td>NaT</td>\n",
       "      <td>Laboratory-confirmed case</td>\n",
       "      <td>Female</td>\n",
       "      <td>30 - 39 Years</td>\n",
       "      <td>Unknown</td>\n",
       "      <td>Unknown</td>\n",
       "      <td>Missing</td>\n",
       "      <td>No</td>\n",
       "      <td>Missing</td>\n",
       "    </tr>\n",
       "    <tr>\n",
       "      <th>1395</th>\n",
       "      <td>2021-01-08</td>\n",
       "      <td>NaT</td>\n",
       "      <td>NaT</td>\n",
       "      <td>NaT</td>\n",
       "      <td>Laboratory-confirmed case</td>\n",
       "      <td>Female</td>\n",
       "      <td>20 - 29 Years</td>\n",
       "      <td>Unknown</td>\n",
       "      <td>Unknown</td>\n",
       "      <td>Missing</td>\n",
       "      <td>No</td>\n",
       "      <td>Missing</td>\n",
       "    </tr>\n",
       "    <tr>\n",
       "      <th>1470</th>\n",
       "      <td>2020-12-28</td>\n",
       "      <td>2020-12-28</td>\n",
       "      <td>2020-12-28</td>\n",
       "      <td>NaT</td>\n",
       "      <td>Laboratory-confirmed case</td>\n",
       "      <td>Female</td>\n",
       "      <td>20 - 29 Years</td>\n",
       "      <td>Unknown</td>\n",
       "      <td>Unknown</td>\n",
       "      <td>Unknown</td>\n",
       "      <td>No</td>\n",
       "      <td>Unknown</td>\n",
       "    </tr>\n",
       "  </tbody>\n",
       "</table>\n",
       "</div>"
      ],
      "text/plain": [
       "     cdc_case_earliest_dt cdc_report_dt pos_spec_dt   onset_dt  \\\n",
       "497            2021-01-09           NaT         NaT        NaT   \n",
       "831            2020-07-08    2020-07-08         NaT 2020-07-08   \n",
       "834            2020-11-24           NaT         NaT        NaT   \n",
       "1193           2021-01-07           NaT         NaT        NaT   \n",
       "1255           2020-12-02           NaT         NaT        NaT   \n",
       "1259           2020-12-18           NaT         NaT        NaT   \n",
       "1304           2020-11-27           NaT         NaT        NaT   \n",
       "1350           2021-01-02           NaT         NaT        NaT   \n",
       "1395           2021-01-08           NaT         NaT        NaT   \n",
       "1470           2020-12-28    2020-12-28  2020-12-28        NaT   \n",
       "\n",
       "                 current_status     sex      age_group  \\\n",
       "497   Laboratory-confirmed case    Male  20 - 29 Years   \n",
       "831   Laboratory-confirmed case  Female  20 - 29 Years   \n",
       "834   Laboratory-confirmed case  Female  30 - 39 Years   \n",
       "1193  Laboratory-confirmed case  Female  20 - 29 Years   \n",
       "1255  Laboratory-confirmed case    Male  40 - 49 Years   \n",
       "1259  Laboratory-confirmed case  Female  30 - 39 Years   \n",
       "1304  Laboratory-confirmed case    Male  30 - 39 Years   \n",
       "1350  Laboratory-confirmed case  Female  30 - 39 Years   \n",
       "1395  Laboratory-confirmed case  Female  20 - 29 Years   \n",
       "1470  Laboratory-confirmed case  Female  20 - 29 Years   \n",
       "\n",
       "     race_ethnicity_combined  hosp_yn   icu_yn death_yn medcond_yn  \n",
       "497                  Unknown       No  Missing       No    Missing  \n",
       "831                  Unknown       No  Missing       No    Missing  \n",
       "834                  Unknown  Missing  Missing       No    Missing  \n",
       "1193                 Unknown  Unknown  Missing       No    Missing  \n",
       "1255                 Unknown  Missing  Missing       No    Missing  \n",
       "1259                 Unknown  Missing  Missing       No    Missing  \n",
       "1304                 Unknown  Unknown  Missing       No    Missing  \n",
       "1350                 Unknown  Unknown  Missing       No    Missing  \n",
       "1395                 Unknown  Unknown  Missing       No    Missing  \n",
       "1470                 Unknown  Unknown  Unknown       No    Unknown  "
      ]
     },
     "execution_count": 13,
     "metadata": {},
     "output_type": "execute_result"
    }
   ],
   "source": [
    "# Show duplicate row data that can be dropped\n",
    "df[df.duplicated()].head(10)"
   ]
  },
  {
   "cell_type": "markdown",
   "metadata": {},
   "source": [
    "### Drop the duplicate features (rows and columns)"
   ]
  },
  {
   "cell_type": "code",
   "execution_count": 14,
   "metadata": {},
   "outputs": [
    {
     "name": "stdout",
     "output_type": "stream",
     "text": [
      "Duplicate remaining rows: 0\n"
     ]
    }
   ],
   "source": [
    "df = df.drop_duplicates()\n",
    "# get duplicated row data. Use \"keep=False\" to mark all duplicates as true\n",
    "print('Duplicate remaining rows:', df[df.duplicated(keep=False)].shape[0])"
   ]
  },
  {
   "cell_type": "code",
   "execution_count": 15,
   "metadata": {},
   "outputs": [
    {
     "name": "stdout",
     "output_type": "stream",
     "text": [
      "After dropping, number of duplicate rows (including first) in the table is: 0\n"
     ]
    }
   ],
   "source": [
    "print('After dropping, number of duplicate rows (including first) in the table is:', df[df.duplicated(keep=False)].shape[0])"
   ]
  },
  {
   "cell_type": "code",
   "execution_count": 16,
   "metadata": {},
   "outputs": [],
   "source": [
    "df = df.drop(columns=['cdc_report_dt'])"
   ]
  },
  {
   "cell_type": "code",
   "execution_count": 17,
   "metadata": {},
   "outputs": [
    {
     "data": {
      "text/plain": [
       "cdc_case_earliest_dt       datetime64[ns]\n",
       "pos_spec_dt                datetime64[ns]\n",
       "onset_dt                   datetime64[ns]\n",
       "current_status                   category\n",
       "sex                              category\n",
       "age_group                        category\n",
       "race_ethnicity_combined          category\n",
       "hosp_yn                          category\n",
       "icu_yn                           category\n",
       "death_yn                         category\n",
       "medcond_yn                       category\n",
       "dtype: object"
      ]
     },
     "execution_count": 17,
     "metadata": {},
     "output_type": "execute_result"
    }
   ],
   "source": [
    "df.dtypes"
   ]
  },
  {
   "cell_type": "markdown",
   "metadata": {},
   "source": [
    "### Check for constant columns for categorical column"
   ]
  },
  {
   "cell_type": "code",
   "execution_count": 18,
   "metadata": {},
   "outputs": [
    {
     "data": {
      "text/html": [
       "<div>\n",
       "<style scoped>\n",
       "    .dataframe tbody tr th:only-of-type {\n",
       "        vertical-align: middle;\n",
       "    }\n",
       "\n",
       "    .dataframe tbody tr th {\n",
       "        vertical-align: top;\n",
       "    }\n",
       "\n",
       "    .dataframe thead th {\n",
       "        text-align: right;\n",
       "    }\n",
       "</style>\n",
       "<table border=\"1\" class=\"dataframe\">\n",
       "  <thead>\n",
       "    <tr style=\"text-align: right;\">\n",
       "      <th></th>\n",
       "      <th>count</th>\n",
       "      <th>unique</th>\n",
       "      <th>top</th>\n",
       "      <th>freq</th>\n",
       "    </tr>\n",
       "  </thead>\n",
       "  <tbody>\n",
       "    <tr>\n",
       "      <th>current_status</th>\n",
       "      <td>9504</td>\n",
       "      <td>2</td>\n",
       "      <td>Laboratory-confirmed case</td>\n",
       "      <td>8858</td>\n",
       "    </tr>\n",
       "    <tr>\n",
       "      <th>sex</th>\n",
       "      <td>9504</td>\n",
       "      <td>4</td>\n",
       "      <td>Female</td>\n",
       "      <td>5046</td>\n",
       "    </tr>\n",
       "    <tr>\n",
       "      <th>age_group</th>\n",
       "      <td>9504</td>\n",
       "      <td>10</td>\n",
       "      <td>20 - 29 Years</td>\n",
       "      <td>1778</td>\n",
       "    </tr>\n",
       "    <tr>\n",
       "      <th>race_ethnicity_combined</th>\n",
       "      <td>9504</td>\n",
       "      <td>9</td>\n",
       "      <td>Unknown</td>\n",
       "      <td>3653</td>\n",
       "    </tr>\n",
       "    <tr>\n",
       "      <th>hosp_yn</th>\n",
       "      <td>9504</td>\n",
       "      <td>5</td>\n",
       "      <td>No</td>\n",
       "      <td>5220</td>\n",
       "    </tr>\n",
       "    <tr>\n",
       "      <th>icu_yn</th>\n",
       "      <td>9504</td>\n",
       "      <td>4</td>\n",
       "      <td>Missing</td>\n",
       "      <td>7157</td>\n",
       "    </tr>\n",
       "    <tr>\n",
       "      <th>death_yn</th>\n",
       "      <td>9504</td>\n",
       "      <td>2</td>\n",
       "      <td>No</td>\n",
       "      <td>9165</td>\n",
       "    </tr>\n",
       "    <tr>\n",
       "      <th>medcond_yn</th>\n",
       "      <td>9504</td>\n",
       "      <td>4</td>\n",
       "      <td>Missing</td>\n",
       "      <td>7011</td>\n",
       "    </tr>\n",
       "  </tbody>\n",
       "</table>\n",
       "</div>"
      ],
      "text/plain": [
       "                        count unique                        top  freq\n",
       "current_status           9504      2  Laboratory-confirmed case  8858\n",
       "sex                      9504      4                     Female  5046\n",
       "age_group                9504     10              20 - 29 Years  1778\n",
       "race_ethnicity_combined  9504      9                    Unknown  3653\n",
       "hosp_yn                  9504      5                         No  5220\n",
       "icu_yn                   9504      4                    Missing  7157\n",
       "death_yn                 9504      2                         No  9165\n",
       "medcond_yn               9504      4                    Missing  7011"
      ]
     },
     "execution_count": 18,
     "metadata": {},
     "output_type": "execute_result"
    }
   ],
   "source": [
    "# Print table with categorical statistics\n",
    "df.select_dtypes(['category']).describe().T"
   ]
  },
  {
   "cell_type": "markdown",
   "metadata": {},
   "source": []
  },
  {
   "cell_type": "markdown",
   "metadata": {},
   "source": [
    "### Check for columns for datetime "
   ]
  },
  {
   "cell_type": "code",
   "execution_count": 19,
   "metadata": {},
   "outputs": [],
   "source": [
    "# df.select_dtypes(include=['datetime64']).describe(datetime_is_numeric=True).T"
   ]
  },
  {
   "cell_type": "code",
   "execution_count": 20,
   "metadata": {},
   "outputs": [
    {
     "data": {
      "text/html": [
       "<div>\n",
       "<style scoped>\n",
       "    .dataframe tbody tr th:only-of-type {\n",
       "        vertical-align: middle;\n",
       "    }\n",
       "\n",
       "    .dataframe tbody tr th {\n",
       "        vertical-align: top;\n",
       "    }\n",
       "\n",
       "    .dataframe thead th {\n",
       "        text-align: right;\n",
       "    }\n",
       "</style>\n",
       "<table border=\"1\" class=\"dataframe\">\n",
       "  <thead>\n",
       "    <tr style=\"text-align: right;\">\n",
       "      <th></th>\n",
       "      <th>count</th>\n",
       "      <th>unique</th>\n",
       "      <th>top</th>\n",
       "      <th>freq</th>\n",
       "      <th>first</th>\n",
       "      <th>last</th>\n",
       "    </tr>\n",
       "  </thead>\n",
       "  <tbody>\n",
       "    <tr>\n",
       "      <th>cdc_case_earliest_dt</th>\n",
       "      <td>9504</td>\n",
       "      <td>322</td>\n",
       "      <td>2020-12-28</td>\n",
       "      <td>98</td>\n",
       "      <td>2020-02-17</td>\n",
       "      <td>2021-01-16</td>\n",
       "    </tr>\n",
       "    <tr>\n",
       "      <th>pos_spec_dt</th>\n",
       "      <td>2770</td>\n",
       "      <td>314</td>\n",
       "      <td>2020-12-14</td>\n",
       "      <td>32</td>\n",
       "      <td>2020-03-11</td>\n",
       "      <td>2021-01-25</td>\n",
       "    </tr>\n",
       "    <tr>\n",
       "      <th>onset_dt</th>\n",
       "      <td>5019</td>\n",
       "      <td>322</td>\n",
       "      <td>2020-11-30</td>\n",
       "      <td>48</td>\n",
       "      <td>2020-02-17</td>\n",
       "      <td>2021-01-16</td>\n",
       "    </tr>\n",
       "  </tbody>\n",
       "</table>\n",
       "</div>"
      ],
      "text/plain": [
       "                     count unique        top freq      first       last\n",
       "cdc_case_earliest_dt  9504    322 2020-12-28   98 2020-02-17 2021-01-16\n",
       "pos_spec_dt           2770    314 2020-12-14   32 2020-03-11 2021-01-25\n",
       "onset_dt              5019    322 2020-11-30   48 2020-02-17 2021-01-16"
      ]
     },
     "execution_count": 20,
     "metadata": {},
     "output_type": "execute_result"
    }
   ],
   "source": [
    "df.select_dtypes(include=['datetime64']).describe().T"
   ]
  },
  {
   "cell_type": "code",
   "execution_count": 21,
   "metadata": {},
   "outputs": [],
   "source": [
    "datetime_columns = df[['cdc_case_earliest_dt','pos_spec_dt','onset_dt']].columns\n",
    "\n",
    "for col in datetime_columns:\n",
    "    df[col] = pd.DatetimeIndex(df[col]).month\n",
    "#     df[col] = df[col].astype('int64')\n",
    "    df[col] = df[col].astype('category')\n",
    "\n"
   ]
  },
  {
   "cell_type": "markdown",
   "metadata": {},
   "source": [
    "### Combine datatime column with category column by grouping each column by month "
   ]
  },
  {
   "cell_type": "markdown",
   "metadata": {},
   "source": [
    "### Break down datetime into month\n",
    "\n",
    "- cdc_case_earliest_dt,cdc_report_dt,pos_spec_dt,onset_dt, all four coulmns show that it start at Feburary/ March and ends at Janurary. which last a year from 2020 to 2021. In order to further investigate the distribution of data with a year. Therefore, in this case, datetime will break down into month to examine the changes on that. "
   ]
  },
  {
   "cell_type": "code",
   "execution_count": 22,
   "metadata": {},
   "outputs": [
    {
     "data": {
      "text/html": [
       "<div>\n",
       "<style scoped>\n",
       "    .dataframe tbody tr th:only-of-type {\n",
       "        vertical-align: middle;\n",
       "    }\n",
       "\n",
       "    .dataframe tbody tr th {\n",
       "        vertical-align: top;\n",
       "    }\n",
       "\n",
       "    .dataframe thead th {\n",
       "        text-align: right;\n",
       "    }\n",
       "</style>\n",
       "<table border=\"1\" class=\"dataframe\">\n",
       "  <thead>\n",
       "    <tr style=\"text-align: right;\">\n",
       "      <th></th>\n",
       "      <th>count</th>\n",
       "      <th>unique</th>\n",
       "      <th>top</th>\n",
       "      <th>freq</th>\n",
       "    </tr>\n",
       "  </thead>\n",
       "  <tbody>\n",
       "    <tr>\n",
       "      <th>cdc_case_earliest_dt</th>\n",
       "      <td>9504</td>\n",
       "      <td>12</td>\n",
       "      <td>12</td>\n",
       "      <td>2177</td>\n",
       "    </tr>\n",
       "    <tr>\n",
       "      <th>pos_spec_dt</th>\n",
       "      <td>2770</td>\n",
       "      <td>11</td>\n",
       "      <td>11</td>\n",
       "      <td>483</td>\n",
       "    </tr>\n",
       "    <tr>\n",
       "      <th>onset_dt</th>\n",
       "      <td>5019</td>\n",
       "      <td>12</td>\n",
       "      <td>11</td>\n",
       "      <td>997</td>\n",
       "    </tr>\n",
       "    <tr>\n",
       "      <th>current_status</th>\n",
       "      <td>9504</td>\n",
       "      <td>2</td>\n",
       "      <td>Laboratory-confirmed case</td>\n",
       "      <td>8858</td>\n",
       "    </tr>\n",
       "    <tr>\n",
       "      <th>sex</th>\n",
       "      <td>9504</td>\n",
       "      <td>4</td>\n",
       "      <td>Female</td>\n",
       "      <td>5046</td>\n",
       "    </tr>\n",
       "    <tr>\n",
       "      <th>age_group</th>\n",
       "      <td>9504</td>\n",
       "      <td>10</td>\n",
       "      <td>20 - 29 Years</td>\n",
       "      <td>1778</td>\n",
       "    </tr>\n",
       "    <tr>\n",
       "      <th>race_ethnicity_combined</th>\n",
       "      <td>9504</td>\n",
       "      <td>9</td>\n",
       "      <td>Unknown</td>\n",
       "      <td>3653</td>\n",
       "    </tr>\n",
       "    <tr>\n",
       "      <th>hosp_yn</th>\n",
       "      <td>9504</td>\n",
       "      <td>5</td>\n",
       "      <td>No</td>\n",
       "      <td>5220</td>\n",
       "    </tr>\n",
       "    <tr>\n",
       "      <th>icu_yn</th>\n",
       "      <td>9504</td>\n",
       "      <td>4</td>\n",
       "      <td>Missing</td>\n",
       "      <td>7157</td>\n",
       "    </tr>\n",
       "    <tr>\n",
       "      <th>death_yn</th>\n",
       "      <td>9504</td>\n",
       "      <td>2</td>\n",
       "      <td>No</td>\n",
       "      <td>9165</td>\n",
       "    </tr>\n",
       "    <tr>\n",
       "      <th>medcond_yn</th>\n",
       "      <td>9504</td>\n",
       "      <td>4</td>\n",
       "      <td>Missing</td>\n",
       "      <td>7011</td>\n",
       "    </tr>\n",
       "  </tbody>\n",
       "</table>\n",
       "</div>"
      ],
      "text/plain": [
       "                        count unique                        top  freq\n",
       "cdc_case_earliest_dt     9504     12                         12  2177\n",
       "pos_spec_dt              2770     11                         11   483\n",
       "onset_dt                 5019     12                         11   997\n",
       "current_status           9504      2  Laboratory-confirmed case  8858\n",
       "sex                      9504      4                     Female  5046\n",
       "age_group                9504     10              20 - 29 Years  1778\n",
       "race_ethnicity_combined  9504      9                    Unknown  3653\n",
       "hosp_yn                  9504      5                         No  5220\n",
       "icu_yn                   9504      4                    Missing  7157\n",
       "death_yn                 9504      2                         No  9165\n",
       "medcond_yn               9504      4                    Missing  7011"
      ]
     },
     "execution_count": 22,
     "metadata": {},
     "output_type": "execute_result"
    }
   ],
   "source": [
    "# Print table with descriptive statistics for all the categorical features\n",
    "df.select_dtypes(include=['category']).describe().T"
   ]
  },
  {
   "cell_type": "markdown",
   "metadata": {},
   "source": [
    "**Categorical Data** - Reviewing the categorical data below we can see all unique values > 1, meaning no constant columns in categorical feature\n",
    "\n",
    "- *cdc_case_earliest_dt* has 12 unique value\n",
    "- *pos_spec_dt* has 11 unqiue value\n",
    "- *onset_dt* has 12 unqiue value\n",
    "- *current_status* has 2 unique values\n",
    "- *sex* has 4 unique values\n",
    "- *age_group* has 10 unique values\n",
    "- *race_ethnicity_combined* has 9 unique values\n",
    "- *hosp_yn* has 5 unique values\n",
    "- *icu_yn* has 4 unique values\n",
    "- *death_yn* has 2 unique values\n",
    "- *medcond_yn* has 4 unique values"
   ]
  },
  {
   "cell_type": "markdown",
   "metadata": {},
   "source": [
    "### Check for Null Values "
   ]
  },
  {
   "cell_type": "code",
   "execution_count": 23,
   "metadata": {},
   "outputs": [
    {
     "data": {
      "text/plain": [
       "cdc_case_earliest_dt          0\n",
       "pos_spec_dt                6734\n",
       "onset_dt                   4485\n",
       "current_status                0\n",
       "sex                           0\n",
       "age_group                     0\n",
       "race_ethnicity_combined       0\n",
       "hosp_yn                       0\n",
       "icu_yn                        0\n",
       "death_yn                      0\n",
       "medcond_yn                    0\n",
       "dtype: int64"
      ]
     },
     "execution_count": 23,
     "metadata": {},
     "output_type": "execute_result"
    }
   ],
   "source": [
    "#Missing data all features\n",
    "df.isnull().sum()"
   ]
  },
  {
   "cell_type": "markdown",
   "metadata": {},
   "source": [
    "**Result** - null values are found in two columns directly in the spreadsheet. \n",
    "There are 6734 and 4485 null values in column of ***pos_spec_dt*** and ***onset_dt*** \n",
    "- Other than that, we have to examine the if Null values are coded differently in this dataset. It could be that data is missing but it was not coded as Null in the original dataset."
   ]
  },
  {
   "cell_type": "code",
   "execution_count": 24,
   "metadata": {},
   "outputs": [
    {
     "data": {
      "text/html": [
       "<div>\n",
       "<style scoped>\n",
       "    .dataframe tbody tr th:only-of-type {\n",
       "        vertical-align: middle;\n",
       "    }\n",
       "\n",
       "    .dataframe tbody tr th {\n",
       "        vertical-align: top;\n",
       "    }\n",
       "\n",
       "    .dataframe thead th {\n",
       "        text-align: right;\n",
       "    }\n",
       "</style>\n",
       "<table border=\"1\" class=\"dataframe\">\n",
       "  <thead>\n",
       "    <tr style=\"text-align: right;\">\n",
       "      <th></th>\n",
       "      <th>cdc_case_earliest_dt</th>\n",
       "      <th>pos_spec_dt</th>\n",
       "      <th>onset_dt</th>\n",
       "    </tr>\n",
       "  </thead>\n",
       "  <tbody>\n",
       "    <tr>\n",
       "      <th>0</th>\n",
       "      <td>10</td>\n",
       "      <td>NaN</td>\n",
       "      <td>NaN</td>\n",
       "    </tr>\n",
       "    <tr>\n",
       "      <th>1</th>\n",
       "      <td>1</td>\n",
       "      <td>NaN</td>\n",
       "      <td>NaN</td>\n",
       "    </tr>\n",
       "    <tr>\n",
       "      <th>2</th>\n",
       "      <td>10</td>\n",
       "      <td>10.0</td>\n",
       "      <td>10.0</td>\n",
       "    </tr>\n",
       "    <tr>\n",
       "      <th>3</th>\n",
       "      <td>7</td>\n",
       "      <td>NaN</td>\n",
       "      <td>NaN</td>\n",
       "    </tr>\n",
       "    <tr>\n",
       "      <th>4</th>\n",
       "      <td>10</td>\n",
       "      <td>NaN</td>\n",
       "      <td>10.0</td>\n",
       "    </tr>\n",
       "    <tr>\n",
       "      <th>...</th>\n",
       "      <td>...</td>\n",
       "      <td>...</td>\n",
       "      <td>...</td>\n",
       "    </tr>\n",
       "    <tr>\n",
       "      <th>9995</th>\n",
       "      <td>6</td>\n",
       "      <td>6.0</td>\n",
       "      <td>NaN</td>\n",
       "    </tr>\n",
       "    <tr>\n",
       "      <th>9996</th>\n",
       "      <td>5</td>\n",
       "      <td>NaN</td>\n",
       "      <td>5.0</td>\n",
       "    </tr>\n",
       "    <tr>\n",
       "      <th>9997</th>\n",
       "      <td>5</td>\n",
       "      <td>NaN</td>\n",
       "      <td>5.0</td>\n",
       "    </tr>\n",
       "    <tr>\n",
       "      <th>9998</th>\n",
       "      <td>1</td>\n",
       "      <td>NaN</td>\n",
       "      <td>NaN</td>\n",
       "    </tr>\n",
       "    <tr>\n",
       "      <th>9999</th>\n",
       "      <td>5</td>\n",
       "      <td>NaN</td>\n",
       "      <td>5.0</td>\n",
       "    </tr>\n",
       "  </tbody>\n",
       "</table>\n",
       "<p>9504 rows × 3 columns</p>\n",
       "</div>"
      ],
      "text/plain": [
       "     cdc_case_earliest_dt pos_spec_dt onset_dt\n",
       "0                      10         NaN      NaN\n",
       "1                       1         NaN      NaN\n",
       "2                      10        10.0     10.0\n",
       "3                       7         NaN      NaN\n",
       "4                      10         NaN     10.0\n",
       "...                   ...         ...      ...\n",
       "9995                    6         6.0      NaN\n",
       "9996                    5         NaN      5.0\n",
       "9997                    5         NaN      5.0\n",
       "9998                    1         NaN      NaN\n",
       "9999                    5         NaN      5.0\n",
       "\n",
       "[9504 rows x 3 columns]"
      ]
     },
     "execution_count": 24,
     "metadata": {},
     "output_type": "execute_result"
    }
   ],
   "source": [
    "df[datetime_columns]"
   ]
  },
  {
   "cell_type": "code",
   "execution_count": 25,
   "metadata": {},
   "outputs": [
    {
     "data": {
      "text/html": [
       "<div>\n",
       "<style scoped>\n",
       "    .dataframe tbody tr th:only-of-type {\n",
       "        vertical-align: middle;\n",
       "    }\n",
       "\n",
       "    .dataframe tbody tr th {\n",
       "        vertical-align: top;\n",
       "    }\n",
       "\n",
       "    .dataframe thead th {\n",
       "        text-align: right;\n",
       "    }\n",
       "</style>\n",
       "<table border=\"1\" class=\"dataframe\">\n",
       "  <thead>\n",
       "    <tr style=\"text-align: right;\">\n",
       "      <th></th>\n",
       "      <th>%missing</th>\n",
       "    </tr>\n",
       "  </thead>\n",
       "  <tbody>\n",
       "    <tr>\n",
       "      <th>cdc_case_earliest_dt</th>\n",
       "      <td>0.000000</td>\n",
       "    </tr>\n",
       "    <tr>\n",
       "      <th>pos_spec_dt</th>\n",
       "      <td>70.854377</td>\n",
       "    </tr>\n",
       "    <tr>\n",
       "      <th>onset_dt</th>\n",
       "      <td>47.190657</td>\n",
       "    </tr>\n",
       "  </tbody>\n",
       "</table>\n",
       "</div>"
      ],
      "text/plain": [
       "                       %missing\n",
       "cdc_case_earliest_dt   0.000000\n",
       "pos_spec_dt           70.854377\n",
       "onset_dt              47.190657"
      ]
     },
     "execution_count": 25,
     "metadata": {},
     "output_type": "execute_result"
    }
   ],
   "source": [
    "# Prepare %missing column\n",
    "datetime_columns_missing  = 100 * (df[datetime_columns].isnull().sum()/df.shape[0])\n",
    "# store the values in a dataframe\n",
    "df_datetime_columns = pd.DataFrame(datetime_columns_missing, columns=['%missing'])\n",
    "df_datetime_columns"
   ]
  },
  {
   "cell_type": "markdown",
   "metadata": {},
   "source": [
    "### Result \n",
    "*onset_dt* *onset_dt* have around 70% and 47% missing value, meaning majority of data in resspective column is missing. Further examinsation needed. "
   ]
  },
  {
   "cell_type": "markdown",
   "metadata": {},
   "source": [
    "### Check for value that is missing but has coded differently in spreadsheet"
   ]
  },
  {
   "cell_type": "code",
   "execution_count": 26,
   "metadata": {},
   "outputs": [
    {
     "name": "stdout",
     "output_type": "stream",
     "text": [
      "\n",
      "current_status\n",
      "Laboratory-confirmed case    8858\n",
      "Probable Case                 646\n",
      "Name: current_status, dtype: int64\n",
      "\n",
      "sex\n",
      "Female     5046\n",
      "Male       4377\n",
      "Unknown      66\n",
      "Missing      15\n",
      "Name: sex, dtype: int64\n",
      "\n",
      "age_group\n",
      "20 - 29 Years    1778\n",
      "30 - 39 Years    1489\n",
      "40 - 49 Years    1378\n",
      "50 - 59 Years    1290\n",
      "60 - 69 Years    1023\n",
      "10 - 19 Years    1015\n",
      "70 - 79 Years     568\n",
      "80+ Years         497\n",
      "0 - 9 Years       453\n",
      "Missing            13\n",
      "Name: age_group, dtype: int64\n",
      "\n",
      "race_ethnicity_combined\n",
      "Unknown                                                 3653\n",
      "White, Non-Hispanic                                     3290\n",
      "Hispanic/Latino                                          975\n",
      "Black, Non-Hispanic                                      698\n",
      "Multiple/Other, Non-Hispanic                             490\n",
      "Asian, Non-Hispanic                                      229\n",
      "Missing                                                   88\n",
      "American Indian/Alaska Native, Non-Hispanic               61\n",
      "Native Hawaiian/Other Pacific Islander, Non-Hispanic      20\n",
      "Name: race_ethnicity_combined, dtype: int64\n",
      "\n",
      "hosp_yn\n",
      "No         5220\n",
      "Missing    2078\n",
      "Unknown    1536\n",
      "Yes         669\n",
      "OTH           1\n",
      "Name: hosp_yn, dtype: int64\n",
      "\n",
      "icu_yn\n",
      "Missing    7157\n",
      "Unknown    1297\n",
      "No          968\n",
      "Yes          82\n",
      "Name: icu_yn, dtype: int64\n",
      "\n",
      "death_yn\n",
      "No     9165\n",
      "Yes     339\n",
      "Name: death_yn, dtype: int64\n",
      "\n",
      "medcond_yn\n",
      "Missing    7011\n",
      "No          953\n",
      "Yes         820\n",
      "Unknown     720\n",
      "Name: medcond_yn, dtype: int64\n"
     ]
    }
   ],
   "source": [
    "# Look at the values taken by each categorical feature, including the NaN values.\n",
    "for column in categorical_columns:\n",
    "    print(\"\\n\" + column)\n",
    "    print(df[column].value_counts(dropna=False))"
   ]
  },
  {
   "cell_type": "markdown",
   "metadata": {},
   "source": [
    "<!-- - 'Missing' value in the columns above delievered the same meaning as NaN. So will convert value with 'Missing'' with NaN for consistency.  -->"
   ]
  },
  {
   "cell_type": "code",
   "execution_count": 27,
   "metadata": {},
   "outputs": [],
   "source": [
    "for column in categorical_columns:\n",
    "    df[column] = df[column].replace('Missing',np.nan)\n"
   ]
  },
  {
   "cell_type": "code",
   "execution_count": 28,
   "metadata": {},
   "outputs": [
    {
     "data": {
      "text/html": [
       "<div>\n",
       "<style scoped>\n",
       "    .dataframe tbody tr th:only-of-type {\n",
       "        vertical-align: middle;\n",
       "    }\n",
       "\n",
       "    .dataframe tbody tr th {\n",
       "        vertical-align: top;\n",
       "    }\n",
       "\n",
       "    .dataframe thead th {\n",
       "        text-align: right;\n",
       "    }\n",
       "</style>\n",
       "<table border=\"1\" class=\"dataframe\">\n",
       "  <thead>\n",
       "    <tr style=\"text-align: right;\">\n",
       "      <th></th>\n",
       "      <th>%missing</th>\n",
       "    </tr>\n",
       "  </thead>\n",
       "  <tbody>\n",
       "    <tr>\n",
       "      <th>current_status</th>\n",
       "      <td>0.000000</td>\n",
       "    </tr>\n",
       "    <tr>\n",
       "      <th>sex</th>\n",
       "      <td>0.157828</td>\n",
       "    </tr>\n",
       "    <tr>\n",
       "      <th>age_group</th>\n",
       "      <td>0.136785</td>\n",
       "    </tr>\n",
       "    <tr>\n",
       "      <th>race_ethnicity_combined</th>\n",
       "      <td>0.925926</td>\n",
       "    </tr>\n",
       "    <tr>\n",
       "      <th>hosp_yn</th>\n",
       "      <td>21.864478</td>\n",
       "    </tr>\n",
       "    <tr>\n",
       "      <th>icu_yn</th>\n",
       "      <td>75.305135</td>\n",
       "    </tr>\n",
       "    <tr>\n",
       "      <th>death_yn</th>\n",
       "      <td>0.000000</td>\n",
       "    </tr>\n",
       "    <tr>\n",
       "      <th>medcond_yn</th>\n",
       "      <td>73.768939</td>\n",
       "    </tr>\n",
       "  </tbody>\n",
       "</table>\n",
       "</div>"
      ],
      "text/plain": [
       "                          %missing\n",
       "current_status            0.000000\n",
       "sex                       0.157828\n",
       "age_group                 0.136785\n",
       "race_ethnicity_combined   0.925926\n",
       "hosp_yn                  21.864478\n",
       "icu_yn                   75.305135\n",
       "death_yn                  0.000000\n",
       "medcond_yn               73.768939"
      ]
     },
     "execution_count": 28,
     "metadata": {},
     "output_type": "execute_result"
    }
   ],
   "source": [
    "# Prepare %missing column\n",
    "categorical_columns_missing  = 100 * (df[categorical_columns].isnull().sum()/df.shape[0])\n",
    "# store the values in a dataframe\n",
    "df_categorical_columns = pd.DataFrame(categorical_columns_missing, columns=['%missing'])\n",
    "df_categorical_columns"
   ]
  },
  {
   "cell_type": "markdown",
   "metadata": {},
   "source": [
    "### - Save your updated/cleaned data frame to a new csv file."
   ]
  },
  {
   "cell_type": "code",
   "execution_count": 29,
   "metadata": {},
   "outputs": [],
   "source": [
    "# Write the dataframe to a csv file\n",
    "df.to_csv('covid19_cdc_cleaned.csv', index = False)"
   ]
  },
  {
   "cell_type": "markdown",
   "metadata": {},
   "source": [
    "### - Prepare a table with descriptive statistics for all the categorical features.\n",
    "\n",
    "Of the categorical features, we already know:\n",
    "- The type of data for each\n",
    "\n",
    "We now supplement this information with the following\n",
    "- Feature cardinality"
   ]
  },
  {
   "cell_type": "code",
   "execution_count": 30,
   "metadata": {},
   "outputs": [
    {
     "name": "stdout",
     "output_type": "stream",
     "text": [
      "\n",
      "current_status\n",
      "Laboratory-confirmed case    8858\n",
      "Probable Case                 646\n",
      "Name: current_status, dtype: int64\n",
      "\n",
      "sex\n",
      "Female     5046\n",
      "Male       4377\n",
      "Unknown      66\n",
      "Name: sex, dtype: int64\n",
      "\n",
      "age_group\n",
      "20 - 29 Years    1778\n",
      "30 - 39 Years    1489\n",
      "40 - 49 Years    1378\n",
      "50 - 59 Years    1290\n",
      "60 - 69 Years    1023\n",
      "10 - 19 Years    1015\n",
      "70 - 79 Years     568\n",
      "80+ Years         497\n",
      "0 - 9 Years       453\n",
      "Name: age_group, dtype: int64\n",
      "\n",
      "race_ethnicity_combined\n",
      "Unknown                                                 3653\n",
      "White, Non-Hispanic                                     3290\n",
      "Hispanic/Latino                                          975\n",
      "Black, Non-Hispanic                                      698\n",
      "Multiple/Other, Non-Hispanic                             490\n",
      "Asian, Non-Hispanic                                      229\n",
      "American Indian/Alaska Native, Non-Hispanic               61\n",
      "Native Hawaiian/Other Pacific Islander, Non-Hispanic      20\n",
      "Name: race_ethnicity_combined, dtype: int64\n",
      "\n",
      "hosp_yn\n",
      "No         5220\n",
      "Unknown    1536\n",
      "Yes         669\n",
      "OTH           1\n",
      "Name: hosp_yn, dtype: int64\n",
      "\n",
      "icu_yn\n",
      "Unknown    1297\n",
      "No          968\n",
      "Yes          82\n",
      "Name: icu_yn, dtype: int64\n",
      "\n",
      "death_yn\n",
      "No     9165\n",
      "Yes     339\n",
      "Name: death_yn, dtype: int64\n",
      "\n",
      "medcond_yn\n",
      "No         953\n",
      "Yes        820\n",
      "Unknown    720\n",
      "Name: medcond_yn, dtype: int64\n"
     ]
    }
   ],
   "source": [
    "# Look at the values taken by each categorical feature, excluding the NaN values.\n",
    "for column in categorical_columns:\n",
    "    print(\"\\n\" + column)\n",
    "    print(df[column].value_counts())"
   ]
  },
  {
   "cell_type": "code",
   "execution_count": 31,
   "metadata": {},
   "outputs": [
    {
     "name": "stdout",
     "output_type": "stream",
     "text": [
      "\n",
      "current_status\n",
      "Laboratory-confirmed case    0.932029\n",
      "Probable Case                0.067971\n",
      "Name: current_status, dtype: float64\n",
      "\n",
      "sex\n",
      "Female     0.531774\n",
      "Male       0.461271\n",
      "Unknown    0.006955\n",
      "Name: sex, dtype: float64\n",
      "\n",
      "age_group\n",
      "20 - 29 Years    0.187335\n",
      "30 - 39 Years    0.156885\n",
      "40 - 49 Years    0.145190\n",
      "50 - 59 Years    0.135918\n",
      "60 - 69 Years    0.107786\n",
      "10 - 19 Years    0.106943\n",
      "70 - 79 Years    0.059846\n",
      "80+ Years        0.052365\n",
      "0 - 9 Years      0.047729\n",
      "Name: age_group, dtype: float64\n",
      "\n",
      "race_ethnicity_combined\n",
      "Unknown                                                 0.387957\n",
      "White, Non-Hispanic                                     0.349405\n",
      "Hispanic/Latino                                         0.103547\n",
      "Black, Non-Hispanic                                     0.074129\n",
      "Multiple/Other, Non-Hispanic                            0.052039\n",
      "Asian, Non-Hispanic                                     0.024320\n",
      "American Indian/Alaska Native, Non-Hispanic             0.006478\n",
      "Native Hawaiian/Other Pacific Islander, Non-Hispanic    0.002124\n",
      "Name: race_ethnicity_combined, dtype: float64\n",
      "\n",
      "hosp_yn\n",
      "No         0.702936\n",
      "Unknown    0.206841\n",
      "Yes        0.090089\n",
      "OTH        0.000135\n",
      "Name: hosp_yn, dtype: float64\n",
      "\n",
      "icu_yn\n",
      "Unknown    0.552620\n",
      "No         0.412441\n",
      "Yes        0.034938\n",
      "Name: icu_yn, dtype: float64\n",
      "\n",
      "death_yn\n",
      "No     0.964331\n",
      "Yes    0.035669\n",
      "Name: death_yn, dtype: float64\n",
      "\n",
      "medcond_yn\n",
      "No         0.382270\n",
      "Yes        0.328921\n",
      "Unknown    0.288809\n",
      "Name: medcond_yn, dtype: float64\n"
     ]
    }
   ],
   "source": [
    "# Look at the values taken by each categorical feature, as a proportion\n",
    "for column in categorical_columns:\n",
    "    print(\"\\n\" + column)\n",
    "    print(df[column].value_counts(normalize=True))"
   ]
  },
  {
   "cell_type": "code",
   "execution_count": 32,
   "metadata": {},
   "outputs": [
    {
     "data": {
      "text/html": [
       "<div>\n",
       "<style scoped>\n",
       "    .dataframe tbody tr th:only-of-type {\n",
       "        vertical-align: middle;\n",
       "    }\n",
       "\n",
       "    .dataframe tbody tr th {\n",
       "        vertical-align: top;\n",
       "    }\n",
       "\n",
       "    .dataframe thead th {\n",
       "        text-align: right;\n",
       "    }\n",
       "</style>\n",
       "<table border=\"1\" class=\"dataframe\">\n",
       "  <thead>\n",
       "    <tr style=\"text-align: right;\">\n",
       "      <th></th>\n",
       "      <th>mode</th>\n",
       "      <th>freq_mode</th>\n",
       "      <th>%mode</th>\n",
       "      <th>2ndmode</th>\n",
       "      <th>freq_2ndmode</th>\n",
       "      <th>%2ndmode</th>\n",
       "    </tr>\n",
       "  </thead>\n",
       "  <tbody>\n",
       "    <tr>\n",
       "      <th>current_status</th>\n",
       "      <td>NaN</td>\n",
       "      <td>NaN</td>\n",
       "      <td>NaN</td>\n",
       "      <td>NaN</td>\n",
       "      <td>NaN</td>\n",
       "      <td>NaN</td>\n",
       "    </tr>\n",
       "    <tr>\n",
       "      <th>sex</th>\n",
       "      <td>NaN</td>\n",
       "      <td>NaN</td>\n",
       "      <td>NaN</td>\n",
       "      <td>NaN</td>\n",
       "      <td>NaN</td>\n",
       "      <td>NaN</td>\n",
       "    </tr>\n",
       "    <tr>\n",
       "      <th>age_group</th>\n",
       "      <td>NaN</td>\n",
       "      <td>NaN</td>\n",
       "      <td>NaN</td>\n",
       "      <td>NaN</td>\n",
       "      <td>NaN</td>\n",
       "      <td>NaN</td>\n",
       "    </tr>\n",
       "    <tr>\n",
       "      <th>race_ethnicity_combined</th>\n",
       "      <td>NaN</td>\n",
       "      <td>NaN</td>\n",
       "      <td>NaN</td>\n",
       "      <td>NaN</td>\n",
       "      <td>NaN</td>\n",
       "      <td>NaN</td>\n",
       "    </tr>\n",
       "    <tr>\n",
       "      <th>hosp_yn</th>\n",
       "      <td>NaN</td>\n",
       "      <td>NaN</td>\n",
       "      <td>NaN</td>\n",
       "      <td>NaN</td>\n",
       "      <td>NaN</td>\n",
       "      <td>NaN</td>\n",
       "    </tr>\n",
       "    <tr>\n",
       "      <th>icu_yn</th>\n",
       "      <td>NaN</td>\n",
       "      <td>NaN</td>\n",
       "      <td>NaN</td>\n",
       "      <td>NaN</td>\n",
       "      <td>NaN</td>\n",
       "      <td>NaN</td>\n",
       "    </tr>\n",
       "    <tr>\n",
       "      <th>death_yn</th>\n",
       "      <td>NaN</td>\n",
       "      <td>NaN</td>\n",
       "      <td>NaN</td>\n",
       "      <td>NaN</td>\n",
       "      <td>NaN</td>\n",
       "      <td>NaN</td>\n",
       "    </tr>\n",
       "    <tr>\n",
       "      <th>medcond_yn</th>\n",
       "      <td>NaN</td>\n",
       "      <td>NaN</td>\n",
       "      <td>NaN</td>\n",
       "      <td>NaN</td>\n",
       "      <td>NaN</td>\n",
       "      <td>NaN</td>\n",
       "    </tr>\n",
       "  </tbody>\n",
       "</table>\n",
       "</div>"
      ],
      "text/plain": [
       "                        mode freq_mode %mode 2ndmode freq_2ndmode %2ndmode\n",
       "current_status           NaN       NaN   NaN     NaN          NaN      NaN\n",
       "sex                      NaN       NaN   NaN     NaN          NaN      NaN\n",
       "age_group                NaN       NaN   NaN     NaN          NaN      NaN\n",
       "race_ethnicity_combined  NaN       NaN   NaN     NaN          NaN      NaN\n",
       "hosp_yn                  NaN       NaN   NaN     NaN          NaN      NaN\n",
       "icu_yn                   NaN       NaN   NaN     NaN          NaN      NaN\n",
       "death_yn                 NaN       NaN   NaN     NaN          NaN      NaN\n",
       "medcond_yn               NaN       NaN   NaN     NaN          NaN      NaN"
      ]
     },
     "execution_count": 32,
     "metadata": {},
     "output_type": "execute_result"
    }
   ],
   "source": [
    "# store the 2ndmode and 2ndmode % values in a new dataframe\n",
    "df_category_mode = pd.DataFrame(index = categorical_columns, columns=['mode', 'freq_mode','%mode', '2ndmode', 'freq_2ndmode','%2ndmode'])\n",
    "df_category_mode"
   ]
  },
  {
   "cell_type": "code",
   "execution_count": 33,
   "metadata": {},
   "outputs": [
    {
     "name": "stdout",
     "output_type": "stream",
     "text": [
      "\n",
      "current_status\n",
      "Laboratory-confirmed case    8858\n",
      "Probable Case                 646\n",
      "Name: current_status, dtype: int64\n",
      "CategoricalIndex(['Laboratory-confirmed case', 'Probable Case'], categories=['Laboratory-confirmed case', 'Probable Case'], ordered=False, dtype='category')\n",
      "\n",
      "sex\n",
      "Female     5046\n",
      "Male       4377\n",
      "Unknown      66\n",
      "Name: sex, dtype: int64\n",
      "CategoricalIndex(['Female', 'Male', 'Unknown'], categories=['Female', 'Male', 'Unknown'], ordered=False, dtype='category')\n",
      "\n",
      "age_group\n",
      "20 - 29 Years    1778\n",
      "30 - 39 Years    1489\n",
      "40 - 49 Years    1378\n",
      "50 - 59 Years    1290\n",
      "60 - 69 Years    1023\n",
      "10 - 19 Years    1015\n",
      "70 - 79 Years     568\n",
      "80+ Years         497\n",
      "0 - 9 Years       453\n",
      "Name: age_group, dtype: int64\n",
      "CategoricalIndex(['20 - 29 Years', '30 - 39 Years', '40 - 49 Years',\n",
      "                  '50 - 59 Years', '60 - 69 Years', '10 - 19 Years',\n",
      "                  '70 - 79 Years', '80+ Years', '0 - 9 Years'],\n",
      "                 categories=['0 - 9 Years', '10 - 19 Years', '20 - 29 Years', '30 - 39 Years', '40 - 49 Years', '50 - 59 Years', '60 - 69 Years', '70 - 79 Years', ...], ordered=False, dtype='category')\n",
      "\n",
      "race_ethnicity_combined\n",
      "Unknown                                                 3653\n",
      "White, Non-Hispanic                                     3290\n",
      "Hispanic/Latino                                          975\n",
      "Black, Non-Hispanic                                      698\n",
      "Multiple/Other, Non-Hispanic                             490\n",
      "Asian, Non-Hispanic                                      229\n",
      "American Indian/Alaska Native, Non-Hispanic               61\n",
      "Native Hawaiian/Other Pacific Islander, Non-Hispanic      20\n",
      "Name: race_ethnicity_combined, dtype: int64\n",
      "CategoricalIndex(['Unknown', 'White, Non-Hispanic', 'Hispanic/Latino',\n",
      "                  'Black, Non-Hispanic', 'Multiple/Other, Non-Hispanic',\n",
      "                  'Asian, Non-Hispanic',\n",
      "                  'American Indian/Alaska Native, Non-Hispanic',\n",
      "                  'Native Hawaiian/Other Pacific Islander, Non-Hispanic'],\n",
      "                 categories=['American Indian/Alaska Native, Non-Hispanic', 'Asian, Non-Hispanic', 'Black, Non-Hispanic', 'Hispanic/Latino', 'Multiple/Other, Non-Hispanic', 'Native Hawaiian/Other Pacific Islander, Non-Hispanic', 'Unknown', 'White, Non-Hispanic'], ordered=False, dtype='category')\n",
      "\n",
      "hosp_yn\n",
      "No         5220\n",
      "Unknown    1536\n",
      "Yes         669\n",
      "OTH           1\n",
      "Name: hosp_yn, dtype: int64\n",
      "CategoricalIndex(['No', 'Unknown', 'Yes', 'OTH'], categories=['No', 'OTH', 'Unknown', 'Yes'], ordered=False, dtype='category')\n",
      "\n",
      "icu_yn\n",
      "Unknown    1297\n",
      "No          968\n",
      "Yes          82\n",
      "Name: icu_yn, dtype: int64\n",
      "CategoricalIndex(['Unknown', 'No', 'Yes'], categories=['No', 'Unknown', 'Yes'], ordered=False, dtype='category')\n",
      "\n",
      "death_yn\n",
      "No     9165\n",
      "Yes     339\n",
      "Name: death_yn, dtype: int64\n",
      "CategoricalIndex(['No', 'Yes'], categories=['No', 'Yes'], ordered=False, dtype='category')\n",
      "\n",
      "medcond_yn\n",
      "No         953\n",
      "Yes        820\n",
      "Unknown    720\n",
      "Name: medcond_yn, dtype: int64\n",
      "CategoricalIndex(['No', 'Yes', 'Unknown'], categories=['No', 'Unknown', 'Yes'], ordered=False, dtype='category')\n"
     ]
    }
   ],
   "source": [
    "# Look at the values taken by each categorical feature\n",
    "for column in categorical_columns:\n",
    "    print(\"\\n\" + column)\n",
    "    print(df[column].value_counts())\n",
    "    print(df[column].value_counts().keys())\n",
    "    \n",
    "    df_category_mode.loc[column]['mode'] = df[column].value_counts().keys()[0]\n",
    "    df_category_mode.loc[column]['freq_mode'] = df[column].value_counts()[df_category_mode.loc[column]['mode']]\n",
    "    df_category_mode.loc[column]['%mode'] = df[column].value_counts(normalize=True)[df_category_mode.loc[column]['mode']]\n",
    " \n",
    "\n",
    "    if df[column].value_counts().size > 1:\n",
    "        df_category_mode.loc[column]['2ndmode'] = df[column].value_counts().keys()[1]\n",
    "        df_category_mode.loc[column]['freq_2ndmode'] = df[column].value_counts()[df_category_mode.loc[column]['2ndmode']]\n",
    "        df_category_mode.loc[column]['%2ndmode'] = df[column].value_counts(normalize=True)[df_category_mode.loc[column]['2ndmode']]\n",
    "    else: df_category_mode.loc[column] = '-'"
   ]
  },
  {
   "cell_type": "code",
   "execution_count": 34,
   "metadata": {},
   "outputs": [
    {
     "data": {
      "text/html": [
       "<div>\n",
       "<style scoped>\n",
       "    .dataframe tbody tr th:only-of-type {\n",
       "        vertical-align: middle;\n",
       "    }\n",
       "\n",
       "    .dataframe tbody tr th {\n",
       "        vertical-align: top;\n",
       "    }\n",
       "\n",
       "    .dataframe thead th {\n",
       "        text-align: right;\n",
       "    }\n",
       "</style>\n",
       "<table border=\"1\" class=\"dataframe\">\n",
       "  <thead>\n",
       "    <tr style=\"text-align: right;\">\n",
       "      <th></th>\n",
       "      <th>mode</th>\n",
       "      <th>freq_mode</th>\n",
       "      <th>%mode</th>\n",
       "      <th>2ndmode</th>\n",
       "      <th>freq_2ndmode</th>\n",
       "      <th>%2ndmode</th>\n",
       "    </tr>\n",
       "  </thead>\n",
       "  <tbody>\n",
       "    <tr>\n",
       "      <th>current_status</th>\n",
       "      <td>Laboratory-confirmed case</td>\n",
       "      <td>8858</td>\n",
       "      <td>0.932029</td>\n",
       "      <td>Probable Case</td>\n",
       "      <td>646</td>\n",
       "      <td>0.0679714</td>\n",
       "    </tr>\n",
       "    <tr>\n",
       "      <th>sex</th>\n",
       "      <td>Female</td>\n",
       "      <td>5046</td>\n",
       "      <td>0.531774</td>\n",
       "      <td>Male</td>\n",
       "      <td>4377</td>\n",
       "      <td>0.461271</td>\n",
       "    </tr>\n",
       "    <tr>\n",
       "      <th>age_group</th>\n",
       "      <td>20 - 29 Years</td>\n",
       "      <td>1778</td>\n",
       "      <td>0.187335</td>\n",
       "      <td>30 - 39 Years</td>\n",
       "      <td>1489</td>\n",
       "      <td>0.156885</td>\n",
       "    </tr>\n",
       "    <tr>\n",
       "      <th>race_ethnicity_combined</th>\n",
       "      <td>Unknown</td>\n",
       "      <td>3653</td>\n",
       "      <td>0.387957</td>\n",
       "      <td>White, Non-Hispanic</td>\n",
       "      <td>3290</td>\n",
       "      <td>0.349405</td>\n",
       "    </tr>\n",
       "    <tr>\n",
       "      <th>hosp_yn</th>\n",
       "      <td>No</td>\n",
       "      <td>5220</td>\n",
       "      <td>0.702936</td>\n",
       "      <td>Unknown</td>\n",
       "      <td>1536</td>\n",
       "      <td>0.206841</td>\n",
       "    </tr>\n",
       "    <tr>\n",
       "      <th>icu_yn</th>\n",
       "      <td>Unknown</td>\n",
       "      <td>1297</td>\n",
       "      <td>0.55262</td>\n",
       "      <td>No</td>\n",
       "      <td>968</td>\n",
       "      <td>0.412441</td>\n",
       "    </tr>\n",
       "    <tr>\n",
       "      <th>death_yn</th>\n",
       "      <td>No</td>\n",
       "      <td>9165</td>\n",
       "      <td>0.964331</td>\n",
       "      <td>Yes</td>\n",
       "      <td>339</td>\n",
       "      <td>0.0356692</td>\n",
       "    </tr>\n",
       "    <tr>\n",
       "      <th>medcond_yn</th>\n",
       "      <td>No</td>\n",
       "      <td>953</td>\n",
       "      <td>0.38227</td>\n",
       "      <td>Yes</td>\n",
       "      <td>820</td>\n",
       "      <td>0.328921</td>\n",
       "    </tr>\n",
       "  </tbody>\n",
       "</table>\n",
       "</div>"
      ],
      "text/plain": [
       "                                              mode freq_mode     %mode  \\\n",
       "current_status           Laboratory-confirmed case      8858  0.932029   \n",
       "sex                                         Female      5046  0.531774   \n",
       "age_group                            20 - 29 Years      1778  0.187335   \n",
       "race_ethnicity_combined                    Unknown      3653  0.387957   \n",
       "hosp_yn                                         No      5220  0.702936   \n",
       "icu_yn                                     Unknown      1297   0.55262   \n",
       "death_yn                                        No      9165  0.964331   \n",
       "medcond_yn                                      No       953   0.38227   \n",
       "\n",
       "                                     2ndmode freq_2ndmode   %2ndmode  \n",
       "current_status                 Probable Case          646  0.0679714  \n",
       "sex                                     Male         4377   0.461271  \n",
       "age_group                      30 - 39 Years         1489   0.156885  \n",
       "race_ethnicity_combined  White, Non-Hispanic         3290   0.349405  \n",
       "hosp_yn                              Unknown         1536   0.206841  \n",
       "icu_yn                                    No          968   0.412441  \n",
       "death_yn                                 Yes          339  0.0356692  \n",
       "medcond_yn                               Yes          820   0.328921  "
      ]
     },
     "execution_count": 34,
     "metadata": {},
     "output_type": "execute_result"
    }
   ],
   "source": [
    "df_category_mode"
   ]
  },
  {
   "cell_type": "code",
   "execution_count": 35,
   "metadata": {},
   "outputs": [],
   "source": [
    "#should wait after initial data \n",
    "for column in categorical_columns:\n",
    "    df[column] = df[column].replace('Missing',np.nan)"
   ]
  },
  {
   "cell_type": "code",
   "execution_count": 36,
   "metadata": {},
   "outputs": [
    {
     "data": {
      "text/html": [
       "<div>\n",
       "<style scoped>\n",
       "    .dataframe tbody tr th:only-of-type {\n",
       "        vertical-align: middle;\n",
       "    }\n",
       "\n",
       "    .dataframe tbody tr th {\n",
       "        vertical-align: top;\n",
       "    }\n",
       "\n",
       "    .dataframe thead th {\n",
       "        text-align: right;\n",
       "    }\n",
       "</style>\n",
       "<table border=\"1\" class=\"dataframe\">\n",
       "  <thead>\n",
       "    <tr style=\"text-align: right;\">\n",
       "      <th></th>\n",
       "      <th>%missing</th>\n",
       "    </tr>\n",
       "  </thead>\n",
       "  <tbody>\n",
       "    <tr>\n",
       "      <th>cdc_case_earliest_dt</th>\n",
       "      <td>0.000000</td>\n",
       "    </tr>\n",
       "    <tr>\n",
       "      <th>pos_spec_dt</th>\n",
       "      <td>70.854377</td>\n",
       "    </tr>\n",
       "    <tr>\n",
       "      <th>onset_dt</th>\n",
       "      <td>47.190657</td>\n",
       "    </tr>\n",
       "    <tr>\n",
       "      <th>current_status</th>\n",
       "      <td>0.000000</td>\n",
       "    </tr>\n",
       "    <tr>\n",
       "      <th>sex</th>\n",
       "      <td>0.157828</td>\n",
       "    </tr>\n",
       "    <tr>\n",
       "      <th>age_group</th>\n",
       "      <td>0.136785</td>\n",
       "    </tr>\n",
       "    <tr>\n",
       "      <th>race_ethnicity_combined</th>\n",
       "      <td>0.925926</td>\n",
       "    </tr>\n",
       "    <tr>\n",
       "      <th>hosp_yn</th>\n",
       "      <td>21.864478</td>\n",
       "    </tr>\n",
       "    <tr>\n",
       "      <th>icu_yn</th>\n",
       "      <td>75.305135</td>\n",
       "    </tr>\n",
       "    <tr>\n",
       "      <th>death_yn</th>\n",
       "      <td>0.000000</td>\n",
       "    </tr>\n",
       "    <tr>\n",
       "      <th>medcond_yn</th>\n",
       "      <td>73.768939</td>\n",
       "    </tr>\n",
       "  </tbody>\n",
       "</table>\n",
       "</div>"
      ],
      "text/plain": [
       "                          %missing\n",
       "cdc_case_earliest_dt      0.000000\n",
       "pos_spec_dt              70.854377\n",
       "onset_dt                 47.190657\n",
       "current_status            0.000000\n",
       "sex                       0.157828\n",
       "age_group                 0.136785\n",
       "race_ethnicity_combined   0.925926\n",
       "hosp_yn                  21.864478\n",
       "icu_yn                   75.305135\n",
       "death_yn                  0.000000\n",
       "medcond_yn               73.768939"
      ]
     },
     "execution_count": 36,
     "metadata": {},
     "output_type": "execute_result"
    }
   ],
   "source": [
    "# Prepare %missing column\n",
    "df_columns_missing  = 100 * (df.isnull().sum()/df.shape[0])\n",
    "# store the values in a dataframe\n",
    "df_columns = pd.DataFrame(df_columns_missing, columns=['%missing'])\n",
    "df_columns"
   ]
  },
  {
   "cell_type": "code",
   "execution_count": 37,
   "metadata": {},
   "outputs": [
    {
     "data": {
      "text/plain": [
       "cdc_case_earliest_dt       12\n",
       "pos_spec_dt                11\n",
       "onset_dt                   12\n",
       "current_status              2\n",
       "sex                         3\n",
       "age_group                   9\n",
       "race_ethnicity_combined     8\n",
       "hosp_yn                     4\n",
       "icu_yn                      3\n",
       "death_yn                    2\n",
       "medcond_yn                  3\n",
       "dtype: int64"
      ]
     },
     "execution_count": 37,
     "metadata": {},
     "output_type": "execute_result"
    }
   ],
   "source": [
    "# A way to get the number of unique values for all features\n",
    "df.nunique()"
   ]
  },
  {
   "cell_type": "markdown",
   "metadata": {},
   "source": [
    "### Check for Irregular cardinalities & permitted values"
   ]
  },
  {
   "cell_type": "code",
   "execution_count": 38,
   "metadata": {},
   "outputs": [
    {
     "name": "stdout",
     "output_type": "stream",
     "text": [
      "Unique values for:\n",
      "cdc_case_earliest_dt: [10, 1, 7, 8, 9, ..., 5, 4, 11, 6, 2]\n",
      "Length: 12\n",
      "Categories (12, int64): [10, 1, 7, 8, ..., 4, 11, 6, 2]\n",
      "pos_spec_dt: [NaN, 10.0, 8.0, 9.0, 3.0, ..., 11.0, 1.0, 6.0, 7.0, 4.0]\n",
      "Length: 12\n",
      "Categories (11, float64): [10.0, 8.0, 9.0, 3.0, ..., 1.0, 6.0, 7.0, 4.0]\n",
      "onset_dt: [NaN, 10.0, 9.0, 12.0, 3.0, ..., 7.0, 8.0, 5.0, 6.0, 2.0]\n",
      "Length: 13\n",
      "Categories (12, float64): [10.0, 9.0, 12.0, 3.0, ..., 8.0, 5.0, 6.0, 2.0]\n",
      "current_status: [Laboratory-confirmed case, Probable Case]\n",
      "Categories (2, object): [Laboratory-confirmed case, Probable Case]\n",
      "sex: [Male, Female, Unknown, NaN]\n",
      "Categories (3, object): [Male, Female, Unknown]\n",
      "age_group: [20 - 29 Years, 0 - 9 Years, 30 - 39 Years, 50 - 59 Years, 70 - 79 Years, 10 - 19 Years, 60 - 69 Years, 40 - 49 Years, 80+ Years, NaN]\n",
      "Categories (9, object): [20 - 29 Years, 0 - 9 Years, 30 - 39 Years, 50 - 59 Years, ..., 10 - 19 Years, 60 - 69 Years, 40 - 49 Years, 80+ Years]\n",
      "race_ethnicity_combined: [Unknown, Multiple/Other, Non-Hispanic, White, Non-Hispanic, Hispanic/Latino, Black, Non-Hispanic, Asian, Non-Hispanic, NaN, American Indian/Alaska Native, Non-Hispanic, Native Hawaiian/Other Pacific Islander, Non-Hi...]\n",
      "Categories (8, object): [Unknown, Multiple/Other, Non-Hispanic, White, Non-Hispanic, Hispanic/Latino, Black, Non-Hispanic, Asian, Non-Hispanic, American Indian/Alaska Native, Non-Hispanic, Native Hawaiian/Other Pacific Islander, Non-Hi...]\n",
      "hosp_yn: [NaN, No, Yes, Unknown, OTH]\n",
      "Categories (4, object): [No, Yes, Unknown, OTH]\n",
      "icu_yn: [NaN, Unknown, No, Yes]\n",
      "Categories (3, object): [Unknown, No, Yes]\n",
      "death_yn: [No, Yes]\n",
      "Categories (2, object): [No, Yes]\n",
      "medcond_yn: [NaN, Unknown, No, Yes]\n",
      "Categories (3, object): [Unknown, No, Yes]\n"
     ]
    }
   ],
   "source": [
    "\n",
    "# Check for irregular cardinality & permitted values in categorical features. \n",
    "print(\"Unique values for:\\ncdc_case_earliest_dt:\", pd.unique(df[\"cdc_case_earliest_dt\"].ravel()))\n",
    "print(\"pos_spec_dt:\", pd.unique(df[\"pos_spec_dt\"].ravel()))\n",
    "print(\"onset_dt:\", pd.unique(df[\"onset_dt\"].ravel()))\n",
    "\n",
    "print(\"current_status:\", pd.unique(df[\"current_status\"].ravel()))\n",
    "print(\"sex:\", pd.unique(df[\"sex\"].ravel()))\n",
    "print(\"age_group:\", pd.unique(df[\"age_group\"].ravel()))\n",
    "print(\"race_ethnicity_combined:\", pd.unique(df[\"race_ethnicity_combined\"].ravel()))\n",
    "print(\"hosp_yn:\", pd.unique(df[\"hosp_yn\"].ravel()))\n",
    "print(\"icu_yn:\", pd.unique(df[\"icu_yn\"].ravel()))\n",
    "print(\"death_yn:\", pd.unique(df[\"death_yn\"].ravel()))\n",
    "print(\"medcond_yn:\", pd.unique(df[\"medcond_yn\"].ravel()))"
   ]
  },
  {
   "cell_type": "markdown",
   "metadata": {},
   "source": [
    "Regular Cardinalities found for columns **sex, race_ethnicity_combined, hosp_yn, icu_yn & medcond_yn** . The values that appear seem to be in the permitted range.\n"
   ]
  },
  {
   "cell_type": "markdown",
   "metadata": {},
   "source": [
    "### Check for exact unknown values"
   ]
  },
  {
   "cell_type": "code",
   "execution_count": 39,
   "metadata": {},
   "outputs": [
    {
     "data": {
      "text/plain": [
       "Female     5046\n",
       "Male       4377\n",
       "Unknown      66\n",
       "Name: sex, dtype: int64"
      ]
     },
     "execution_count": 39,
     "metadata": {},
     "output_type": "execute_result"
    }
   ],
   "source": [
    "df['sex'].value_counts()"
   ]
  },
  {
   "cell_type": "code",
   "execution_count": 40,
   "metadata": {},
   "outputs": [
    {
     "data": {
      "text/plain": [
       "Unknown                                                 3653\n",
       "White, Non-Hispanic                                     3290\n",
       "Hispanic/Latino                                          975\n",
       "Black, Non-Hispanic                                      698\n",
       "Multiple/Other, Non-Hispanic                             490\n",
       "Asian, Non-Hispanic                                      229\n",
       "American Indian/Alaska Native, Non-Hispanic               61\n",
       "Native Hawaiian/Other Pacific Islander, Non-Hispanic      20\n",
       "Name: race_ethnicity_combined, dtype: int64"
      ]
     },
     "execution_count": 40,
     "metadata": {},
     "output_type": "execute_result"
    }
   ],
   "source": [
    "df['race_ethnicity_combined'].value_counts()"
   ]
  },
  {
   "cell_type": "code",
   "execution_count": 41,
   "metadata": {},
   "outputs": [
    {
     "data": {
      "text/plain": [
       "No         5220\n",
       "Unknown    1536\n",
       "Yes         669\n",
       "OTH           1\n",
       "Name: hosp_yn, dtype: int64"
      ]
     },
     "execution_count": 41,
     "metadata": {},
     "output_type": "execute_result"
    }
   ],
   "source": [
    "df['hosp_yn'].value_counts()"
   ]
  },
  {
   "cell_type": "code",
   "execution_count": 42,
   "metadata": {},
   "outputs": [
    {
     "data": {
      "text/plain": [
       "Unknown    1297\n",
       "No          968\n",
       "Yes          82\n",
       "Name: icu_yn, dtype: int64"
      ]
     },
     "execution_count": 42,
     "metadata": {},
     "output_type": "execute_result"
    }
   ],
   "source": [
    "df['icu_yn'].value_counts()"
   ]
  },
  {
   "cell_type": "code",
   "execution_count": 43,
   "metadata": {},
   "outputs": [
    {
     "data": {
      "text/plain": [
       "No         953\n",
       "Yes        820\n",
       "Unknown    720\n",
       "Name: medcond_yn, dtype: int64"
      ]
     },
     "execution_count": 43,
     "metadata": {},
     "output_type": "execute_result"
    }
   ],
   "source": [
    "df['medcond_yn'].value_counts()"
   ]
  },
  {
   "cell_type": "code",
   "execution_count": 44,
   "metadata": {},
   "outputs": [
    {
     "data": {
      "text/plain": [
       "cdc_case_earliest_dt       category\n",
       "pos_spec_dt                category\n",
       "onset_dt                   category\n",
       "current_status             category\n",
       "sex                        category\n",
       "age_group                  category\n",
       "race_ethnicity_combined    category\n",
       "hosp_yn                    category\n",
       "icu_yn                     category\n",
       "death_yn                   category\n",
       "medcond_yn                 category\n",
       "dtype: object"
      ]
     },
     "execution_count": 44,
     "metadata": {},
     "output_type": "execute_result"
    }
   ],
   "source": [
    "df.dtypes"
   ]
  },
  {
   "cell_type": "markdown",
   "metadata": {},
   "source": [
    "### Check logical integrity of data \n",
    "A number of additional checks will be performed to see if the data makes sense. Depending on the amount of data affected we may decide to drop those rows or replace the values upon consultation with a domain expert."
   ]
  },
  {
   "cell_type": "markdown",
   "metadata": {},
   "source": [
    "- Test 1 check if any patient who have not hospitalized but have admitted to ICU (impossible)\n",
    "Patient hospitalized \n",
    "Patient admitted to ICU "
   ]
  },
  {
   "cell_type": "code",
   "execution_count": 45,
   "metadata": {},
   "outputs": [
    {
     "name": "stdout",
     "output_type": "stream",
     "text": [
      "Number of rows failing the test:  0\n"
     ]
    },
    {
     "data": {
      "text/html": [
       "<div>\n",
       "<style scoped>\n",
       "    .dataframe tbody tr th:only-of-type {\n",
       "        vertical-align: middle;\n",
       "    }\n",
       "\n",
       "    .dataframe tbody tr th {\n",
       "        vertical-align: top;\n",
       "    }\n",
       "\n",
       "    .dataframe thead th {\n",
       "        text-align: right;\n",
       "    }\n",
       "</style>\n",
       "<table border=\"1\" class=\"dataframe\">\n",
       "  <thead>\n",
       "    <tr style=\"text-align: right;\">\n",
       "      <th></th>\n",
       "      <th>hosp_yn</th>\n",
       "      <th>icu_yn</th>\n",
       "    </tr>\n",
       "  </thead>\n",
       "  <tbody>\n",
       "  </tbody>\n",
       "</table>\n",
       "</div>"
      ],
      "text/plain": [
       "Empty DataFrame\n",
       "Columns: [hosp_yn, icu_yn]\n",
       "Index: []"
      ]
     },
     "execution_count": 45,
     "metadata": {},
     "output_type": "execute_result"
    }
   ],
   "source": [
    "test_1 = df[['hosp_yn','icu_yn']][df['hosp_yn']=='No'][df[\"icu_yn\"] == 'Yes']\n",
    "print(\"Number of rows failing the test: \", test_1.shape[0])\n",
    "test_1.head(20)"
   ]
  },
  {
   "cell_type": "markdown",
   "metadata": {},
   "source": [
    "- Test 2 check if any patient who have not hospitalized but have admitted to ICU (impossible) Patient hospitalized Patient admitted to ICU"
   ]
  },
  {
   "cell_type": "code",
   "execution_count": 46,
   "metadata": {},
   "outputs": [
    {
     "name": "stdout",
     "output_type": "stream",
     "text": [
      "Number of rows failing the test:  5\n"
     ]
    },
    {
     "data": {
      "text/html": [
       "<div>\n",
       "<style scoped>\n",
       "    .dataframe tbody tr th:only-of-type {\n",
       "        vertical-align: middle;\n",
       "    }\n",
       "\n",
       "    .dataframe tbody tr th {\n",
       "        vertical-align: top;\n",
       "    }\n",
       "\n",
       "    .dataframe thead th {\n",
       "        text-align: right;\n",
       "    }\n",
       "</style>\n",
       "<table border=\"1\" class=\"dataframe\">\n",
       "  <thead>\n",
       "    <tr style=\"text-align: right;\">\n",
       "      <th></th>\n",
       "      <th>hosp_yn</th>\n",
       "      <th>icu_yn</th>\n",
       "    </tr>\n",
       "  </thead>\n",
       "  <tbody>\n",
       "    <tr>\n",
       "      <th>914</th>\n",
       "      <td>NaN</td>\n",
       "      <td>No</td>\n",
       "    </tr>\n",
       "    <tr>\n",
       "      <th>1637</th>\n",
       "      <td>NaN</td>\n",
       "      <td>No</td>\n",
       "    </tr>\n",
       "    <tr>\n",
       "      <th>1874</th>\n",
       "      <td>NaN</td>\n",
       "      <td>No</td>\n",
       "    </tr>\n",
       "    <tr>\n",
       "      <th>2735</th>\n",
       "      <td>NaN</td>\n",
       "      <td>No</td>\n",
       "    </tr>\n",
       "    <tr>\n",
       "      <th>5890</th>\n",
       "      <td>NaN</td>\n",
       "      <td>No</td>\n",
       "    </tr>\n",
       "  </tbody>\n",
       "</table>\n",
       "</div>"
      ],
      "text/plain": [
       "     hosp_yn icu_yn\n",
       "914      NaN     No\n",
       "1637     NaN     No\n",
       "1874     NaN     No\n",
       "2735     NaN     No\n",
       "5890     NaN     No"
      ]
     },
     "execution_count": 46,
     "metadata": {},
     "output_type": "execute_result"
    }
   ],
   "source": [
    "test_2 = df[['hosp_yn','icu_yn']][df['hosp_yn'].isnull()][df[\"icu_yn\"] == 'No']\n",
    "print(\"Number of rows failing the test: \", test_2.shape[0])\n",
    "test_2.head(20)"
   ]
  },
  {
   "cell_type": "code",
   "execution_count": 47,
   "metadata": {},
   "outputs": [
    {
     "name": "stdout",
     "output_type": "stream",
     "text": [
      "Number of rows failing the test:  0\n"
     ]
    },
    {
     "data": {
      "text/html": [
       "<div>\n",
       "<style scoped>\n",
       "    .dataframe tbody tr th:only-of-type {\n",
       "        vertical-align: middle;\n",
       "    }\n",
       "\n",
       "    .dataframe tbody tr th {\n",
       "        vertical-align: top;\n",
       "    }\n",
       "\n",
       "    .dataframe thead th {\n",
       "        text-align: right;\n",
       "    }\n",
       "</style>\n",
       "<table border=\"1\" class=\"dataframe\">\n",
       "  <thead>\n",
       "    <tr style=\"text-align: right;\">\n",
       "      <th></th>\n",
       "      <th>hosp_yn</th>\n",
       "      <th>icu_yn</th>\n",
       "    </tr>\n",
       "  </thead>\n",
       "  <tbody>\n",
       "  </tbody>\n",
       "</table>\n",
       "</div>"
      ],
      "text/plain": [
       "Empty DataFrame\n",
       "Columns: [hosp_yn, icu_yn]\n",
       "Index: []"
      ]
     },
     "execution_count": 47,
     "metadata": {},
     "output_type": "execute_result"
    }
   ],
   "source": [
    "test_3 = df[['hosp_yn','icu_yn']][df['hosp_yn'].isnull()][df[\"icu_yn\"] == 'Yes']\n",
    "print(\"Number of rows failing the test: \", test_3.shape[0])\n",
    "test_3.head(20)"
   ]
  },
  {
   "cell_type": "code",
   "execution_count": 48,
   "metadata": {},
   "outputs": [
    {
     "name": "stdout",
     "output_type": "stream",
     "text": [
      "Number of rows failing the test:  200\n"
     ]
    },
    {
     "data": {
      "text/html": [
       "<div>\n",
       "<style scoped>\n",
       "    .dataframe tbody tr th:only-of-type {\n",
       "        vertical-align: middle;\n",
       "    }\n",
       "\n",
       "    .dataframe tbody tr th {\n",
       "        vertical-align: top;\n",
       "    }\n",
       "\n",
       "    .dataframe thead th {\n",
       "        text-align: right;\n",
       "    }\n",
       "</style>\n",
       "<table border=\"1\" class=\"dataframe\">\n",
       "  <thead>\n",
       "    <tr style=\"text-align: right;\">\n",
       "      <th></th>\n",
       "      <th>death_yn</th>\n",
       "      <th>onset_dt</th>\n",
       "    </tr>\n",
       "  </thead>\n",
       "  <tbody>\n",
       "    <tr>\n",
       "      <th>22</th>\n",
       "      <td>Yes</td>\n",
       "      <td>NaN</td>\n",
       "    </tr>\n",
       "    <tr>\n",
       "      <th>92</th>\n",
       "      <td>Yes</td>\n",
       "      <td>NaN</td>\n",
       "    </tr>\n",
       "    <tr>\n",
       "      <th>124</th>\n",
       "      <td>Yes</td>\n",
       "      <td>NaN</td>\n",
       "    </tr>\n",
       "    <tr>\n",
       "      <th>160</th>\n",
       "      <td>Yes</td>\n",
       "      <td>NaN</td>\n",
       "    </tr>\n",
       "    <tr>\n",
       "      <th>265</th>\n",
       "      <td>Yes</td>\n",
       "      <td>NaN</td>\n",
       "    </tr>\n",
       "    <tr>\n",
       "      <th>296</th>\n",
       "      <td>Yes</td>\n",
       "      <td>NaN</td>\n",
       "    </tr>\n",
       "    <tr>\n",
       "      <th>333</th>\n",
       "      <td>Yes</td>\n",
       "      <td>NaN</td>\n",
       "    </tr>\n",
       "    <tr>\n",
       "      <th>339</th>\n",
       "      <td>Yes</td>\n",
       "      <td>NaN</td>\n",
       "    </tr>\n",
       "    <tr>\n",
       "      <th>355</th>\n",
       "      <td>Yes</td>\n",
       "      <td>NaN</td>\n",
       "    </tr>\n",
       "    <tr>\n",
       "      <th>358</th>\n",
       "      <td>Yes</td>\n",
       "      <td>NaN</td>\n",
       "    </tr>\n",
       "    <tr>\n",
       "      <th>402</th>\n",
       "      <td>Yes</td>\n",
       "      <td>NaN</td>\n",
       "    </tr>\n",
       "    <tr>\n",
       "      <th>407</th>\n",
       "      <td>Yes</td>\n",
       "      <td>NaN</td>\n",
       "    </tr>\n",
       "    <tr>\n",
       "      <th>495</th>\n",
       "      <td>Yes</td>\n",
       "      <td>NaN</td>\n",
       "    </tr>\n",
       "    <tr>\n",
       "      <th>524</th>\n",
       "      <td>Yes</td>\n",
       "      <td>NaN</td>\n",
       "    </tr>\n",
       "    <tr>\n",
       "      <th>589</th>\n",
       "      <td>Yes</td>\n",
       "      <td>NaN</td>\n",
       "    </tr>\n",
       "    <tr>\n",
       "      <th>641</th>\n",
       "      <td>Yes</td>\n",
       "      <td>NaN</td>\n",
       "    </tr>\n",
       "    <tr>\n",
       "      <th>662</th>\n",
       "      <td>Yes</td>\n",
       "      <td>NaN</td>\n",
       "    </tr>\n",
       "    <tr>\n",
       "      <th>725</th>\n",
       "      <td>Yes</td>\n",
       "      <td>NaN</td>\n",
       "    </tr>\n",
       "    <tr>\n",
       "      <th>910</th>\n",
       "      <td>Yes</td>\n",
       "      <td>NaN</td>\n",
       "    </tr>\n",
       "    <tr>\n",
       "      <th>994</th>\n",
       "      <td>Yes</td>\n",
       "      <td>NaN</td>\n",
       "    </tr>\n",
       "  </tbody>\n",
       "</table>\n",
       "</div>"
      ],
      "text/plain": [
       "    death_yn onset_dt\n",
       "22       Yes      NaN\n",
       "92       Yes      NaN\n",
       "124      Yes      NaN\n",
       "160      Yes      NaN\n",
       "265      Yes      NaN\n",
       "296      Yes      NaN\n",
       "333      Yes      NaN\n",
       "339      Yes      NaN\n",
       "355      Yes      NaN\n",
       "358      Yes      NaN\n",
       "402      Yes      NaN\n",
       "407      Yes      NaN\n",
       "495      Yes      NaN\n",
       "524      Yes      NaN\n",
       "589      Yes      NaN\n",
       "641      Yes      NaN\n",
       "662      Yes      NaN\n",
       "725      Yes      NaN\n",
       "910      Yes      NaN\n",
       "994      Yes      NaN"
      ]
     },
     "execution_count": 48,
     "metadata": {},
     "output_type": "execute_result"
    }
   ],
   "source": [
    "test_4 = df[['death_yn','onset_dt']][df['death_yn']=='Yes'][df[\"onset_dt\"].isnull()]\n",
    "print(\"Number of rows failing the test: \", test_4.shape[0])\n",
    "test_4.head(20)"
   ]
  },
  {
   "cell_type": "markdown",
   "metadata": {},
   "source": [
    "- Test 5"
   ]
  },
  {
   "cell_type": "code",
   "execution_count": 49,
   "metadata": {},
   "outputs": [
    {
     "name": "stdout",
     "output_type": "stream",
     "text": [
      "Number of rows failing the test:  226\n"
     ]
    },
    {
     "data": {
      "text/html": [
       "<div>\n",
       "<style scoped>\n",
       "    .dataframe tbody tr th:only-of-type {\n",
       "        vertical-align: middle;\n",
       "    }\n",
       "\n",
       "    .dataframe tbody tr th {\n",
       "        vertical-align: top;\n",
       "    }\n",
       "\n",
       "    .dataframe thead th {\n",
       "        text-align: right;\n",
       "    }\n",
       "</style>\n",
       "<table border=\"1\" class=\"dataframe\">\n",
       "  <thead>\n",
       "    <tr style=\"text-align: right;\">\n",
       "      <th></th>\n",
       "      <th>death_yn</th>\n",
       "      <th>pos_spec_dt</th>\n",
       "    </tr>\n",
       "  </thead>\n",
       "  <tbody>\n",
       "    <tr>\n",
       "      <th>20</th>\n",
       "      <td>Yes</td>\n",
       "      <td>NaN</td>\n",
       "    </tr>\n",
       "    <tr>\n",
       "      <th>22</th>\n",
       "      <td>Yes</td>\n",
       "      <td>NaN</td>\n",
       "    </tr>\n",
       "    <tr>\n",
       "      <th>65</th>\n",
       "      <td>Yes</td>\n",
       "      <td>NaN</td>\n",
       "    </tr>\n",
       "    <tr>\n",
       "      <th>92</th>\n",
       "      <td>Yes</td>\n",
       "      <td>NaN</td>\n",
       "    </tr>\n",
       "    <tr>\n",
       "      <th>124</th>\n",
       "      <td>Yes</td>\n",
       "      <td>NaN</td>\n",
       "    </tr>\n",
       "    <tr>\n",
       "      <th>...</th>\n",
       "      <td>...</td>\n",
       "      <td>...</td>\n",
       "    </tr>\n",
       "    <tr>\n",
       "      <th>3922</th>\n",
       "      <td>Yes</td>\n",
       "      <td>NaN</td>\n",
       "    </tr>\n",
       "    <tr>\n",
       "      <th>4029</th>\n",
       "      <td>Yes</td>\n",
       "      <td>NaN</td>\n",
       "    </tr>\n",
       "    <tr>\n",
       "      <th>4033</th>\n",
       "      <td>Yes</td>\n",
       "      <td>NaN</td>\n",
       "    </tr>\n",
       "    <tr>\n",
       "      <th>4102</th>\n",
       "      <td>Yes</td>\n",
       "      <td>NaN</td>\n",
       "    </tr>\n",
       "    <tr>\n",
       "      <th>4106</th>\n",
       "      <td>Yes</td>\n",
       "      <td>NaN</td>\n",
       "    </tr>\n",
       "  </tbody>\n",
       "</table>\n",
       "<p>83 rows × 2 columns</p>\n",
       "</div>"
      ],
      "text/plain": [
       "     death_yn pos_spec_dt\n",
       "20        Yes         NaN\n",
       "22        Yes         NaN\n",
       "65        Yes         NaN\n",
       "92        Yes         NaN\n",
       "124       Yes         NaN\n",
       "...       ...         ...\n",
       "3922      Yes         NaN\n",
       "4029      Yes         NaN\n",
       "4033      Yes         NaN\n",
       "4102      Yes         NaN\n",
       "4106      Yes         NaN\n",
       "\n",
       "[83 rows x 2 columns]"
      ]
     },
     "execution_count": 49,
     "metadata": {},
     "output_type": "execute_result"
    }
   ],
   "source": [
    "test_5 = df[['death_yn','pos_spec_dt']][df['death_yn']=='Yes'][df['pos_spec_dt'].isnull()]\n",
    "print(\"Number of rows failing the test: \", test_5.shape[0])\n",
    "test_5.head(83)"
   ]
  },
  {
   "cell_type": "markdown",
   "metadata": {},
   "source": [
    "- Test 6"
   ]
  },
  {
   "cell_type": "code",
   "execution_count": 50,
   "metadata": {},
   "outputs": [
    {
     "name": "stdout",
     "output_type": "stream",
     "text": [
      "Number of rows failing the test:  3743\n"
     ]
    },
    {
     "data": {
      "text/html": [
       "<div>\n",
       "<style scoped>\n",
       "    .dataframe tbody tr th:only-of-type {\n",
       "        vertical-align: middle;\n",
       "    }\n",
       "\n",
       "    .dataframe tbody tr th {\n",
       "        vertical-align: top;\n",
       "    }\n",
       "\n",
       "    .dataframe thead th {\n",
       "        text-align: right;\n",
       "    }\n",
       "</style>\n",
       "<table border=\"1\" class=\"dataframe\">\n",
       "  <thead>\n",
       "    <tr style=\"text-align: right;\">\n",
       "      <th></th>\n",
       "      <th>hosp_yn</th>\n",
       "      <th>icu_yn</th>\n",
       "    </tr>\n",
       "  </thead>\n",
       "  <tbody>\n",
       "    <tr>\n",
       "      <th>1</th>\n",
       "      <td>No</td>\n",
       "      <td>NaN</td>\n",
       "    </tr>\n",
       "    <tr>\n",
       "      <th>4</th>\n",
       "      <td>No</td>\n",
       "      <td>NaN</td>\n",
       "    </tr>\n",
       "    <tr>\n",
       "      <th>8</th>\n",
       "      <td>No</td>\n",
       "      <td>NaN</td>\n",
       "    </tr>\n",
       "    <tr>\n",
       "      <th>21</th>\n",
       "      <td>No</td>\n",
       "      <td>NaN</td>\n",
       "    </tr>\n",
       "    <tr>\n",
       "      <th>22</th>\n",
       "      <td>No</td>\n",
       "      <td>NaN</td>\n",
       "    </tr>\n",
       "    <tr>\n",
       "      <th>34</th>\n",
       "      <td>No</td>\n",
       "      <td>NaN</td>\n",
       "    </tr>\n",
       "    <tr>\n",
       "      <th>35</th>\n",
       "      <td>No</td>\n",
       "      <td>NaN</td>\n",
       "    </tr>\n",
       "    <tr>\n",
       "      <th>43</th>\n",
       "      <td>No</td>\n",
       "      <td>NaN</td>\n",
       "    </tr>\n",
       "    <tr>\n",
       "      <th>44</th>\n",
       "      <td>No</td>\n",
       "      <td>NaN</td>\n",
       "    </tr>\n",
       "    <tr>\n",
       "      <th>49</th>\n",
       "      <td>No</td>\n",
       "      <td>NaN</td>\n",
       "    </tr>\n",
       "    <tr>\n",
       "      <th>50</th>\n",
       "      <td>No</td>\n",
       "      <td>NaN</td>\n",
       "    </tr>\n",
       "    <tr>\n",
       "      <th>51</th>\n",
       "      <td>No</td>\n",
       "      <td>NaN</td>\n",
       "    </tr>\n",
       "    <tr>\n",
       "      <th>52</th>\n",
       "      <td>No</td>\n",
       "      <td>NaN</td>\n",
       "    </tr>\n",
       "    <tr>\n",
       "      <th>55</th>\n",
       "      <td>No</td>\n",
       "      <td>NaN</td>\n",
       "    </tr>\n",
       "    <tr>\n",
       "      <th>57</th>\n",
       "      <td>No</td>\n",
       "      <td>NaN</td>\n",
       "    </tr>\n",
       "    <tr>\n",
       "      <th>58</th>\n",
       "      <td>No</td>\n",
       "      <td>NaN</td>\n",
       "    </tr>\n",
       "    <tr>\n",
       "      <th>62</th>\n",
       "      <td>No</td>\n",
       "      <td>NaN</td>\n",
       "    </tr>\n",
       "    <tr>\n",
       "      <th>64</th>\n",
       "      <td>No</td>\n",
       "      <td>NaN</td>\n",
       "    </tr>\n",
       "    <tr>\n",
       "      <th>65</th>\n",
       "      <td>No</td>\n",
       "      <td>NaN</td>\n",
       "    </tr>\n",
       "    <tr>\n",
       "      <th>68</th>\n",
       "      <td>No</td>\n",
       "      <td>NaN</td>\n",
       "    </tr>\n",
       "  </tbody>\n",
       "</table>\n",
       "</div>"
      ],
      "text/plain": [
       "   hosp_yn icu_yn\n",
       "1       No    NaN\n",
       "4       No    NaN\n",
       "8       No    NaN\n",
       "21      No    NaN\n",
       "22      No    NaN\n",
       "34      No    NaN\n",
       "35      No    NaN\n",
       "43      No    NaN\n",
       "44      No    NaN\n",
       "49      No    NaN\n",
       "50      No    NaN\n",
       "51      No    NaN\n",
       "52      No    NaN\n",
       "55      No    NaN\n",
       "57      No    NaN\n",
       "58      No    NaN\n",
       "62      No    NaN\n",
       "64      No    NaN\n",
       "65      No    NaN\n",
       "68      No    NaN"
      ]
     },
     "execution_count": 50,
     "metadata": {},
     "output_type": "execute_result"
    }
   ],
   "source": [
    "test_6 = df[['hosp_yn','icu_yn']][df['hosp_yn'] == 'No'][df[\"icu_yn\"].isnull()]\n",
    "print(\"Number of rows failing the test: \", test_6.shape[0])\n",
    "test_6.head(20)"
   ]
  },
  {
   "cell_type": "markdown",
   "metadata": {},
   "source": [
    "### - Plot bar plots individual sheet for all the categorical features.\n"
   ]
  },
  {
   "cell_type": "code",
   "execution_count": 51,
   "metadata": {},
   "outputs": [
    {
     "data": {
      "image/png": "[encoded data removed]",
      "text/plain": [
       "<Figure size 864x720 with 1 Axes>"
      ]
     },
     "metadata": {
      "needs_background": "light"
     },
     "output_type": "display_data"
    },
    {
     "data": {
      "image/png": "[encoded data removed]",
      "text/plain": [
       "<Figure size 864x720 with 1 Axes>"
      ]
     },
     "metadata": {
      "needs_background": "light"
     },
     "output_type": "display_data"
    },
    {
     "data": {
      "image/png": "[encoded data removed]",
      "text/plain": [
       "<Figure size 864x720 with 1 Axes>"
      ]
     },
     "metadata": {
      "needs_background": "light"
     },
     "output_type": "display_data"
    }
   ],
   "source": [
    "# Plot bar plots for all the catagorical features and save them in a single PDF file\n",
    "with PdfPages('categorical_barplots_1-1.pdf') as pp:\n",
    "    for col in datetime_columns:\n",
    "        f = df[col].value_counts().plot(kind='bar', figsize=(12,10))\n",
    "        plt.title(col)\n",
    "        plt.ylabel('total number of cdc case earliest cases')\n",
    "        pp.savefig(f.get_figure())\n",
    "        plt.show()"
   ]
  },
  {
   "cell_type": "code",
   "execution_count": 52,
   "metadata": {},
   "outputs": [
    {
     "data": {
      "image/png": "[encoded data removed]",
      "text/plain": [
       "<Figure size 864x864 with 1 Axes>"
      ]
     },
     "metadata": {
      "needs_background": "light"
     },
     "output_type": "display_data"
    },
    {
     "data": {
      "image/png": "[encoded data removed]",
      "text/plain": [
       "<Figure size 864x864 with 1 Axes>"
      ]
     },
     "metadata": {
      "needs_background": "light"
     },
     "output_type": "display_data"
    },
    {
     "data": {
      "image/png": "[encoded data removed]",
      "text/plain": [
       "<Figure size 864x864 with 1 Axes>"
      ]
     },
     "metadata": {
      "needs_background": "light"
     },
     "output_type": "display_data"
    },
    {
     "data": {
      "image/png": "[encoded data removed]",
      "text/plain": [
       "<Figure size 864x864 with 1 Axes>"
      ]
     },
     "metadata": {
      "needs_background": "light"
     },
     "output_type": "display_data"
    },
    {
     "data": {
      "image/png": "[encoded data removed]",
      "text/plain": [
       "<Figure size 864x864 with 1 Axes>"
      ]
     },
     "metadata": {
      "needs_background": "light"
     },
     "output_type": "display_data"
    },
    {
     "data": {
      "image/png": "[encoded data removed]",
      "text/plain": [
       "<Figure size 864x864 with 1 Axes>"
      ]
     },
     "metadata": {
      "needs_background": "light"
     },
     "output_type": "display_data"
    },
    {
     "data": {
      "image/png": "[encoded data removed]",
      "text/plain": [
       "<Figure size 864x864 with 1 Axes>"
      ]
     },
     "metadata": {
      "needs_background": "light"
     },
     "output_type": "display_data"
    },
    {
     "data": {
      "image/png": "[encoded data removed]",
      "text/plain": [
       "<Figure size 864x864 with 1 Axes>"
      ]
     },
     "metadata": {
      "needs_background": "light"
     },
     "output_type": "display_data"
    }
   ],
   "source": [
    "with PdfPages('categorical_barplots_1-2.pdf') as pp:\n",
    "    for col in categorical_columns:\n",
    "        f = df[col].value_counts().plot(kind='bar', figsize=(12,12))\n",
    "        plt.title(col)\n",
    "        plt.ylabel('number of people')\n",
    "        pp.savefig(f.get_figure())\n",
    "        plt.show()"
   ]
  },
  {
   "cell_type": "markdown",
   "metadata": {},
   "source": [
    "# (2) Prepare a data quality plan for the cleaned CSV file. "
   ]
  },
  {
   "cell_type": "markdown",
   "metadata": {},
   "source": [
    "### - Mark down all the features where there are potential problems or data quality issues."
   ]
  },
  {
   "cell_type": "markdown",
   "metadata": {},
   "source": [
    "The initial list of issues as identified in the **Data_Quality_Report_Initial_Findings.pdf**, plus some issues with object type of features:\n",
    "\n",
    "**large missing value** \n",
    "\n",
    "- sex has missing value for 15.\n",
    "\n",
    "- age_group has missing value for 13\n",
    "\n",
    "- pos_spec_dt has a large missing percentage 70.854377%, null value count for 6734 out of 9504\n",
    "\n",
    "- onset_dt has a large missing percentage 47.190657%, null value count for 4485 out of 9504\n",
    "\n",
    "- hosp_yn has a large missing percentage 21.864478%, null value count for 2078 out of 9504\n",
    "\n",
    "- icu_yn has a large missing percentage 75.305135%, null value count for 7157 out of 9504\n",
    "\n",
    "- medcond_yn has a large missing percentage 73.768939%, null value count for 7011 out of 9504\n",
    "\n",
    "**unknown value**\n",
    "- sex is Unknown for 66\n",
    "\n",
    "- race_ethnicity_combined is Unknown for 3653\n",
    "\n",
    "- hosp_yn is unknown for 1536\n",
    "\n",
    "- icu_yn is inknown for 1297\n",
    "\n",
    "- medcond_yn is unknown for 720\n",
    "\n",
    "\n"
   ]
  },
  {
   "cell_type": "markdown",
   "metadata": {},
   "source": [
    "## Data Understanding: Data Quality Plan\n",
    "In this section we list all features and the observations and actions involving those features, as a step towards obtaining a cleaner dataset."
   ]
  },
  {
   "cell_type": "markdown",
   "metadata": {},
   "source": [
    "### Propose solutions to deal with the problems identified. Explain why did you choose one solution over potentially many other."
   ]
  },
  {
   "cell_type": "markdown",
   "metadata": {},
   "source": [
    "\n",
    "**sex has missing value for 15**\n",
    "\n",
    "Investigation should be made to try deriving a missing indicator feature from features with missing values.\n",
    "\n",
    "***age_group has missing value for 13***\n",
    "\n",
    "Investigation should be made to try deriving a missing indicator feature from features with missing values.\n",
    "\n",
    "***pos_spec_dt has a large missing percentage 70.854377%, null value count for 6734 out of 9504***\n",
    "\n",
    "As around 71% of values are missing, investigation should be made to try deriving a missing indicator feature from features with missing values.\n",
    "\n",
    "***onset_dt has a large missing percentage 47.190657%, null value count for 4485 out of 9504***\n",
    "\n",
    "As around 47% of values are missing, investigation should be made to try deriving a missing indicator feature from features with missing values.\n",
    "\n",
    "***hosp_yn has a large missing percentage 21.864478%, null value count for 2078 out of 9504***\n",
    "\n",
    "As around 22% of values are missing, investigation should be made to try deriving a missing indicator feature from features with missing values.\n",
    "\n",
    "***icu_yn has a large missing percentage 75.305135%, null value count for 7157 out of 9504***\n",
    "\n",
    "As around 75% of values are missing, investigation should be made to try deriving a missing indicator feature from features with missing values.\n",
    "\n",
    "***medcond_yn has a large missing percentage 73.768939%, null value count for 7011 out of 9504***\n",
    "\n",
    "As around 74% of values are missing, investigation should be made to try deriving a missing indicator feature from features with missing values.\n",
    "\n",
    "***sex is Unknown for 66***\n",
    "Unknown is synonymous with missing data. Investigation should be made if imputation or other actions should be applied or rows should be dropped.\n",
    "\n",
    "***race_ethnicity_combined is Unknown for 3653***\n",
    "Unknown is synonymous with missing data. Investigation should be made if imputation or other actions should be applied or rows should be dropped.\n",
    "\n",
    "***hosp_yn is Unknown for 1536***\n",
    "Unknown is synonymous with missing data. Investigation should be made if imputation or other actions should be applied or rows should be dropped.\n",
    "\n",
    "***icu_yn is Unknown for 1297***\n",
    "Unknown is synonymous with missing data. Investigation should be made if imputation or other actions should be applied or rows should be dropped.\n",
    "\n",
    "***medcond_yn is Unknown for 720***\n",
    "Unknown is synonymous with missing data. Investigation should be made if imputation or other actions should be applied or rows should be dropped.\n"
   ]
  },
  {
   "cell_type": "markdown",
   "metadata": {},
   "source": [
    "### - Apply your solutions to obtain a new CSV file where the identified data quality issues were addressed. "
   ]
  },
  {
   "cell_type": "code",
   "execution_count": 53,
   "metadata": {},
   "outputs": [],
   "source": [
    "# Keep a copy of the original data\n",
    "df_raw = df.copy()"
   ]
  },
  {
   "cell_type": "markdown",
   "metadata": {},
   "source": [
    "### \"Sex\" has missing value for 15 \n",
    "Investigation should be made to try deriving a missing indicator feature from features with missing values."
   ]
  },
  {
   "cell_type": "code",
   "execution_count": 54,
   "metadata": {},
   "outputs": [
    {
     "data": {
      "text/html": [
       "<div>\n",
       "<style scoped>\n",
       "    .dataframe tbody tr th:only-of-type {\n",
       "        vertical-align: middle;\n",
       "    }\n",
       "\n",
       "    .dataframe tbody tr th {\n",
       "        vertical-align: top;\n",
       "    }\n",
       "\n",
       "    .dataframe thead th {\n",
       "        text-align: right;\n",
       "    }\n",
       "</style>\n",
       "<table border=\"1\" class=\"dataframe\">\n",
       "  <thead>\n",
       "    <tr style=\"text-align: right;\">\n",
       "      <th></th>\n",
       "      <th>cdc_case_earliest_dt</th>\n",
       "      <th>pos_spec_dt</th>\n",
       "      <th>onset_dt</th>\n",
       "      <th>current_status</th>\n",
       "      <th>sex</th>\n",
       "      <th>age_group</th>\n",
       "      <th>race_ethnicity_combined</th>\n",
       "      <th>hosp_yn</th>\n",
       "      <th>icu_yn</th>\n",
       "      <th>death_yn</th>\n",
       "      <th>medcond_yn</th>\n",
       "    </tr>\n",
       "  </thead>\n",
       "  <tbody>\n",
       "    <tr>\n",
       "      <th>2274</th>\n",
       "      <td>10</td>\n",
       "      <td>NaN</td>\n",
       "      <td>NaN</td>\n",
       "      <td>Probable Case</td>\n",
       "      <td>NaN</td>\n",
       "      <td>60 - 69 Years</td>\n",
       "      <td>Unknown</td>\n",
       "      <td>No</td>\n",
       "      <td>Unknown</td>\n",
       "      <td>No</td>\n",
       "      <td>NaN</td>\n",
       "    </tr>\n",
       "    <tr>\n",
       "      <th>2732</th>\n",
       "      <td>11</td>\n",
       "      <td>NaN</td>\n",
       "      <td>NaN</td>\n",
       "      <td>Laboratory-confirmed case</td>\n",
       "      <td>NaN</td>\n",
       "      <td>50 - 59 Years</td>\n",
       "      <td>Unknown</td>\n",
       "      <td>Unknown</td>\n",
       "      <td>Unknown</td>\n",
       "      <td>No</td>\n",
       "      <td>NaN</td>\n",
       "    </tr>\n",
       "    <tr>\n",
       "      <th>2864</th>\n",
       "      <td>11</td>\n",
       "      <td>NaN</td>\n",
       "      <td>NaN</td>\n",
       "      <td>Laboratory-confirmed case</td>\n",
       "      <td>NaN</td>\n",
       "      <td>0 - 9 Years</td>\n",
       "      <td>Asian, Non-Hispanic</td>\n",
       "      <td>No</td>\n",
       "      <td>NaN</td>\n",
       "      <td>No</td>\n",
       "      <td>NaN</td>\n",
       "    </tr>\n",
       "    <tr>\n",
       "      <th>3476</th>\n",
       "      <td>5</td>\n",
       "      <td>5.0</td>\n",
       "      <td>NaN</td>\n",
       "      <td>Laboratory-confirmed case</td>\n",
       "      <td>NaN</td>\n",
       "      <td>80+ Years</td>\n",
       "      <td>NaN</td>\n",
       "      <td>NaN</td>\n",
       "      <td>NaN</td>\n",
       "      <td>No</td>\n",
       "      <td>NaN</td>\n",
       "    </tr>\n",
       "    <tr>\n",
       "      <th>4706</th>\n",
       "      <td>10</td>\n",
       "      <td>10.0</td>\n",
       "      <td>NaN</td>\n",
       "      <td>Probable Case</td>\n",
       "      <td>NaN</td>\n",
       "      <td>40 - 49 Years</td>\n",
       "      <td>Unknown</td>\n",
       "      <td>NaN</td>\n",
       "      <td>NaN</td>\n",
       "      <td>No</td>\n",
       "      <td>NaN</td>\n",
       "    </tr>\n",
       "    <tr>\n",
       "      <th>5394</th>\n",
       "      <td>9</td>\n",
       "      <td>NaN</td>\n",
       "      <td>9.0</td>\n",
       "      <td>Laboratory-confirmed case</td>\n",
       "      <td>NaN</td>\n",
       "      <td>50 - 59 Years</td>\n",
       "      <td>White, Non-Hispanic</td>\n",
       "      <td>No</td>\n",
       "      <td>NaN</td>\n",
       "      <td>No</td>\n",
       "      <td>NaN</td>\n",
       "    </tr>\n",
       "    <tr>\n",
       "      <th>5961</th>\n",
       "      <td>12</td>\n",
       "      <td>12.0</td>\n",
       "      <td>NaN</td>\n",
       "      <td>Probable Case</td>\n",
       "      <td>NaN</td>\n",
       "      <td>10 - 19 Years</td>\n",
       "      <td>Unknown</td>\n",
       "      <td>Unknown</td>\n",
       "      <td>Unknown</td>\n",
       "      <td>No</td>\n",
       "      <td>Unknown</td>\n",
       "    </tr>\n",
       "    <tr>\n",
       "      <th>6335</th>\n",
       "      <td>7</td>\n",
       "      <td>7.0</td>\n",
       "      <td>NaN</td>\n",
       "      <td>Laboratory-confirmed case</td>\n",
       "      <td>NaN</td>\n",
       "      <td>70 - 79 Years</td>\n",
       "      <td>Unknown</td>\n",
       "      <td>NaN</td>\n",
       "      <td>NaN</td>\n",
       "      <td>No</td>\n",
       "      <td>NaN</td>\n",
       "    </tr>\n",
       "    <tr>\n",
       "      <th>6755</th>\n",
       "      <td>7</td>\n",
       "      <td>NaN</td>\n",
       "      <td>7.0</td>\n",
       "      <td>Probable Case</td>\n",
       "      <td>NaN</td>\n",
       "      <td>10 - 19 Years</td>\n",
       "      <td>Unknown</td>\n",
       "      <td>No</td>\n",
       "      <td>NaN</td>\n",
       "      <td>No</td>\n",
       "      <td>NaN</td>\n",
       "    </tr>\n",
       "    <tr>\n",
       "      <th>6858</th>\n",
       "      <td>9</td>\n",
       "      <td>NaN</td>\n",
       "      <td>NaN</td>\n",
       "      <td>Probable Case</td>\n",
       "      <td>NaN</td>\n",
       "      <td>40 - 49 Years</td>\n",
       "      <td>White, Non-Hispanic</td>\n",
       "      <td>No</td>\n",
       "      <td>NaN</td>\n",
       "      <td>No</td>\n",
       "      <td>NaN</td>\n",
       "    </tr>\n",
       "    <tr>\n",
       "      <th>7899</th>\n",
       "      <td>4</td>\n",
       "      <td>4.0</td>\n",
       "      <td>NaN</td>\n",
       "      <td>Laboratory-confirmed case</td>\n",
       "      <td>NaN</td>\n",
       "      <td>40 - 49 Years</td>\n",
       "      <td>Multiple/Other, Non-Hispanic</td>\n",
       "      <td>NaN</td>\n",
       "      <td>NaN</td>\n",
       "      <td>No</td>\n",
       "      <td>NaN</td>\n",
       "    </tr>\n",
       "    <tr>\n",
       "      <th>8486</th>\n",
       "      <td>1</td>\n",
       "      <td>1.0</td>\n",
       "      <td>NaN</td>\n",
       "      <td>Laboratory-confirmed case</td>\n",
       "      <td>NaN</td>\n",
       "      <td>30 - 39 Years</td>\n",
       "      <td>Unknown</td>\n",
       "      <td>Unknown</td>\n",
       "      <td>Unknown</td>\n",
       "      <td>No</td>\n",
       "      <td>Unknown</td>\n",
       "    </tr>\n",
       "    <tr>\n",
       "      <th>9096</th>\n",
       "      <td>7</td>\n",
       "      <td>7.0</td>\n",
       "      <td>NaN</td>\n",
       "      <td>Probable Case</td>\n",
       "      <td>NaN</td>\n",
       "      <td>0 - 9 Years</td>\n",
       "      <td>White, Non-Hispanic</td>\n",
       "      <td>No</td>\n",
       "      <td>Unknown</td>\n",
       "      <td>No</td>\n",
       "      <td>Unknown</td>\n",
       "    </tr>\n",
       "    <tr>\n",
       "      <th>9203</th>\n",
       "      <td>11</td>\n",
       "      <td>NaN</td>\n",
       "      <td>NaN</td>\n",
       "      <td>Probable Case</td>\n",
       "      <td>NaN</td>\n",
       "      <td>70 - 79 Years</td>\n",
       "      <td>Unknown</td>\n",
       "      <td>No</td>\n",
       "      <td>Unknown</td>\n",
       "      <td>No</td>\n",
       "      <td>NaN</td>\n",
       "    </tr>\n",
       "    <tr>\n",
       "      <th>9651</th>\n",
       "      <td>12</td>\n",
       "      <td>12.0</td>\n",
       "      <td>NaN</td>\n",
       "      <td>Laboratory-confirmed case</td>\n",
       "      <td>NaN</td>\n",
       "      <td>50 - 59 Years</td>\n",
       "      <td>Unknown</td>\n",
       "      <td>NaN</td>\n",
       "      <td>NaN</td>\n",
       "      <td>No</td>\n",
       "      <td>NaN</td>\n",
       "    </tr>\n",
       "  </tbody>\n",
       "</table>\n",
       "</div>"
      ],
      "text/plain": [
       "     cdc_case_earliest_dt pos_spec_dt onset_dt             current_status  \\\n",
       "2274                   10         NaN      NaN              Probable Case   \n",
       "2732                   11         NaN      NaN  Laboratory-confirmed case   \n",
       "2864                   11         NaN      NaN  Laboratory-confirmed case   \n",
       "3476                    5         5.0      NaN  Laboratory-confirmed case   \n",
       "4706                   10        10.0      NaN              Probable Case   \n",
       "5394                    9         NaN      9.0  Laboratory-confirmed case   \n",
       "5961                   12        12.0      NaN              Probable Case   \n",
       "6335                    7         7.0      NaN  Laboratory-confirmed case   \n",
       "6755                    7         NaN      7.0              Probable Case   \n",
       "6858                    9         NaN      NaN              Probable Case   \n",
       "7899                    4         4.0      NaN  Laboratory-confirmed case   \n",
       "8486                    1         1.0      NaN  Laboratory-confirmed case   \n",
       "9096                    7         7.0      NaN              Probable Case   \n",
       "9203                   11         NaN      NaN              Probable Case   \n",
       "9651                   12        12.0      NaN  Laboratory-confirmed case   \n",
       "\n",
       "      sex      age_group       race_ethnicity_combined  hosp_yn   icu_yn  \\\n",
       "2274  NaN  60 - 69 Years                       Unknown       No  Unknown   \n",
       "2732  NaN  50 - 59 Years                       Unknown  Unknown  Unknown   \n",
       "2864  NaN    0 - 9 Years           Asian, Non-Hispanic       No      NaN   \n",
       "3476  NaN      80+ Years                           NaN      NaN      NaN   \n",
       "4706  NaN  40 - 49 Years                       Unknown      NaN      NaN   \n",
       "5394  NaN  50 - 59 Years           White, Non-Hispanic       No      NaN   \n",
       "5961  NaN  10 - 19 Years                       Unknown  Unknown  Unknown   \n",
       "6335  NaN  70 - 79 Years                       Unknown      NaN      NaN   \n",
       "6755  NaN  10 - 19 Years                       Unknown       No      NaN   \n",
       "6858  NaN  40 - 49 Years           White, Non-Hispanic       No      NaN   \n",
       "7899  NaN  40 - 49 Years  Multiple/Other, Non-Hispanic      NaN      NaN   \n",
       "8486  NaN  30 - 39 Years                       Unknown  Unknown  Unknown   \n",
       "9096  NaN    0 - 9 Years           White, Non-Hispanic       No  Unknown   \n",
       "9203  NaN  70 - 79 Years                       Unknown       No  Unknown   \n",
       "9651  NaN  50 - 59 Years                       Unknown      NaN      NaN   \n",
       "\n",
       "     death_yn medcond_yn  \n",
       "2274       No        NaN  \n",
       "2732       No        NaN  \n",
       "2864       No        NaN  \n",
       "3476       No        NaN  \n",
       "4706       No        NaN  \n",
       "5394       No        NaN  \n",
       "5961       No    Unknown  \n",
       "6335       No        NaN  \n",
       "6755       No        NaN  \n",
       "6858       No        NaN  \n",
       "7899       No        NaN  \n",
       "8486       No    Unknown  \n",
       "9096       No    Unknown  \n",
       "9203       No        NaN  \n",
       "9651       No        NaN  "
      ]
     },
     "execution_count": 54,
     "metadata": {},
     "output_type": "execute_result"
    }
   ],
   "source": [
    "#Have a overall look of the rows with unknown sex \n",
    "df[df['sex'].isnull()]"
   ]
  },
  {
   "cell_type": "code",
   "execution_count": 55,
   "metadata": {},
   "outputs": [
    {
     "data": {
      "text/plain": [
       "50 - 59 Years    3\n",
       "40 - 49 Years    3\n",
       "70 - 79 Years    2\n",
       "10 - 19 Years    2\n",
       "0 - 9 Years      2\n",
       "80+ Years        1\n",
       "60 - 69 Years    1\n",
       "30 - 39 Years    1\n",
       "20 - 29 Years    0\n",
       "Name: age_group, dtype: int64"
      ]
     },
     "execution_count": 55,
     "metadata": {},
     "output_type": "execute_result"
    }
   ],
   "source": [
    "df[df['sex'].isnull()]['age_group'].value_counts()\n"
   ]
  },
  {
   "cell_type": "code",
   "execution_count": 56,
   "metadata": {},
   "outputs": [
    {
     "data": {
      "text/plain": [
       "Unknown    6\n",
       "Yes        0\n",
       "No         0\n",
       "Name: icu_yn, dtype: int64"
      ]
     },
     "execution_count": 56,
     "metadata": {},
     "output_type": "execute_result"
    }
   ],
   "source": [
    "df[df['sex'].isnull()]['icu_yn'].value_counts()"
   ]
  },
  {
   "cell_type": "code",
   "execution_count": 57,
   "metadata": {},
   "outputs": [
    {
     "data": {
      "text/plain": [
       "Unknown                                                 9\n",
       "White, Non-Hispanic                                     3\n",
       "Multiple/Other, Non-Hispanic                            1\n",
       "Asian, Non-Hispanic                                     1\n",
       "Native Hawaiian/Other Pacific Islander, Non-Hispanic    0\n",
       "Hispanic/Latino                                         0\n",
       "Black, Non-Hispanic                                     0\n",
       "American Indian/Alaska Native, Non-Hispanic             0\n",
       "Name: race_ethnicity_combined, dtype: int64"
      ]
     },
     "execution_count": 57,
     "metadata": {},
     "output_type": "execute_result"
    }
   ],
   "source": [
    "df[df['sex'].isnull()]['race_ethnicity_combined'].value_counts()"
   ]
  },
  {
   "cell_type": "code",
   "execution_count": 58,
   "metadata": {},
   "outputs": [
    {
     "data": {
      "text/plain": [
       "11    3\n",
       "7     3\n",
       "12    2\n",
       "10    2\n",
       "9     2\n",
       "5     1\n",
       "4     1\n",
       "1     1\n",
       "8     0\n",
       "6     0\n",
       "3     0\n",
       "2     0\n",
       "Name: cdc_case_earliest_dt, dtype: int64"
      ]
     },
     "execution_count": 58,
     "metadata": {},
     "output_type": "execute_result"
    }
   ],
   "source": [
    "df[df['sex'].isnull()]['cdc_case_earliest_dt'].value_counts()"
   ]
  },
  {
   "cell_type": "code",
   "execution_count": 59,
   "metadata": {
    "scrolled": true
   },
   "outputs": [
    {
     "data": {
      "text/plain": [
       "No     15\n",
       "Yes     0\n",
       "Name: death_yn, dtype: int64"
      ]
     },
     "execution_count": 59,
     "metadata": {},
     "output_type": "execute_result"
    }
   ],
   "source": [
    "df[df['sex'].isnull()]['death_yn'].value_counts()"
   ]
  },
  {
   "cell_type": "markdown",
   "metadata": {},
   "source": [
    "Missing value in sex column spread across different age groups\n",
    "However, looking at the above table, I found that for each row, missing data in sex column did tell much information in other columns in icu_yn, race_ethnicity_combined and death_yn .\n",
    "\n",
    "- **Action**: Therefore, keep the data, No action needed."
   ]
  },
  {
   "cell_type": "markdown",
   "metadata": {},
   "source": [
    "### age_group has missing value for 13"
   ]
  },
  {
   "cell_type": "code",
   "execution_count": 60,
   "metadata": {},
   "outputs": [
    {
     "data": {
      "text/html": [
       "<div>\n",
       "<style scoped>\n",
       "    .dataframe tbody tr th:only-of-type {\n",
       "        vertical-align: middle;\n",
       "    }\n",
       "\n",
       "    .dataframe tbody tr th {\n",
       "        vertical-align: top;\n",
       "    }\n",
       "\n",
       "    .dataframe thead th {\n",
       "        text-align: right;\n",
       "    }\n",
       "</style>\n",
       "<table border=\"1\" class=\"dataframe\">\n",
       "  <thead>\n",
       "    <tr style=\"text-align: right;\">\n",
       "      <th></th>\n",
       "      <th>cdc_case_earliest_dt</th>\n",
       "      <th>pos_spec_dt</th>\n",
       "      <th>onset_dt</th>\n",
       "      <th>current_status</th>\n",
       "      <th>sex</th>\n",
       "      <th>age_group</th>\n",
       "      <th>race_ethnicity_combined</th>\n",
       "      <th>hosp_yn</th>\n",
       "      <th>icu_yn</th>\n",
       "      <th>death_yn</th>\n",
       "      <th>medcond_yn</th>\n",
       "    </tr>\n",
       "  </thead>\n",
       "  <tbody>\n",
       "    <tr>\n",
       "      <th>836</th>\n",
       "      <td>12</td>\n",
       "      <td>NaN</td>\n",
       "      <td>12.0</td>\n",
       "      <td>Probable Case</td>\n",
       "      <td>Female</td>\n",
       "      <td>NaN</td>\n",
       "      <td>White, Non-Hispanic</td>\n",
       "      <td>No</td>\n",
       "      <td>NaN</td>\n",
       "      <td>No</td>\n",
       "      <td>NaN</td>\n",
       "    </tr>\n",
       "    <tr>\n",
       "      <th>1512</th>\n",
       "      <td>6</td>\n",
       "      <td>6.0</td>\n",
       "      <td>NaN</td>\n",
       "      <td>Laboratory-confirmed case</td>\n",
       "      <td>Male</td>\n",
       "      <td>NaN</td>\n",
       "      <td>Hispanic/Latino</td>\n",
       "      <td>NaN</td>\n",
       "      <td>NaN</td>\n",
       "      <td>No</td>\n",
       "      <td>NaN</td>\n",
       "    </tr>\n",
       "    <tr>\n",
       "      <th>2155</th>\n",
       "      <td>1</td>\n",
       "      <td>NaN</td>\n",
       "      <td>NaN</td>\n",
       "      <td>Laboratory-confirmed case</td>\n",
       "      <td>Male</td>\n",
       "      <td>NaN</td>\n",
       "      <td>Unknown</td>\n",
       "      <td>No</td>\n",
       "      <td>NaN</td>\n",
       "      <td>No</td>\n",
       "      <td>NaN</td>\n",
       "    </tr>\n",
       "    <tr>\n",
       "      <th>2196</th>\n",
       "      <td>6</td>\n",
       "      <td>NaN</td>\n",
       "      <td>6.0</td>\n",
       "      <td>Probable Case</td>\n",
       "      <td>Male</td>\n",
       "      <td>NaN</td>\n",
       "      <td>Asian, Non-Hispanic</td>\n",
       "      <td>No</td>\n",
       "      <td>NaN</td>\n",
       "      <td>No</td>\n",
       "      <td>NaN</td>\n",
       "    </tr>\n",
       "    <tr>\n",
       "      <th>2909</th>\n",
       "      <td>12</td>\n",
       "      <td>NaN</td>\n",
       "      <td>NaN</td>\n",
       "      <td>Laboratory-confirmed case</td>\n",
       "      <td>Male</td>\n",
       "      <td>NaN</td>\n",
       "      <td>American Indian/Alaska Native, Non-Hispanic</td>\n",
       "      <td>NaN</td>\n",
       "      <td>NaN</td>\n",
       "      <td>No</td>\n",
       "      <td>NaN</td>\n",
       "    </tr>\n",
       "    <tr>\n",
       "      <th>4479</th>\n",
       "      <td>11</td>\n",
       "      <td>NaN</td>\n",
       "      <td>11.0</td>\n",
       "      <td>Probable Case</td>\n",
       "      <td>Male</td>\n",
       "      <td>NaN</td>\n",
       "      <td>Unknown</td>\n",
       "      <td>No</td>\n",
       "      <td>NaN</td>\n",
       "      <td>No</td>\n",
       "      <td>NaN</td>\n",
       "    </tr>\n",
       "    <tr>\n",
       "      <th>4665</th>\n",
       "      <td>11</td>\n",
       "      <td>NaN</td>\n",
       "      <td>NaN</td>\n",
       "      <td>Probable Case</td>\n",
       "      <td>Female</td>\n",
       "      <td>NaN</td>\n",
       "      <td>Unknown</td>\n",
       "      <td>NaN</td>\n",
       "      <td>NaN</td>\n",
       "      <td>No</td>\n",
       "      <td>NaN</td>\n",
       "    </tr>\n",
       "    <tr>\n",
       "      <th>4925</th>\n",
       "      <td>11</td>\n",
       "      <td>NaN</td>\n",
       "      <td>11.0</td>\n",
       "      <td>Probable Case</td>\n",
       "      <td>Male</td>\n",
       "      <td>NaN</td>\n",
       "      <td>Unknown</td>\n",
       "      <td>No</td>\n",
       "      <td>NaN</td>\n",
       "      <td>No</td>\n",
       "      <td>NaN</td>\n",
       "    </tr>\n",
       "    <tr>\n",
       "      <th>5965</th>\n",
       "      <td>11</td>\n",
       "      <td>NaN</td>\n",
       "      <td>11.0</td>\n",
       "      <td>Probable Case</td>\n",
       "      <td>Male</td>\n",
       "      <td>NaN</td>\n",
       "      <td>Unknown</td>\n",
       "      <td>No</td>\n",
       "      <td>NaN</td>\n",
       "      <td>No</td>\n",
       "      <td>NaN</td>\n",
       "    </tr>\n",
       "    <tr>\n",
       "      <th>5970</th>\n",
       "      <td>10</td>\n",
       "      <td>NaN</td>\n",
       "      <td>10.0</td>\n",
       "      <td>Probable Case</td>\n",
       "      <td>Male</td>\n",
       "      <td>NaN</td>\n",
       "      <td>White, Non-Hispanic</td>\n",
       "      <td>No</td>\n",
       "      <td>NaN</td>\n",
       "      <td>No</td>\n",
       "      <td>NaN</td>\n",
       "    </tr>\n",
       "    <tr>\n",
       "      <th>6263</th>\n",
       "      <td>8</td>\n",
       "      <td>NaN</td>\n",
       "      <td>8.0</td>\n",
       "      <td>Probable Case</td>\n",
       "      <td>Male</td>\n",
       "      <td>NaN</td>\n",
       "      <td>White, Non-Hispanic</td>\n",
       "      <td>No</td>\n",
       "      <td>NaN</td>\n",
       "      <td>No</td>\n",
       "      <td>NaN</td>\n",
       "    </tr>\n",
       "    <tr>\n",
       "      <th>9232</th>\n",
       "      <td>11</td>\n",
       "      <td>NaN</td>\n",
       "      <td>11.0</td>\n",
       "      <td>Probable Case</td>\n",
       "      <td>Male</td>\n",
       "      <td>NaN</td>\n",
       "      <td>Unknown</td>\n",
       "      <td>NaN</td>\n",
       "      <td>NaN</td>\n",
       "      <td>No</td>\n",
       "      <td>NaN</td>\n",
       "    </tr>\n",
       "    <tr>\n",
       "      <th>9954</th>\n",
       "      <td>11</td>\n",
       "      <td>NaN</td>\n",
       "      <td>11.0</td>\n",
       "      <td>Probable Case</td>\n",
       "      <td>Male</td>\n",
       "      <td>NaN</td>\n",
       "      <td>White, Non-Hispanic</td>\n",
       "      <td>No</td>\n",
       "      <td>NaN</td>\n",
       "      <td>No</td>\n",
       "      <td>NaN</td>\n",
       "    </tr>\n",
       "  </tbody>\n",
       "</table>\n",
       "</div>"
      ],
      "text/plain": [
       "     cdc_case_earliest_dt pos_spec_dt onset_dt             current_status  \\\n",
       "836                    12         NaN     12.0              Probable Case   \n",
       "1512                    6         6.0      NaN  Laboratory-confirmed case   \n",
       "2155                    1         NaN      NaN  Laboratory-confirmed case   \n",
       "2196                    6         NaN      6.0              Probable Case   \n",
       "2909                   12         NaN      NaN  Laboratory-confirmed case   \n",
       "4479                   11         NaN     11.0              Probable Case   \n",
       "4665                   11         NaN      NaN              Probable Case   \n",
       "4925                   11         NaN     11.0              Probable Case   \n",
       "5965                   11         NaN     11.0              Probable Case   \n",
       "5970                   10         NaN     10.0              Probable Case   \n",
       "6263                    8         NaN      8.0              Probable Case   \n",
       "9232                   11         NaN     11.0              Probable Case   \n",
       "9954                   11         NaN     11.0              Probable Case   \n",
       "\n",
       "         sex age_group                      race_ethnicity_combined hosp_yn  \\\n",
       "836   Female       NaN                          White, Non-Hispanic      No   \n",
       "1512    Male       NaN                              Hispanic/Latino     NaN   \n",
       "2155    Male       NaN                                      Unknown      No   \n",
       "2196    Male       NaN                          Asian, Non-Hispanic      No   \n",
       "2909    Male       NaN  American Indian/Alaska Native, Non-Hispanic     NaN   \n",
       "4479    Male       NaN                                      Unknown      No   \n",
       "4665  Female       NaN                                      Unknown     NaN   \n",
       "4925    Male       NaN                                      Unknown      No   \n",
       "5965    Male       NaN                                      Unknown      No   \n",
       "5970    Male       NaN                          White, Non-Hispanic      No   \n",
       "6263    Male       NaN                          White, Non-Hispanic      No   \n",
       "9232    Male       NaN                                      Unknown     NaN   \n",
       "9954    Male       NaN                          White, Non-Hispanic      No   \n",
       "\n",
       "     icu_yn death_yn medcond_yn  \n",
       "836     NaN       No        NaN  \n",
       "1512    NaN       No        NaN  \n",
       "2155    NaN       No        NaN  \n",
       "2196    NaN       No        NaN  \n",
       "2909    NaN       No        NaN  \n",
       "4479    NaN       No        NaN  \n",
       "4665    NaN       No        NaN  \n",
       "4925    NaN       No        NaN  \n",
       "5965    NaN       No        NaN  \n",
       "5970    NaN       No        NaN  \n",
       "6263    NaN       No        NaN  \n",
       "9232    NaN       No        NaN  \n",
       "9954    NaN       No        NaN  "
      ]
     },
     "execution_count": 60,
     "metadata": {},
     "output_type": "execute_result"
    }
   ],
   "source": [
    "df[df['age_group'].isnull()]"
   ]
  },
  {
   "cell_type": "code",
   "execution_count": 61,
   "metadata": {},
   "outputs": [
    {
     "data": {
      "text/plain": [
       "Probable Case                10\n",
       "Laboratory-confirmed case     3\n",
       "Name: current_status, dtype: int64"
      ]
     },
     "execution_count": 61,
     "metadata": {},
     "output_type": "execute_result"
    }
   ],
   "source": [
    "df[df['age_group'].isnull()]['current_status'].value_counts()"
   ]
  },
  {
   "cell_type": "code",
   "execution_count": 62,
   "metadata": {},
   "outputs": [
    {
     "data": {
      "text/plain": [
       "Laboratory-confirmed case    8858\n",
       "Probable Case                 646\n",
       "Name: current_status, dtype: int64"
      ]
     },
     "execution_count": 62,
     "metadata": {},
     "output_type": "execute_result"
    }
   ],
   "source": [
    "df['current_status'].value_counts()"
   ]
  },
  {
   "cell_type": "markdown",
   "metadata": {},
   "source": [
    "** Based on above obersevation, missing value in age group tend to have more probablt case under current_status. \n",
    "\n",
    "**Action** \n",
    "- As probable case only have 646 in total, it is better to keep those data as to avoid dropping too much feature. "
   ]
  },
  {
   "cell_type": "markdown",
   "metadata": {},
   "source": [
    "### pos_spec_dt has a large missing percentage 70.854377%, null value count for 6734 out of 9504\n",
    "\n",
    "As around 70% of values are missing, investigation should be made to try deriving a missing indicator feature from features with missing values."
   ]
  },
  {
   "cell_type": "markdown",
   "metadata": {},
   "source": [
    "We strive to avoid dropping any features if at all possible. Although the pos_spec_dt contains over 70% missing value, we believe the pos_spec_dt is crucial feature in doing the analysis. \n",
    "\n",
    "**Action** No action needed."
   ]
  },
  {
   "cell_type": "markdown",
   "metadata": {},
   "source": [
    "### onset_dt has a large missing percentage 47.190657%, null value count for 4485 out of 9504\n",
    "\n",
    "As around 47% of values are missing, investigation should be made to try deriving a missing indicator feature from features with missing values."
   ]
  },
  {
   "cell_type": "markdown",
   "metadata": {},
   "source": [
    "We strive to avoid dropping any features if at all possible. Although the onset_dt contains over 70% missing value, we believe the pos_spec_dt is crucial feature in doing the analysis. \n",
    "\n",
    "**Action** No action needed."
   ]
  },
  {
   "cell_type": "markdown",
   "metadata": {},
   "source": [
    "### hosp_yn has a large missing percentage 21.864478%, null value count for 2078 out of 9504\n",
    "\n",
    "As around 22% of values are missing, investigation should be made to try deriving a missing indicator feature from features with missing values."
   ]
  },
  {
   "cell_type": "markdown",
   "metadata": {},
   "source": [
    "We strive to avoid dropping any features if at all possible. Although the hosp_yn contains over 22% missing value, we believe the hosp_yn is crucial feature in doing the analysis.\n",
    "\n",
    "**Action** \n",
    "- No action needed."
   ]
  },
  {
   "cell_type": "code",
   "execution_count": 63,
   "metadata": {},
   "outputs": [
    {
     "data": {
      "text/plain": [
       "True     2073\n",
       "False       5\n",
       "Name: icu_yn, dtype: int64"
      ]
     },
     "execution_count": 63,
     "metadata": {},
     "output_type": "execute_result"
    }
   ],
   "source": [
    "df[df['hosp_yn'].isnull()]['icu_yn'].isnull().value_counts()"
   ]
  },
  {
   "cell_type": "markdown",
   "metadata": {},
   "source": [
    "### icu_yn has a large missing percentage 75.305135%, null value count for 7157 out of 9504\n",
    "\n",
    "As around 75% of values are missing, investigation should be made to try deriving a missing indicator feature from features with missing values."
   ]
  },
  {
   "cell_type": "code",
   "execution_count": 64,
   "metadata": {},
   "outputs": [
    {
     "data": {
      "text/plain": [
       "NaN        3743\n",
       "No          817\n",
       "Unknown     660\n",
       "Yes           0\n",
       "Name: icu_yn, dtype: int64"
      ]
     },
     "execution_count": 64,
     "metadata": {},
     "output_type": "execute_result"
    }
   ],
   "source": [
    "df[df['hosp_yn'] == 'No']['icu_yn'].value_counts(dropna=False)"
   ]
  },
  {
   "cell_type": "code",
   "execution_count": 65,
   "metadata": {},
   "outputs": [
    {
     "data": {
      "text/plain": [
       "NaN        1033\n",
       "Unknown     496\n",
       "No            7\n",
       "Yes           0\n",
       "Name: icu_yn, dtype: int64"
      ]
     },
     "execution_count": 65,
     "metadata": {},
     "output_type": "execute_result"
    }
   ],
   "source": [
    "df[df['hosp_yn'] == 'Unknown']['icu_yn'].value_counts(dropna=False)"
   ]
  },
  {
   "cell_type": "code",
   "execution_count": 66,
   "metadata": {},
   "outputs": [
    {
     "data": {
      "text/plain": [
       "No     1493\n",
       "Yes      43\n",
       "Name: death_yn, dtype: int64"
      ]
     },
     "execution_count": 66,
     "metadata": {},
     "output_type": "execute_result"
    }
   ],
   "source": [
    "df[df['hosp_yn'] == 'Unknown']['death_yn'].value_counts(dropna=False)"
   ]
  },
  {
   "cell_type": "code",
   "execution_count": 67,
   "metadata": {},
   "outputs": [
    {
     "data": {
      "text/plain": [
       "NaN        7157\n",
       "Unknown    1297\n",
       "No          968\n",
       "Yes          82\n",
       "Name: icu_yn, dtype: int64"
      ]
     },
     "execution_count": 67,
     "metadata": {},
     "output_type": "execute_result"
    }
   ],
   "source": [
    "df['icu_yn'].value_counts(dropna=False)"
   ]
  },
  {
   "cell_type": "markdown",
   "metadata": {},
   "source": [
    "We strive to avoid dropping any features if at all possible. Although the icu_yn contains over 75% missing value, we believe the icu_yn is crucial feature in doing the analysis.\n",
    "\n",
    "***hosp_yn*** with value \"No\" represented 3743 \"Missing\" value in colmun \"icu_yn\". \n",
    "- As cases reported didn't hospitalized also means that they didnt admit to ICU. \n",
    "So, 3743 Missing value will change to No"
   ]
  },
  {
   "cell_type": "markdown",
   "metadata": {},
   "source": [
    "### ***medcond_yn has a large missing percentage 73.768939%, null value count for 7011 out of 9504***\n",
    "\n",
    "As around 73% of values are missing, investigation should be made to try deriving a missing indicator feature from features with missing values."
   ]
  },
  {
   "cell_type": "code",
   "execution_count": 68,
   "metadata": {},
   "outputs": [
    {
     "data": {
      "text/plain": [
       "NaN        7011\n",
       "No          953\n",
       "Yes         820\n",
       "Unknown     720\n",
       "Name: medcond_yn, dtype: int64"
      ]
     },
     "execution_count": 68,
     "metadata": {},
     "output_type": "execute_result"
    }
   ],
   "source": [
    "df['medcond_yn'].value_counts(dropna=False)"
   ]
  },
  {
   "cell_type": "markdown",
   "metadata": {},
   "source": [
    "From the above, a lot of value is Missing value (NaN) and Unknown (720). The remaining data is not representing enough in this dataset. \n",
    "\n",
    "**Action**  decide to drop this feature"
   ]
  },
  {
   "cell_type": "code",
   "execution_count": 69,
   "metadata": {},
   "outputs": [],
   "source": [
    "df = df.drop(['medcond_yn'], axis = 1)"
   ]
  },
  {
   "cell_type": "code",
   "execution_count": 70,
   "metadata": {},
   "outputs": [
    {
     "data": {
      "text/html": [
       "<div>\n",
       "<style scoped>\n",
       "    .dataframe tbody tr th:only-of-type {\n",
       "        vertical-align: middle;\n",
       "    }\n",
       "\n",
       "    .dataframe tbody tr th {\n",
       "        vertical-align: top;\n",
       "    }\n",
       "\n",
       "    .dataframe thead th {\n",
       "        text-align: right;\n",
       "    }\n",
       "</style>\n",
       "<table border=\"1\" class=\"dataframe\">\n",
       "  <thead>\n",
       "    <tr style=\"text-align: right;\">\n",
       "      <th></th>\n",
       "      <th>cdc_case_earliest_dt</th>\n",
       "      <th>pos_spec_dt</th>\n",
       "      <th>onset_dt</th>\n",
       "      <th>current_status</th>\n",
       "      <th>sex</th>\n",
       "      <th>age_group</th>\n",
       "      <th>race_ethnicity_combined</th>\n",
       "      <th>hosp_yn</th>\n",
       "      <th>icu_yn</th>\n",
       "      <th>death_yn</th>\n",
       "    </tr>\n",
       "  </thead>\n",
       "  <tbody>\n",
       "    <tr>\n",
       "      <th>0</th>\n",
       "      <td>10</td>\n",
       "      <td>NaN</td>\n",
       "      <td>NaN</td>\n",
       "      <td>Laboratory-confirmed case</td>\n",
       "      <td>Male</td>\n",
       "      <td>20 - 29 Years</td>\n",
       "      <td>Unknown</td>\n",
       "      <td>NaN</td>\n",
       "      <td>NaN</td>\n",
       "      <td>No</td>\n",
       "    </tr>\n",
       "    <tr>\n",
       "      <th>1</th>\n",
       "      <td>1</td>\n",
       "      <td>NaN</td>\n",
       "      <td>NaN</td>\n",
       "      <td>Laboratory-confirmed case</td>\n",
       "      <td>Female</td>\n",
       "      <td>0 - 9 Years</td>\n",
       "      <td>Multiple/Other, Non-Hispanic</td>\n",
       "      <td>No</td>\n",
       "      <td>NaN</td>\n",
       "      <td>No</td>\n",
       "    </tr>\n",
       "    <tr>\n",
       "      <th>2</th>\n",
       "      <td>10</td>\n",
       "      <td>10.0</td>\n",
       "      <td>10.0</td>\n",
       "      <td>Laboratory-confirmed case</td>\n",
       "      <td>Female</td>\n",
       "      <td>30 - 39 Years</td>\n",
       "      <td>Unknown</td>\n",
       "      <td>No</td>\n",
       "      <td>Unknown</td>\n",
       "      <td>No</td>\n",
       "    </tr>\n",
       "    <tr>\n",
       "      <th>3</th>\n",
       "      <td>7</td>\n",
       "      <td>NaN</td>\n",
       "      <td>NaN</td>\n",
       "      <td>Laboratory-confirmed case</td>\n",
       "      <td>Male</td>\n",
       "      <td>20 - 29 Years</td>\n",
       "      <td>Unknown</td>\n",
       "      <td>NaN</td>\n",
       "      <td>NaN</td>\n",
       "      <td>No</td>\n",
       "    </tr>\n",
       "    <tr>\n",
       "      <th>4</th>\n",
       "      <td>10</td>\n",
       "      <td>NaN</td>\n",
       "      <td>10.0</td>\n",
       "      <td>Laboratory-confirmed case</td>\n",
       "      <td>Male</td>\n",
       "      <td>20 - 29 Years</td>\n",
       "      <td>White, Non-Hispanic</td>\n",
       "      <td>No</td>\n",
       "      <td>NaN</td>\n",
       "      <td>No</td>\n",
       "    </tr>\n",
       "    <tr>\n",
       "      <th>...</th>\n",
       "      <td>...</td>\n",
       "      <td>...</td>\n",
       "      <td>...</td>\n",
       "      <td>...</td>\n",
       "      <td>...</td>\n",
       "      <td>...</td>\n",
       "      <td>...</td>\n",
       "      <td>...</td>\n",
       "      <td>...</td>\n",
       "      <td>...</td>\n",
       "    </tr>\n",
       "    <tr>\n",
       "      <th>9995</th>\n",
       "      <td>6</td>\n",
       "      <td>6.0</td>\n",
       "      <td>NaN</td>\n",
       "      <td>Laboratory-confirmed case</td>\n",
       "      <td>Male</td>\n",
       "      <td>10 - 19 Years</td>\n",
       "      <td>Unknown</td>\n",
       "      <td>NaN</td>\n",
       "      <td>NaN</td>\n",
       "      <td>No</td>\n",
       "    </tr>\n",
       "    <tr>\n",
       "      <th>9996</th>\n",
       "      <td>5</td>\n",
       "      <td>NaN</td>\n",
       "      <td>5.0</td>\n",
       "      <td>Laboratory-confirmed case</td>\n",
       "      <td>Female</td>\n",
       "      <td>40 - 49 Years</td>\n",
       "      <td>Unknown</td>\n",
       "      <td>No</td>\n",
       "      <td>NaN</td>\n",
       "      <td>No</td>\n",
       "    </tr>\n",
       "    <tr>\n",
       "      <th>9997</th>\n",
       "      <td>5</td>\n",
       "      <td>NaN</td>\n",
       "      <td>5.0</td>\n",
       "      <td>Laboratory-confirmed case</td>\n",
       "      <td>Male</td>\n",
       "      <td>20 - 29 Years</td>\n",
       "      <td>Unknown</td>\n",
       "      <td>No</td>\n",
       "      <td>NaN</td>\n",
       "      <td>No</td>\n",
       "    </tr>\n",
       "    <tr>\n",
       "      <th>9998</th>\n",
       "      <td>1</td>\n",
       "      <td>NaN</td>\n",
       "      <td>NaN</td>\n",
       "      <td>Laboratory-confirmed case</td>\n",
       "      <td>Female</td>\n",
       "      <td>0 - 9 Years</td>\n",
       "      <td>Unknown</td>\n",
       "      <td>No</td>\n",
       "      <td>NaN</td>\n",
       "      <td>No</td>\n",
       "    </tr>\n",
       "    <tr>\n",
       "      <th>9999</th>\n",
       "      <td>5</td>\n",
       "      <td>NaN</td>\n",
       "      <td>5.0</td>\n",
       "      <td>Laboratory-confirmed case</td>\n",
       "      <td>Male</td>\n",
       "      <td>50 - 59 Years</td>\n",
       "      <td>Hispanic/Latino</td>\n",
       "      <td>No</td>\n",
       "      <td>NaN</td>\n",
       "      <td>No</td>\n",
       "    </tr>\n",
       "  </tbody>\n",
       "</table>\n",
       "<p>9504 rows × 10 columns</p>\n",
       "</div>"
      ],
      "text/plain": [
       "     cdc_case_earliest_dt pos_spec_dt onset_dt             current_status  \\\n",
       "0                      10         NaN      NaN  Laboratory-confirmed case   \n",
       "1                       1         NaN      NaN  Laboratory-confirmed case   \n",
       "2                      10        10.0     10.0  Laboratory-confirmed case   \n",
       "3                       7         NaN      NaN  Laboratory-confirmed case   \n",
       "4                      10         NaN     10.0  Laboratory-confirmed case   \n",
       "...                   ...         ...      ...                        ...   \n",
       "9995                    6         6.0      NaN  Laboratory-confirmed case   \n",
       "9996                    5         NaN      5.0  Laboratory-confirmed case   \n",
       "9997                    5         NaN      5.0  Laboratory-confirmed case   \n",
       "9998                    1         NaN      NaN  Laboratory-confirmed case   \n",
       "9999                    5         NaN      5.0  Laboratory-confirmed case   \n",
       "\n",
       "         sex      age_group       race_ethnicity_combined hosp_yn   icu_yn  \\\n",
       "0       Male  20 - 29 Years                       Unknown     NaN      NaN   \n",
       "1     Female    0 - 9 Years  Multiple/Other, Non-Hispanic      No      NaN   \n",
       "2     Female  30 - 39 Years                       Unknown      No  Unknown   \n",
       "3       Male  20 - 29 Years                       Unknown     NaN      NaN   \n",
       "4       Male  20 - 29 Years           White, Non-Hispanic      No      NaN   \n",
       "...      ...            ...                           ...     ...      ...   \n",
       "9995    Male  10 - 19 Years                       Unknown     NaN      NaN   \n",
       "9996  Female  40 - 49 Years                       Unknown      No      NaN   \n",
       "9997    Male  20 - 29 Years                       Unknown      No      NaN   \n",
       "9998  Female    0 - 9 Years                       Unknown      No      NaN   \n",
       "9999    Male  50 - 59 Years               Hispanic/Latino      No      NaN   \n",
       "\n",
       "     death_yn  \n",
       "0          No  \n",
       "1          No  \n",
       "2          No  \n",
       "3          No  \n",
       "4          No  \n",
       "...       ...  \n",
       "9995       No  \n",
       "9996       No  \n",
       "9997       No  \n",
       "9998       No  \n",
       "9999       No  \n",
       "\n",
       "[9504 rows x 10 columns]"
      ]
     },
     "execution_count": 70,
     "metadata": {},
     "output_type": "execute_result"
    }
   ],
   "source": [
    "df"
   ]
  },
  {
   "cell_type": "markdown",
   "metadata": {},
   "source": [
    "### sex is Unknown for 66 \n",
    "- Unknown is synonymous with missing data. Investigation should be made if imputation or other actions should be applied or rows should be dropped."
   ]
  },
  {
   "cell_type": "markdown",
   "metadata": {},
   "source": [
    "rows with unknown sex type might mean non-binary. So I suggest to keep those row with unknown values.  \n",
    "\n",
    "***Action***\n",
    "-Do nothing"
   ]
  },
  {
   "cell_type": "markdown",
   "metadata": {},
   "source": [
    "### race_ethnicity_combined is Unknown for 3653\n",
    "\n",
    "Unknown is synonymous with missing data. Investigation should be made if imputation or other actions should be applied or rows should be dropped."
   ]
  },
  {
   "cell_type": "code",
   "execution_count": 71,
   "metadata": {},
   "outputs": [
    {
     "data": {
      "text/plain": [
       "12    960\n",
       "11    504\n",
       "1     485\n",
       "7     346\n",
       "10    258\n",
       "6     251\n",
       "8     221\n",
       "9     200\n",
       "5     184\n",
       "4     149\n",
       "3      94\n",
       "2       1\n",
       "Name: cdc_case_earliest_dt, dtype: int64"
      ]
     },
     "execution_count": 71,
     "metadata": {},
     "output_type": "execute_result"
    }
   ],
   "source": [
    "df[df['race_ethnicity_combined'] == 'Unknown']['cdc_case_earliest_dt'].value_counts(dropna=False)"
   ]
  },
  {
   "cell_type": "code",
   "execution_count": 72,
   "metadata": {},
   "outputs": [
    {
     "data": {
      "text/plain": [
       "No     3588\n",
       "Yes      65\n",
       "Name: death_yn, dtype: int64"
      ]
     },
     "execution_count": 72,
     "metadata": {},
     "output_type": "execute_result"
    }
   ],
   "source": [
    "df[df['race_ethnicity_combined'] == 'Unknown']['death_yn'].value_counts(dropna=False)"
   ]
  },
  {
   "cell_type": "markdown",
   "metadata": {},
   "source": [
    "Although for the affected rows, race_thncity_combined is unknown, but since among those cases:\n",
    "\n",
    "- all months of cdc_case_earliest_dt are covered \n",
    "\n",
    "**Action**\n",
    "\"Unknown\" value will be treated as missing value as the data didnt tell much about the feature. Those affected rows will be kept as it tells important info about other features."
   ]
  },
  {
   "cell_type": "code",
   "execution_count": 73,
   "metadata": {},
   "outputs": [],
   "source": [
    "#Change to missing value \n",
    "df['race_ethnicity_combined'] = df['race_ethnicity_combined'].replace('Unknown',np.nan)"
   ]
  },
  {
   "cell_type": "code",
   "execution_count": 74,
   "metadata": {},
   "outputs": [
    {
     "data": {
      "text/html": [
       "<div>\n",
       "<style scoped>\n",
       "    .dataframe tbody tr th:only-of-type {\n",
       "        vertical-align: middle;\n",
       "    }\n",
       "\n",
       "    .dataframe tbody tr th {\n",
       "        vertical-align: top;\n",
       "    }\n",
       "\n",
       "    .dataframe thead th {\n",
       "        text-align: right;\n",
       "    }\n",
       "</style>\n",
       "<table border=\"1\" class=\"dataframe\">\n",
       "  <thead>\n",
       "    <tr style=\"text-align: right;\">\n",
       "      <th></th>\n",
       "      <th>cdc_case_earliest_dt</th>\n",
       "      <th>pos_spec_dt</th>\n",
       "      <th>onset_dt</th>\n",
       "      <th>current_status</th>\n",
       "      <th>sex</th>\n",
       "      <th>age_group</th>\n",
       "      <th>race_ethnicity_combined</th>\n",
       "      <th>hosp_yn</th>\n",
       "      <th>icu_yn</th>\n",
       "      <th>death_yn</th>\n",
       "    </tr>\n",
       "  </thead>\n",
       "  <tbody>\n",
       "  </tbody>\n",
       "</table>\n",
       "</div>"
      ],
      "text/plain": [
       "Empty DataFrame\n",
       "Columns: [cdc_case_earliest_dt, pos_spec_dt, onset_dt, current_status, sex, age_group, race_ethnicity_combined, hosp_yn, icu_yn, death_yn]\n",
       "Index: []"
      ]
     },
     "execution_count": 74,
     "metadata": {},
     "output_type": "execute_result"
    }
   ],
   "source": [
    "df[df['race_ethnicity_combined'] == 'Unknown']"
   ]
  },
  {
   "cell_type": "markdown",
   "metadata": {},
   "source": [
    "### hosp_yn is Unknown for 1536 \n",
    "Unknown is synonymous with missing data. Investigation should be made if imputation or other actions should be applied or rows should be dropped.\n"
   ]
  },
  {
   "cell_type": "code",
   "execution_count": 75,
   "metadata": {},
   "outputs": [
    {
     "data": {
      "text/plain": [
       "No     1493\n",
       "Yes      43\n",
       "Name: death_yn, dtype: int64"
      ]
     },
     "execution_count": 75,
     "metadata": {},
     "output_type": "execute_result"
    }
   ],
   "source": [
    "df[df['hosp_yn'] == 'Unknown']['death_yn'].value_counts(dropna=False)"
   ]
  },
  {
   "cell_type": "code",
   "execution_count": 76,
   "metadata": {},
   "outputs": [
    {
     "data": {
      "text/plain": [
       "12    511\n",
       "1     274\n",
       "11    183\n",
       "7     115\n",
       "6      88\n",
       "10     84\n",
       "5      71\n",
       "4      68\n",
       "8      62\n",
       "9      52\n",
       "3      27\n",
       "2       1\n",
       "Name: cdc_case_earliest_dt, dtype: int64"
      ]
     },
     "execution_count": 76,
     "metadata": {},
     "output_type": "execute_result"
    }
   ],
   "source": [
    "df[df['hosp_yn'] == 'Unknown']['cdc_case_earliest_dt'].value_counts(dropna=False)"
   ]
  },
  {
   "cell_type": "markdown",
   "metadata": {},
   "source": [
    "Although for the affected rows, hosp_yn is unknown, but since among those cases:\n",
    "- all months of cdc_case_earliest_dt are covered\n",
    "\n",
    "**Action**\n",
    "\"Unknown\" value will be treated as missing value as the data didnt tell much about the feature. Those affected rows will be kept as it tells important info about other features."
   ]
  },
  {
   "cell_type": "code",
   "execution_count": 77,
   "metadata": {},
   "outputs": [],
   "source": [
    "df['hosp_yn'] = df['hosp_yn'].replace('Unknown',np.nan)"
   ]
  },
  {
   "cell_type": "code",
   "execution_count": 78,
   "metadata": {},
   "outputs": [
    {
     "data": {
      "text/plain": [
       "0       NaN\n",
       "1        No\n",
       "2        No\n",
       "3       NaN\n",
       "4        No\n",
       "       ... \n",
       "9995    NaN\n",
       "9996     No\n",
       "9997     No\n",
       "9998     No\n",
       "9999     No\n",
       "Name: hosp_yn, Length: 9504, dtype: category\n",
       "Categories (3, object): [No, OTH, Yes]"
      ]
     },
     "execution_count": 78,
     "metadata": {},
     "output_type": "execute_result"
    }
   ],
   "source": [
    "df['hosp_yn'] "
   ]
  },
  {
   "cell_type": "markdown",
   "metadata": {},
   "source": [
    "### icu_yn is Unknown for 1297 \n",
    "Unknown is synonymous with missing data. Investigation should be made if imputation or other actions should be applied or rows should be dropped.\n"
   ]
  },
  {
   "cell_type": "code",
   "execution_count": 79,
   "metadata": {},
   "outputs": [
    {
     "data": {
      "text/plain": [
       "12    293\n",
       "11    198\n",
       "1     140\n",
       "4     134\n",
       "10     96\n",
       "7      94\n",
       "6      76\n",
       "8      71\n",
       "5      67\n",
       "3      65\n",
       "9      63\n",
       "2       0\n",
       "Name: cdc_case_earliest_dt, dtype: int64"
      ]
     },
     "execution_count": 79,
     "metadata": {},
     "output_type": "execute_result"
    }
   ],
   "source": [
    "df[df['icu_yn'] == 'Unknown']['cdc_case_earliest_dt'].value_counts(dropna=False)"
   ]
  },
  {
   "cell_type": "code",
   "execution_count": 80,
   "metadata": {},
   "outputs": [
    {
     "data": {
      "text/plain": [
       "No     1210\n",
       "Yes      87\n",
       "Name: death_yn, dtype: int64"
      ]
     },
     "execution_count": 80,
     "metadata": {},
     "output_type": "execute_result"
    }
   ],
   "source": [
    "df[df['icu_yn'] == 'Unknown']['death_yn'].value_counts(dropna=False)"
   ]
  },
  {
   "cell_type": "markdown",
   "metadata": {},
   "source": [
    "Although for the affected rows, icu_yn is unknown, but since among those cases:\n",
    "\n",
    "all months of cdc_case_earliest_dt are covered\n",
    "- **Action**\n",
    " \"Unknown\" value will be treated as missing value as the data didnt tell much about the feature. Those affected rows will be kept as it tells important info about other features."
   ]
  },
  {
   "cell_type": "code",
   "execution_count": 81,
   "metadata": {},
   "outputs": [],
   "source": [
    "df['icu_yn'] = df['icu_yn'].replace('Unknown',np.nan)"
   ]
  },
  {
   "cell_type": "markdown",
   "metadata": {},
   "source": [
    "### medcond_yn is Unknown for 720 \n",
    "Unknown is synonymous with missing data. Investigation should be made if imputation or other actions should be applied or rows should be dropped."
   ]
  },
  {
   "cell_type": "markdown",
   "metadata": {},
   "source": [
    "### Feature is already dropped."
   ]
  },
  {
   "cell_type": "markdown",
   "metadata": {},
   "source": [
    "### Summary of data quality plan:\n",
    "   \n",
    "| Feature                 | Data Quality Issue                             | Handling Strategy               |\n",
    "|-------------------------|------------------------------------------------|---------------------------------|\n",
    "| cdc_case_earliest_dt      | None                  | Do nothing           |\n",
    "| pos_spec_dt             |  missing values(~71%)    |   Do nothing                |\n",
    "| onset_dt         | missing values(~47%) | Do nothing             | \n",
    "| current_status   | None                 | Do nothing             |\n",
    "| sex            | Unknown value, missing data for 15  | Keep Unknown value, keep the missing   |\n",
    "| race_ethnicity_combined         | \tUnknown value       | Replace Unknown with NaN                     |\n",
    "| hosp_yn       | \tUnknown value, None    | Replace Unknown with NaN  |\n",
    "| icu_yn        | \tUnknown value, Missing values (~75%)    | Replace Missing with \"No\" values                       |\n",
    "| death_yn           | None             | Do nothing |     \n",
    "| medcond_yn            |  \tUnknown value, Missing values (~74%)     | Drop feature  |     \n"
   ]
  },
  {
   "cell_type": "markdown",
   "metadata": {},
   "source": [
    "### - Save the new CSV file with a self explanatory name. Save the data quality plan to a single PDF file."
   ]
  },
  {
   "cell_type": "markdown",
   "metadata": {},
   "source": [
    "Data quality plan saved as a picture and available in Data_Quality_Plan.pdf."
   ]
  },
  {
   "cell_type": "code",
   "execution_count": 82,
   "metadata": {},
   "outputs": [
    {
     "data": {
      "text/html": [
       "<div>\n",
       "<style scoped>\n",
       "    .dataframe tbody tr th:only-of-type {\n",
       "        vertical-align: middle;\n",
       "    }\n",
       "\n",
       "    .dataframe tbody tr th {\n",
       "        vertical-align: top;\n",
       "    }\n",
       "\n",
       "    .dataframe thead th {\n",
       "        text-align: right;\n",
       "    }\n",
       "</style>\n",
       "<table border=\"1\" class=\"dataframe\">\n",
       "  <thead>\n",
       "    <tr style=\"text-align: right;\">\n",
       "      <th></th>\n",
       "      <th>count</th>\n",
       "      <th>unique</th>\n",
       "      <th>top</th>\n",
       "      <th>freq</th>\n",
       "    </tr>\n",
       "  </thead>\n",
       "  <tbody>\n",
       "    <tr>\n",
       "      <th>cdc_case_earliest_dt</th>\n",
       "      <td>9504</td>\n",
       "      <td>12</td>\n",
       "      <td>12</td>\n",
       "      <td>2177</td>\n",
       "    </tr>\n",
       "    <tr>\n",
       "      <th>pos_spec_dt</th>\n",
       "      <td>2770</td>\n",
       "      <td>11</td>\n",
       "      <td>11</td>\n",
       "      <td>483</td>\n",
       "    </tr>\n",
       "    <tr>\n",
       "      <th>onset_dt</th>\n",
       "      <td>5019</td>\n",
       "      <td>12</td>\n",
       "      <td>11</td>\n",
       "      <td>997</td>\n",
       "    </tr>\n",
       "    <tr>\n",
       "      <th>current_status</th>\n",
       "      <td>9504</td>\n",
       "      <td>2</td>\n",
       "      <td>Laboratory-confirmed case</td>\n",
       "      <td>8858</td>\n",
       "    </tr>\n",
       "    <tr>\n",
       "      <th>sex</th>\n",
       "      <td>9489</td>\n",
       "      <td>3</td>\n",
       "      <td>Female</td>\n",
       "      <td>5046</td>\n",
       "    </tr>\n",
       "    <tr>\n",
       "      <th>age_group</th>\n",
       "      <td>9491</td>\n",
       "      <td>9</td>\n",
       "      <td>20 - 29 Years</td>\n",
       "      <td>1778</td>\n",
       "    </tr>\n",
       "    <tr>\n",
       "      <th>race_ethnicity_combined</th>\n",
       "      <td>5763</td>\n",
       "      <td>7</td>\n",
       "      <td>White, Non-Hispanic</td>\n",
       "      <td>3290</td>\n",
       "    </tr>\n",
       "    <tr>\n",
       "      <th>hosp_yn</th>\n",
       "      <td>5890</td>\n",
       "      <td>3</td>\n",
       "      <td>No</td>\n",
       "      <td>5220</td>\n",
       "    </tr>\n",
       "    <tr>\n",
       "      <th>icu_yn</th>\n",
       "      <td>1050</td>\n",
       "      <td>2</td>\n",
       "      <td>No</td>\n",
       "      <td>968</td>\n",
       "    </tr>\n",
       "    <tr>\n",
       "      <th>death_yn</th>\n",
       "      <td>9504</td>\n",
       "      <td>2</td>\n",
       "      <td>No</td>\n",
       "      <td>9165</td>\n",
       "    </tr>\n",
       "  </tbody>\n",
       "</table>\n",
       "</div>"
      ],
      "text/plain": [
       "                        count unique                        top  freq\n",
       "cdc_case_earliest_dt     9504     12                         12  2177\n",
       "pos_spec_dt              2770     11                         11   483\n",
       "onset_dt                 5019     12                         11   997\n",
       "current_status           9504      2  Laboratory-confirmed case  8858\n",
       "sex                      9489      3                     Female  5046\n",
       "age_group                9491      9              20 - 29 Years  1778\n",
       "race_ethnicity_combined  5763      7        White, Non-Hispanic  3290\n",
       "hosp_yn                  5890      3                         No  5220\n",
       "icu_yn                   1050      2                         No   968\n",
       "death_yn                 9504      2                         No  9165"
      ]
     },
     "execution_count": 82,
     "metadata": {},
     "output_type": "execute_result"
    }
   ],
   "source": [
    "# Print table with categorical statistics\n",
    "df.select_dtypes(['category']).describe().T"
   ]
  },
  {
   "cell_type": "markdown",
   "metadata": {},
   "source": [
    "# (3). Exploring relationships between feature pairs:"
   ]
  },
  {
   "cell_type": "markdown",
   "metadata": {},
   "source": [
    "### - Choose a subset of features you find promising and plot pairwise feature interactions (e.g., continuous-continuous feature plot or continuous-categorical plots or correlation plots). Explain your choices."
   ]
  },
  {
   "cell_type": "markdown",
   "metadata": {},
   "source": [
    "The choices made in this part are based on the idea that these particular features can affect the death rate or infected by COVID-19 and thus vulnerbale towards negative outcome. Further reasons will also be provided individually for each choice made.\n",
    "\n",
    " \n",
    "The features that I will look at for pairwise feature interaction are the following continuous features:\n",
    "- None \n",
    "\n",
    "and the following categorical features:\n",
    "- cdc_case_earliest_dt\n",
    " - I pick cdc_case_earliest_dt (months) because the reported month might be useful in revealing seasonal variation across the year in infecting COVID-19 and thus the death rate\n",
    "- pos_spec_dt\n",
    " - I pick pos_spec_dt (months) because date of first positive specimen collection might be useful in telling which months confirmed cases of COVID-19 are found and thus the death rate. \n",
    "- onset_dt\n",
    " - I pick onset_dt (months) because the symptom onset month might be a useful factor in telling the patients getting symptons and thus the death rate. \n",
    "- sex\n",
    " - I pick sex as gender might be a factor to tell which groups are more likely to get inffected.\n",
    "- age_group\n",
    " - I pick age groups as age might be useful factor in telling which type of people are vulnerable to death\n",
    "- race_ethnicity_combined\n",
    " - I pick race_ethnicity_combined as this might be a useful factor in telling which race / ethnicty is prone to death \n",
    "- hosp_yn\n",
    " - I pick hosp_yn as the status of hosptilized might be a important sign to tell the death rate\n",
    "- icu_yn\n",
    " - I pick icu_yn as it might tell the the seriousness of cases lead to death \n",
    "- death_yn\n",
    " - This is the target feature to be compared with.\n",
    "\n",
    "The features that I will not look at for pairwise feature interaction are the following :\n",
    "- current_status\n",
    " - I pick current_status because the classification of case tpe will not affect the death rate."
   ]
  },
  {
   "cell_type": "code",
   "execution_count": 83,
   "metadata": {},
   "outputs": [
    {
     "data": {
      "text/plain": [
       "cdc_case_earliest_dt       category\n",
       "pos_spec_dt                category\n",
       "onset_dt                   category\n",
       "current_status             category\n",
       "sex                        category\n",
       "age_group                  category\n",
       "race_ethnicity_combined    category\n",
       "hosp_yn                    category\n",
       "icu_yn                     category\n",
       "death_yn                   category\n",
       "dtype: object"
      ]
     },
     "execution_count": 83,
     "metadata": {},
     "output_type": "execute_result"
    }
   ],
   "source": [
    "df.dtypes"
   ]
  },
  {
   "cell_type": "markdown",
   "metadata": {},
   "source": [
    "### Categorical vs Categorical feature plots"
   ]
  },
  {
   "cell_type": "code",
   "execution_count": 84,
   "metadata": {},
   "outputs": [
    {
     "name": "stdout",
     "output_type": "stream",
     "text": [
      "cdc_case_earliest_dt\n",
      "Index \t Count\n",
      "10 \t 839\n",
      "1 \t 1034\n",
      "7 \t 899\n",
      "8 \t 620\n",
      "9 \t 593\n",
      "12 \t 2177\n",
      "3 \t 227\n",
      "5 \t 407\n",
      "4 \t 464\n",
      "11 \t 1635\n",
      "6 \t 607\n",
      "2 \t 2\n"
     ]
    },
    {
     "data": {
      "text/plain": [
       "(0, 100)"
      ]
     },
     "execution_count": 84,
     "metadata": {},
     "output_type": "execute_result"
    },
    {
     "data": {
      "image/png": "[encoded data removed]",
      "text/plain": [
       "<Figure size 1080x504 with 1 Axes>"
      ]
     },
     "metadata": {
      "needs_background": "light"
     },
     "output_type": "display_data"
    }
   ],
   "source": [
    "#Using code from the module lab\n",
    "import matplotlib.patches as mpatches\n",
    "cdc_case_earliest_dt = pd.unique(df[\"cdc_case_earliest_dt\"].ravel())\n",
    "\n",
    "# add new column and set values to zero\n",
    "df['percent'] = 0\n",
    "\n",
    "#print header\n",
    "print(\"cdc_case_earliest_dt\")\n",
    "print(\"Index \\t Count\")\n",
    "\n",
    "# for each delinquency category\n",
    "for i in cdc_case_earliest_dt:\n",
    "    \n",
    "    count = df[df[\"cdc_case_earliest_dt\"] == i].count()['death_yn']\n",
    "    count_percentage = (1 / count) * 100\n",
    "        \n",
    "    # print out index vs count\n",
    "    print(i, \"\\t\", count)\n",
    "    \n",
    "    index_list = df[df['cdc_case_earliest_dt'] == i].index.tolist()\n",
    "    for ind in index_list:\n",
    "        df.loc[ind, 'percent'] = count_percentage\n",
    "        \n",
    "group = df[['percent','cdc_case_earliest_dt','death_yn']].groupby(['cdc_case_earliest_dt','death_yn']).sum()\n",
    "\n",
    "my_plot = group.unstack().plot(kind='bar', stacked=True, title=\"death_yn vs cdc_case_earliest_dt\", figsize=(15,7), grid=True)\n",
    "\n",
    "# add legend\n",
    "red_patch = mpatches.Patch(color='orange', label='Negative')\n",
    "blue_patch = mpatches.Patch(color='blue', label='Positive')\n",
    "my_plot.legend(handles=[red_patch, blue_patch], frameon = True)\n",
    "\n",
    "# add gridlines\n",
    "plt.grid(b=True, which='major', color='#666666', linestyle='-')\n",
    "plt.minorticks_on()\n",
    "plt.grid(b=True, which='minor', color='#999999', linestyle='-', alpha=0.2)\n",
    "\n",
    "my_plot.set_xlabel(\"cdc_case_earliest_dt\")\n",
    "my_plot.set_ylabel(\"death_yn\")\n",
    "my_plot.set_ylim([0,100])"
   ]
  },
  {
   "cell_type": "markdown",
   "metadata": {},
   "source": [
    "We can see the stacked bar plot for the earlier of the clinical date against the death status. \n",
    "\n",
    "- Negative outcome tends to concentrate in March and April in a year, around 10 ~ 15 %.\n",
    "- Between May and December, the negative outcome is around 5%\n",
    "- Overall, this doesn't tell us much information since the difference is relativaly low, and the earlier of the clinical date thus seems not a good marker for predicting the outcome."
   ]
  },
  {
   "cell_type": "code",
   "execution_count": 85,
   "metadata": {},
   "outputs": [
    {
     "name": "stdout",
     "output_type": "stream",
     "text": [
      "pos_spec_dt\n",
      "Index \t Count\n",
      "nan \t 0\n",
      "10.0 \t 271\n",
      "8.0 \t 209\n",
      "9.0 \t 193\n",
      "3.0 \t 77\n",
      "5.0 \t 168\n",
      "12.0 \t 482\n",
      "11.0 \t 483\n",
      "1.0 \t 252\n",
      "6.0 \t 182\n",
      "7.0 \t 262\n",
      "4.0 \t 191\n"
     ]
    },
    {
     "data": {
      "text/plain": [
       "(0, 100)"
      ]
     },
     "execution_count": 85,
     "metadata": {},
     "output_type": "execute_result"
    },
    {
     "data": {
      "image/png": "[encoded data removed]",
      "text/plain": [
       "<Figure size 1080x504 with 1 Axes>"
      ]
     },
     "metadata": {
      "needs_background": "light"
     },
     "output_type": "display_data"
    }
   ],
   "source": [
    "#Using code from the module lab\n",
    "import matplotlib.patches as mpatches\n",
    "pos_spec_dt = pd.unique(df[\"pos_spec_dt\"].ravel())\n",
    "\n",
    "# add new column and set values to zero\n",
    "df['percent'] = 0\n",
    "\n",
    "#print header\n",
    "print(\"pos_spec_dt\")\n",
    "print(\"Index \\t Count\")\n",
    "\n",
    "# for each delinquency category\n",
    "for i in pos_spec_dt:\n",
    "    \n",
    "    count = df[df[\"pos_spec_dt\"] == i].count()['death_yn']\n",
    "    count_percentage = (1 / count) * 100\n",
    "        \n",
    "    # print out index vs count\n",
    "    print(i, \"\\t\", count)\n",
    "    \n",
    "    index_list = df[df['pos_spec_dt'] == i].index.tolist()\n",
    "    for ind in index_list:\n",
    "        df.loc[ind, 'percent'] = count_percentage\n",
    "        \n",
    "group = df[['percent','pos_spec_dt','death_yn']].groupby(['pos_spec_dt','death_yn']).sum()\n",
    "\n",
    "my_plot = group.unstack().plot(kind='bar', stacked=True, title=\"death_yn vs pos_spec_dt\", figsize=(15,7), grid=True)\n",
    "\n",
    "# add legend\n",
    "red_patch = mpatches.Patch(color='orange', label='Negative')\n",
    "blue_patch = mpatches.Patch(color='blue', label='Positive')\n",
    "my_plot.legend(handles=[red_patch, blue_patch], frameon = True)\n",
    "\n",
    "# add gridlines\n",
    "plt.grid(b=True, which='major', color='#666666', linestyle='-')\n",
    "plt.minorticks_on()\n",
    "plt.grid(b=True, which='minor', color='#999999', linestyle='-', alpha=0.2)\n",
    "\n",
    "my_plot.set_xlabel(\"pos_spec_dt\")\n",
    "my_plot.set_ylabel(\"death_yn\")\n",
    "my_plot.set_ylim([0,100])"
   ]
  },
  {
   "cell_type": "markdown",
   "metadata": {},
   "source": [
    "We can see the stacked bar plot for Date of first positive specimen collection against the death status. \n",
    "\n",
    "- Negative outcome tends to concentrate in March and April in a year, around 15 %.\n",
    "- Between May and December, the negative outcome is around 5%\n",
    "- Overall, this doesn't tell us much information since the difference is relativaly low, and symptom onset date thus seems not a good marker for predicting the outcome."
   ]
  },
  {
   "cell_type": "code",
   "execution_count": 86,
   "metadata": {
    "scrolled": true
   },
   "outputs": [
    {
     "name": "stdout",
     "output_type": "stream",
     "text": [
      "onset_dt\n",
      "Index \t Count\n",
      "nan \t 0\n",
      "10.0 \t 530\n",
      "9.0 \t 350\n",
      "12.0 \t 928\n",
      "3.0 \t 179\n",
      "4.0 \t 258\n",
      "11.0 \t 997\n",
      "1.0 \t 347\n",
      "7.0 \t 506\n",
      "8.0 \t 358\n",
      "5.0 \t 206\n",
      "6.0 \t 358\n",
      "2.0 \t 2\n"
     ]
    },
    {
     "data": {
      "text/plain": [
       "(0, 100)"
      ]
     },
     "execution_count": 86,
     "metadata": {},
     "output_type": "execute_result"
    },
    {
     "data": {
      "image/png": "[encoded data removed]",
      "text/plain": [
       "<Figure size 1080x504 with 1 Axes>"
      ]
     },
     "metadata": {
      "needs_background": "light"
     },
     "output_type": "display_data"
    }
   ],
   "source": [
    "#Using code from the module lab\n",
    "import matplotlib.patches as mpatches\n",
    "onset_dt = pd.unique(df[\"onset_dt\"].ravel())\n",
    "\n",
    "# add new column and set values to zero\n",
    "df['percent'] = 0\n",
    "\n",
    "#print header\n",
    "print(\"onset_dt\")\n",
    "print(\"Index \\t Count\")\n",
    "\n",
    "# for each delinquency category\n",
    "for i in onset_dt:\n",
    "    \n",
    "    count = df[df[\"onset_dt\"] == i].count()['death_yn']\n",
    "    count_percentage = (1 / count) * 100\n",
    "        \n",
    "    # print out index vs count\n",
    "    print(i, \"\\t\", count)\n",
    "    \n",
    "    index_list = df[df['onset_dt'] == i].index.tolist()\n",
    "    for ind in index_list:\n",
    "        df.loc[ind, 'percent'] = count_percentage\n",
    "        \n",
    "group = df[['percent','onset_dt','death_yn']].groupby(['onset_dt','death_yn']).sum()\n",
    "\n",
    "my_plot = group.unstack().plot(kind='bar', stacked=True, title=\"death_yn vs onset_dt\", figsize=(15,7), grid=True)\n",
    "\n",
    "# add legend\n",
    "red_patch = mpatches.Patch(color='orange', label='Negative')\n",
    "blue_patch = mpatches.Patch(color='blue', label='Positive')\n",
    "my_plot.legend(handles=[red_patch, blue_patch], frameon = True)\n",
    "\n",
    "# add gridlines\n",
    "plt.grid(b=True, which='major', color='#666666', linestyle='-')\n",
    "plt.minorticks_on()\n",
    "plt.grid(b=True, which='minor', color='#999999', linestyle='-', alpha=0.2)\n",
    "\n",
    "my_plot.set_xlabel(\"onset_dt\")\n",
    "my_plot.set_ylabel(\"death_yn\")\n",
    "my_plot.set_ylim([0,100])"
   ]
  },
  {
   "cell_type": "markdown",
   "metadata": {},
   "source": [
    "We can see the stacked bar plot for symptom onset date against the death status. \n",
    "\n",
    "- Negative outcome tends to concentrate in March and April in a year, around 10 ~ 15 %.\n",
    "- Between May and December, the negative outcome is around 5%\n",
    "- Overall, this doesn't tell us much information since the difference is relativaly low, and symptom onset date thus seems not a good marker for predicting the outcome."
   ]
  },
  {
   "cell_type": "code",
   "execution_count": 88,
   "metadata": {},
   "outputs": [
    {
     "name": "stdout",
     "output_type": "stream",
     "text": [
      "sex\n",
      "Index \t Count\n",
      "Male \t 4377\n",
      "Female \t 5046\n",
      "Unknown \t 66\n",
      "nan \t 0\n"
     ]
    },
    {
     "data": {
      "text/plain": [
       "(0, 100)"
      ]
     },
     "execution_count": 88,
     "metadata": {},
     "output_type": "execute_result"
    },
    {
     "data": {
      "image/png": "[encoded data removed]",
      "text/plain": [
       "<Figure size 1080x504 with 1 Axes>"
      ]
     },
     "metadata": {
      "needs_background": "light"
     },
     "output_type": "display_data"
    }
   ],
   "source": [
    "#Using code from the module lab\n",
    "import matplotlib.patches as mpatches\n",
    "sex = pd.unique(df[\"sex\"].ravel())\n",
    "\n",
    "# add new column and set values to zero\n",
    "df['percent'] = 0\n",
    "\n",
    "#print header\n",
    "print(\"sex\")\n",
    "print(\"Index \\t Count\")\n",
    "\n",
    "# for each delinquency category\n",
    "for i in sex:\n",
    "    \n",
    "    count = df[df[\"sex\"] == i].count()['death_yn']\n",
    "    count_percentage = (1 / count) * 100\n",
    "        \n",
    "    # print out index vs count\n",
    "    print(i, \"\\t\", count)\n",
    "    \n",
    "    index_list = df[df['sex'] == i].index.tolist()\n",
    "    for ind in index_list:\n",
    "        df.loc[ind, 'percent'] = count_percentage\n",
    "        \n",
    "group = df[['percent','sex','death_yn']].groupby(['sex','death_yn']).sum()\n",
    "\n",
    "my_plot = group.unstack().plot(kind='bar', stacked=True, title=\"death_yn vs sex\", figsize=(15,7), grid=True)\n",
    "\n",
    "# add legend\n",
    "red_patch = mpatches.Patch(color='orange', label='Negative')\n",
    "blue_patch = mpatches.Patch(color='blue', label='Positive')\n",
    "my_plot.legend(handles=[red_patch, blue_patch], frameon = True)\n",
    "\n",
    "# add gridlines\n",
    "plt.grid(b=True, which='major', color='#666666', linestyle='-')\n",
    "plt.minorticks_on()\n",
    "plt.grid(b=True, which='minor', color='#999999', linestyle='-', alpha=0.2)\n",
    "\n",
    "my_plot.set_xlabel(\"sex\")\n",
    "my_plot.set_ylabel(\"death_yn\")\n",
    "my_plot.set_ylim([0,100])"
   ]
  },
  {
   "cell_type": "markdown",
   "metadata": {},
   "source": [
    "We can see the stacked bar plot for sex upon outcome against the death status.\n",
    "\n",
    "- In general, ~5% among all sex is vulnerable to negative outcome. \n",
    "\n",
    "- Overall, this doesn't tell us much information since the difference is relativaly low, and symptom onset date thus seems not a good marker for predicting the outcome."
   ]
  },
  {
   "cell_type": "code",
   "execution_count": 89,
   "metadata": {},
   "outputs": [
    {
     "name": "stdout",
     "output_type": "stream",
     "text": [
      "age_group\n",
      "Index \t Count\n",
      "20 - 29 Years \t 1778\n",
      "0 - 9 Years \t 453\n",
      "30 - 39 Years \t 1489\n",
      "50 - 59 Years \t 1290\n",
      "70 - 79 Years \t 568\n",
      "10 - 19 Years \t 1015\n",
      "60 - 69 Years \t 1023\n",
      "40 - 49 Years \t 1378\n",
      "80+ Years \t 497\n",
      "nan \t 0\n"
     ]
    },
    {
     "data": {
      "text/plain": [
       "(0, 100)"
      ]
     },
     "execution_count": 89,
     "metadata": {},
     "output_type": "execute_result"
    },
    {
     "data": {
      "image/png": "[encoded data removed]",
      "text/plain": [
       "<Figure size 1080x504 with 1 Axes>"
      ]
     },
     "metadata": {
      "needs_background": "light"
     },
     "output_type": "display_data"
    }
   ],
   "source": [
    "#Using code from the module lab\n",
    "import matplotlib.patches as mpatches\n",
    "age_group = pd.unique(df[\"age_group\"].ravel())\n",
    "\n",
    "# add new column and set values to zero\n",
    "df['percent'] = 0\n",
    "\n",
    "#print header\n",
    "print(\"age_group\")\n",
    "print(\"Index \\t Count\")\n",
    "\n",
    "# for each delinquency category\n",
    "for i in age_group:\n",
    "    \n",
    "    count = df[df[\"age_group\"] == i].count()['death_yn']\n",
    "    count_percentage = (1 / count) * 100\n",
    "        \n",
    "    # print out index vs count\n",
    "    print(i, \"\\t\", count)\n",
    "    \n",
    "    index_list = df[df['age_group'] == i].index.tolist()\n",
    "    for ind in index_list:\n",
    "        df.loc[ind, 'percent'] = count_percentage\n",
    "        \n",
    "group = df[['percent','age_group','death_yn']].groupby(['age_group','death_yn']).sum()\n",
    "\n",
    "my_plot = group.unstack().plot(kind='bar', stacked=True, title=\"death_yn vs age_group\", figsize=(15,7), grid=True)\n",
    "\n",
    "# add legend\n",
    "red_patch = mpatches.Patch(color='orange', label='Negative')\n",
    "blue_patch = mpatches.Patch(color='blue', label='Positive')\n",
    "my_plot.legend(handles=[red_patch, blue_patch], frameon = True)\n",
    "\n",
    "# add gridlines\n",
    "plt.grid(b=True, which='major', color='#666666', linestyle='-')\n",
    "plt.minorticks_on()\n",
    "plt.grid(b=True, which='minor', color='#999999', linestyle='-', alpha=0.2)\n",
    "\n",
    "my_plot.set_xlabel(\"age_group\")\n",
    "my_plot.set_ylabel(\"death_yn\")\n",
    "my_plot.set_ylim([0,100])"
   ]
  },
  {
   "cell_type": "markdown",
   "metadata": {},
   "source": [
    "We can see the stacked bar plot for age group upon outcome against the death status. \n",
    "\n",
    "- In general, over 80+ have higher negative death rate among all other age groups, 70-79 years have approx 10-15% of negative outcome rate, and 60-69 years have approx 5% of negative outcome rate.\n",
    "- Approx 35% of over 80+ have negative outcome, a relatively large percentage.\n",
    "- 40 - 49 years and 50 - 59 years have around 1 - 2 % of negative outcome rate.\n",
    "- All other age groups less than 40 years have no death rate. \n",
    "- We could thus derive a new feature that have three categories, the young, middle age and elderly, without losing much information.\n",
    "- Age group is a potential candidate for a predicting death status."
   ]
  },
  {
   "cell_type": "code",
   "execution_count": 90,
   "metadata": {},
   "outputs": [
    {
     "name": "stdout",
     "output_type": "stream",
     "text": [
      "race_ethnicity_combined\n",
      "Index \t Count\n",
      "nan \t 0\n",
      "Multiple/Other, Non-Hispanic \t 490\n",
      "White, Non-Hispanic \t 3290\n",
      "Hispanic/Latino \t 975\n",
      "Black, Non-Hispanic \t 698\n",
      "Asian, Non-Hispanic \t 229\n",
      "American Indian/Alaska Native, Non-Hispanic \t 61\n",
      "Native Hawaiian/Other Pacific Islander, Non-Hispanic \t 20\n"
     ]
    },
    {
     "data": {
      "text/plain": [
       "(0, 100)"
      ]
     },
     "execution_count": 90,
     "metadata": {},
     "output_type": "execute_result"
    },
    {
     "data": {
      "image/png": "[encoded data removed]",
      "text/plain": [
       "<Figure size 1080x504 with 1 Axes>"
      ]
     },
     "metadata": {
      "needs_background": "light"
     },
     "output_type": "display_data"
    }
   ],
   "source": [
    "#Using code from the module lab\n",
    "import matplotlib.patches as mpatches\n",
    "race_ethnicity_combined = pd.unique(df[\"race_ethnicity_combined\"].ravel())\n",
    "\n",
    "# add new column and set values to zero\n",
    "df['percent'] = 0\n",
    "\n",
    "#print header\n",
    "print(\"race_ethnicity_combined\")\n",
    "print(\"Index \\t Count\")\n",
    "\n",
    "# for each delinquency category\n",
    "for i in race_ethnicity_combined:\n",
    "    \n",
    "    count = df[df[\"race_ethnicity_combined\"] == i].count()['death_yn']\n",
    "    count_percentage = (1 / count) * 100\n",
    "        \n",
    "    # print out index vs count\n",
    "    print(i, \"\\t\", count)\n",
    "    \n",
    "    index_list = df[df['race_ethnicity_combined'] == i].index.tolist()\n",
    "    for ind in index_list:\n",
    "        df.loc[ind, 'percent'] = count_percentage\n",
    "        \n",
    "group = df[['percent','race_ethnicity_combined','death_yn']].groupby(['race_ethnicity_combined','death_yn']).sum()\n",
    "\n",
    "my_plot = group.unstack().plot(kind='bar', stacked=True, title=\"death_yn vs race_ethnicity_combined\", figsize=(15,7), grid=True)\n",
    "\n",
    "# add legend\n",
    "red_patch = mpatches.Patch(color='orange', label='Negative')\n",
    "blue_patch = mpatches.Patch(color='blue', label='Positive')\n",
    "my_plot.legend(handles=[red_patch, blue_patch], frameon = True)\n",
    "\n",
    "# add gridlines\n",
    "plt.grid(b=True, which='major', color='#666666', linestyle='-')\n",
    "plt.minorticks_on()\n",
    "plt.grid(b=True, which='minor', color='#999999', linestyle='-', alpha=0.2)\n",
    "\n",
    "my_plot.set_xlabel(\"race_ethnicity_combined\")\n",
    "my_plot.set_ylabel(\"death_yn\")\n",
    "my_plot.set_ylim([0,100])"
   ]
  },
  {
   "cell_type": "markdown",
   "metadata": {},
   "source": [
    "We can see the stacked bar plot for symptom onset date against the death status. \n",
    "\n",
    "- Negative outcome tends to concentrate in Asian,Non-Hispanic , Black/Non-Hispanic and White/Hispanic, around 5%.\n",
    "- a slightly less negative outcome concentrate in American Indian/Alaska, Non-Hispanic, Hispanic/Latino, Multiple/Other, Non-Hispanic, approx 2%\n",
    "- Overall, this doesn't tell us much information since the difference is relativaly low, and race_ethnicity_combined thus seems not a good marker for predicting the outcome."
   ]
  },
  {
   "cell_type": "code",
   "execution_count": 91,
   "metadata": {},
   "outputs": [
    {
     "name": "stdout",
     "output_type": "stream",
     "text": [
      "hosp_yn\n",
      "Index \t Count\n",
      "nan \t 0\n",
      "No \t 5220\n",
      "Yes \t 669\n",
      "OTH \t 1\n"
     ]
    },
    {
     "data": {
      "text/plain": [
       "(0, 100)"
      ]
     },
     "execution_count": 91,
     "metadata": {},
     "output_type": "execute_result"
    },
    {
     "data": {
      "image/png": "[encoded data removed]",
      "text/plain": [
       "<Figure size 1080x504 with 1 Axes>"
      ]
     },
     "metadata": {
      "needs_background": "light"
     },
     "output_type": "display_data"
    }
   ],
   "source": [
    "#Using code from the module lab\n",
    "import matplotlib.patches as mpatches\n",
    "hosp_yn = pd.unique(df[\"hosp_yn\"].ravel())\n",
    "\n",
    "# add new column and set values to zero\n",
    "df['percent'] = 0\n",
    "\n",
    "#print header\n",
    "print(\"hosp_yn\")\n",
    "print(\"Index \\t Count\")\n",
    "\n",
    "# for each delinquency category\n",
    "for i in hosp_yn:\n",
    "    \n",
    "    count = df[df[\"hosp_yn\"] == i].count()['death_yn']\n",
    "    count_percentage = (1 / count) * 100\n",
    "        \n",
    "    # print out index vs count\n",
    "    print(i, \"\\t\", count)\n",
    "    \n",
    "    index_list = df[df['hosp_yn'] == i].index.tolist()\n",
    "    for ind in index_list:\n",
    "        df.loc[ind, 'percent'] = count_percentage\n",
    "        \n",
    "group = df[['percent','hosp_yn','death_yn']].groupby(['hosp_yn','death_yn']).sum()\n",
    "\n",
    "my_plot = group.unstack().plot(kind='bar', stacked=True, title=\"death_yn vs hosp_yn\", figsize=(15,7), grid=True)\n",
    "\n",
    "# add legend\n",
    "red_patch = mpatches.Patch(color='orange', label='Negative')\n",
    "blue_patch = mpatches.Patch(color='blue', label='Positive')\n",
    "my_plot.legend(handles=[red_patch, blue_patch], frameon = True)\n",
    "\n",
    "# add gridlines\n",
    "plt.grid(b=True, which='major', color='#666666', linestyle='-')\n",
    "plt.minorticks_on()\n",
    "plt.grid(b=True, which='minor', color='#999999', linestyle='-', alpha=0.2)\n",
    "\n",
    "my_plot.set_xlabel(\"hosp_yn\")\n",
    "my_plot.set_ylabel(\"death_yn\")\n",
    "my_plot.set_ylim([0,100])"
   ]
  },
  {
   "cell_type": "markdown",
   "metadata": {},
   "source": [
    "We can see the stacked bar plot for symptom onset date against the death status. \n",
    "\n",
    "- Negative outcome tends to concentrate in those admitted to hospitals, approx 30%\n",
    "- a comparatively less negative outcome goes to those who didnt admit to hospitals. \n",
    "- Overall, it is an good indicator that predicting the outcome. "
   ]
  },
  {
   "cell_type": "code",
   "execution_count": 92,
   "metadata": {},
   "outputs": [
    {
     "name": "stdout",
     "output_type": "stream",
     "text": [
      "icu_yn\n",
      "Index \t Count\n",
      "nan \t 0\n",
      "No \t 968\n",
      "Yes \t 82\n"
     ]
    },
    {
     "data": {
      "text/plain": [
       "(0, 100)"
      ]
     },
     "execution_count": 92,
     "metadata": {},
     "output_type": "execute_result"
    },
    {
     "data": {
      "image/png": "[encoded data removed]",
      "text/plain": [
       "<Figure size 1080x504 with 1 Axes>"
      ]
     },
     "metadata": {
      "needs_background": "light"
     },
     "output_type": "display_data"
    }
   ],
   "source": [
    "#Using code from the module lab\n",
    "import matplotlib.patches as mpatches\n",
    "icu_yn = pd.unique(df[\"icu_yn\"].ravel())\n",
    "\n",
    "# add new column and set values to zero\n",
    "df['percent'] = 0\n",
    "\n",
    "#print header\n",
    "print(\"icu_yn\")\n",
    "print(\"Index \\t Count\")\n",
    "\n",
    "# for each delinquency category\n",
    "for i in icu_yn:\n",
    "    \n",
    "    count = df[df[\"icu_yn\"] == i].count()['death_yn']\n",
    "    count_percentage = (1 / count) * 100\n",
    "        \n",
    "    # print out index vs count\n",
    "    print(i, \"\\t\", count)\n",
    "    \n",
    "    index_list = df[df['icu_yn'] == i].index.tolist()\n",
    "    for ind in index_list:\n",
    "        df.loc[ind, 'percent'] = count_percentage\n",
    "        \n",
    "group = df[['percent','icu_yn','death_yn']].groupby(['icu_yn','death_yn']).sum()\n",
    "\n",
    "my_plot = group.unstack().plot(kind='bar', stacked=True, title=\"death_yn vs icu_yn\", figsize=(15,7), grid=True)\n",
    "\n",
    "# add legend\n",
    "red_patch = mpatches.Patch(color='orange', label='Negative')\n",
    "blue_patch = mpatches.Patch(color='blue', label='Positive')\n",
    "my_plot.legend(handles=[red_patch, blue_patch], frameon = True)\n",
    "\n",
    "# add gridlines\n",
    "plt.grid(b=True, which='major', color='#666666', linestyle='-')\n",
    "plt.minorticks_on()\n",
    "plt.grid(b=True, which='minor', color='#999999', linestyle='-', alpha=0.2)\n",
    "\n",
    "my_plot.set_xlabel(\"icu_yn\")\n",
    "my_plot.set_ylabel(\"death_yn\")\n",
    "my_plot.set_ylim([0,100])"
   ]
  },
  {
   "cell_type": "markdown",
   "metadata": {},
   "source": [
    "We can see the stacked bar plot for ICU admission status against the death status.\n",
    "\n",
    "Negative outcome tends to concentrate in those admitted to ICU, approx 50%\n",
    "a comparatively less negative outcome goes to those who didnt admit to ICU.\n",
    "Overall, it is an good indicator that predicting the outcome."
   ]
  },
  {
   "cell_type": "markdown",
   "metadata": {},
   "source": [
    "- Discuss your findings from the plots above. Do you find any features or feature combinations that are indicative of the target outcome (i.e., churn)? Explain in plain words (a short paragraph) the story of your findings so far."
   ]
  },
  {
   "cell_type": "markdown",
   "metadata": {},
   "source": [
    "- Categorical vs Categorical\n",
    "\n",
    "   - In general the subset we picked do have a relatively strong connection with the death status, i.e., they are good markers to predict the outcome.\n",
    "   \n",
    "   - For cdc_case_earliest_dt, negative outcome tends to concentrate in March and April in a year, around 10 ~ 15 %.\n",
    "   - For pos_spec_dt, negative outcome tends to concentrate in March and April in a year, around 15 %\n",
    "   - For onset_dt, negative outcome tends to concentrate in March and April in a year, around 10 ~ 15 %\n",
    "   - We see case reported in March, April. Spring tends to have a higher percentage of death rate even Winter has the largest reported case, the death status is not concentrate in Winter. \n",
    "   - Negative outcome tends to concentrate in those admitted to hospitals, approx 30%\n",
    "   - In general, ~5% among all sex is vulnerable to negative outcome.\n",
    "   - In general, over 80+ have higher negative death rate among all other age groups, 70-79 years have approx 10-15% of negative outcome rate, and 60-69 years have approx 5% of negative outcome rate.\n",
    "   - We see a significant drop in the likelihood of a positive outcome if the reported case age is smaller. \n",
    "   - Negative outcome tends to concentrate in those admitted to ICU, approx 50% a comparatively less negative outcome goes to those who didnt admit to ICU.\n",
    "   - Negative outcome tends to concentrate in Asian,Non-Hispanic , Black/Non-Hispanic and White/Hispanic, around 5%.\n",
    "   - a slightly less negative outcome concentrate in American Indian/Alaska, Non-Hispanic, Hispanic/Latino, Multiple/Other, Non-Hispanic, approx 2%\n",
    "   - We see that non-hispanic has the largest reported cases and also the corresponding deah rate."
   ]
  },
  {
   "cell_type": "markdown",
   "metadata": {},
   "source": [
    "# (4). Transform, extend or combine the existing features to create a few new features (at least 3)\n",
    "\n",
    "### Aim to better capture the problem domain and the target outcome. Justify the steps and choices you are making. Add these features to your clean dataset and save it as a CSV file with a self explanatory name. "
   ]
  },
  {
   "cell_type": "markdown",
   "metadata": {},
   "source": [
    "#### **New feature 1** \n",
    "- Age Category: Measures if a specific age categroy is more vulnerable to death.\n",
    "- From analysis of the data if the younger the age group, the rate of death rate is less. The range of age groups is not that important\n",
    "- Therefore it makes sense to derive a feature with a age category group, kids to young adults, middle aged and the elderly. "
   ]
  },
  {
   "cell_type": "code",
   "execution_count": 93,
   "metadata": {},
   "outputs": [],
   "source": [
    "#copy the values in 'age_group' to a new column 'age_category'\n",
    "df['age_category'] = df[\"age_group\"]"
   ]
  },
  {
   "cell_type": "code",
   "execution_count": 94,
   "metadata": {},
   "outputs": [
    {
     "data": {
      "text/plain": [
       "<matplotlib.axes._subplots.AxesSubplot at 0x7f83f265e050>"
      ]
     },
     "execution_count": 94,
     "metadata": {},
     "output_type": "execute_result"
    },
    {
     "data": {
      "image/png": "[encoded data removed]",
      "text/plain": [
       "<Figure size 864x720 with 1 Axes>"
      ]
     },
     "metadata": {
      "needs_background": "light"
     },
     "output_type": "display_data"
    }
   ],
   "source": [
    "df[\"age_category\"]=df[\"age_category\"].astype('object') # cast it to 'object' first to avoid ValueError: Cannot setitem on a Categorical with a new category, set the categories first\n",
    "\n",
    "for row_index in range(len(df[\"age_category\"])): #for each row index of length of column \"Health_condition\"\n",
    "    column_index=df.columns.get_loc(\"age_category\") #get column index\n",
    "    health_condition=df.iat[row_index, column_index] #get content of the cell based on row and column index\n",
    "#     print(health_condition)\n",
    "    if (isinstance(health_condition, str)):\n",
    "        if \"60 - 69 Years\" in health_condition or \"70 - 79 Years\" in health_condition or \"80+ Years\" in health_condition:\n",
    "            df.iloc[[row_index], [column_index]]=('Elderly') \n",
    "        elif '40' in health_condition or '50' in health_condition:\n",
    "            df.iloc[[row_index], [column_index]]=('Middle Aged') \n",
    "        else:\n",
    "            df.iloc[[row_index], [column_index]]=('Kids to Young Adults') \n",
    "\n",
    "df['age_category'] = df['age_category'].astype('category') #convert it back to 'category'\n",
    "df['age_category'].value_counts().plot(kind='bar', figsize=(12,10))"
   ]
  },
  {
   "cell_type": "markdown",
   "metadata": {},
   "source": [
    "Generate stacked bar plot "
   ]
  },
  {
   "cell_type": "code",
   "execution_count": 95,
   "metadata": {},
   "outputs": [
    {
     "name": "stdout",
     "output_type": "stream",
     "text": [
      "age_category\n",
      "Index \t Count\n",
      "Kids to Young Adults \t 4735\n",
      "Middle Aged \t 2668\n",
      "Elderly \t 2088\n",
      "nan \t 0\n"
     ]
    },
    {
     "data": {
      "text/plain": [
       "(0, 100)"
      ]
     },
     "execution_count": 95,
     "metadata": {},
     "output_type": "execute_result"
    },
    {
     "data": {
      "image/png": "[encoded data removed]",
      "text/plain": [
       "<Figure size 1080x504 with 1 Axes>"
      ]
     },
     "metadata": {
      "needs_background": "light"
     },
     "output_type": "display_data"
    }
   ],
   "source": [
    "#Using code from the module lab\n",
    "age_category = pd.unique(df['age_category'].ravel())\n",
    "\n",
    "# add new column and set values to zero\n",
    "df['percent'] = 0\n",
    "\n",
    "#print header\n",
    "print('age_category')\n",
    "print(\"Index \\t Count\")\n",
    "\n",
    "# for each age category\n",
    "for i in age_category:\n",
    "    \n",
    "    count = df[df['age_category'] == i].count()['death_yn']\n",
    "    count_percentage = (1 / count) * 100\n",
    "    \n",
    "    # print out index vs count\n",
    "    print(i, \"\\t\", count)\n",
    "    \n",
    "    index_list = df[df['age_category'] == i].index.tolist()\n",
    "    for ind in index_list:\n",
    "        df.loc[ind, 'percent'] = count_percentage\n",
    "        \n",
    "group = df[['percent','age_category','death_yn']].groupby(['age_category','death_yn']).sum()\n",
    "\n",
    "my_plot = group.unstack().plot(kind='bar', stacked=True, title=\"death_yn vs age_category\", figsize=(15,7))\n",
    "\n",
    "# add legend\n",
    "red_patch = mpatches.Patch(color='orange', label='Negative')\n",
    "blue_patch = mpatches.Patch(color='blue', label='Positive')\n",
    "my_plot.legend(handles=[red_patch, blue_patch], frameon = True)\n",
    "\n",
    "# add gridlines\n",
    "plt.grid(b=True, which='major', color='#666666', linestyle='-')\n",
    "plt.minorticks_on()\n",
    "plt.grid(b=True, which='minor', color='#999999', linestyle='-', alpha=0.2)\n",
    "\n",
    "# set labels\n",
    "my_plot.set_xlabel(\"age_category\")\n",
    "my_plot.set_ylabel(\"death_yn\")\n",
    "my_plot.set_ylim([0,100])"
   ]
  },
  {
   "cell_type": "markdown",
   "metadata": {},
   "source": [
    "#### **New feature 2** \n",
    "\n",
    "- Ethnicity: Measures if a reported case is hispanic or non-hispanic\n",
    "- From analysis of the data, non-hispanic has a higher percentage of death rate while hispanic has slightly less rate of death.\n",
    "- Therefore it is makes sense to transform the 'race_ethnicity_combined' to a feature with binary outcome: Hispanic and Non-hispanic. "
   ]
  },
  {
   "cell_type": "code",
   "execution_count": 96,
   "metadata": {},
   "outputs": [],
   "source": [
    "#copy the values in 'race_ethnicity_combined' to a new column 'age_category'\n",
    "df['ethnicity'] = df[\"race_ethnicity_combined\"]"
   ]
  },
  {
   "cell_type": "code",
   "execution_count": 97,
   "metadata": {},
   "outputs": [
    {
     "data": {
      "text/plain": [
       "<matplotlib.axes._subplots.AxesSubplot at 0x7f83f243f1d0>"
      ]
     },
     "execution_count": 97,
     "metadata": {},
     "output_type": "execute_result"
    },
    {
     "data": {
      "image/png": "[encoded data removed]",
      "text/plain": [
       "<Figure size 864x720 with 1 Axes>"
      ]
     },
     "metadata": {
      "needs_background": "light"
     },
     "output_type": "display_data"
    }
   ],
   "source": [
    "df[\"ethnicity\"]=df[\"ethnicity\"].astype('object') # cast it to 'object' first to avoid ValueError: Cannot setitem on a Categorical with a new category, set the categories first\n",
    "\n",
    "for row_index in range(len(df[\"ethnicity\"])): #for each row index of length of column \"Health_condition\"\n",
    "    column_index=df.columns.get_loc(\"ethnicity\") #get column index\n",
    "    health_condition=df.iat[row_index, column_index] #get content of the cell based on row and column index\n",
    "    if (isinstance(health_condition, str)):\n",
    "        if \"Non-Hispanic\" in health_condition:\n",
    "            df.iloc[[row_index], [column_index]]=('Non-Hispanic') \n",
    "        elif \"Hispanic\" in health_condition:\n",
    "            df.iloc[[row_index], [column_index]]=('Hispanic') \n",
    "\n",
    "df['ethnicity'] = df['ethnicity'].astype('category') #convert it back to 'category'\n",
    "df['ethnicity'].value_counts().plot(kind='bar', figsize=(12,10))"
   ]
  },
  {
   "cell_type": "code",
   "execution_count": 98,
   "metadata": {},
   "outputs": [
    {
     "name": "stdout",
     "output_type": "stream",
     "text": [
      "ethnicity\n",
      "Index \t Count\n",
      "nan \t 0\n",
      "Non-Hispanic \t 4788\n",
      "Hispanic \t 975\n"
     ]
    },
    {
     "data": {
      "text/plain": [
       "(0, 100)"
      ]
     },
     "execution_count": 98,
     "metadata": {},
     "output_type": "execute_result"
    },
    {
     "data": {
      "image/png": "[encoded data removed]",
      "text/plain": [
       "<Figure size 1080x504 with 1 Axes>"
      ]
     },
     "metadata": {
      "needs_background": "light"
     },
     "output_type": "display_data"
    }
   ],
   "source": [
    "#Using code from the module lab\n",
    "age_category = pd.unique(df['ethnicity'].ravel())\n",
    "\n",
    "# add new column and set values to zero\n",
    "df['percent'] = 0\n",
    "\n",
    "#print header\n",
    "print('ethnicity')\n",
    "print(\"Index \\t Count\")\n",
    "\n",
    "# for each age category\n",
    "for i in age_category:\n",
    "    \n",
    "    count = df[df['ethnicity'] == i].count()['death_yn']\n",
    "    count_percentage = (1 / count) * 100\n",
    "    \n",
    "    # print out index vs count\n",
    "    print(i, \"\\t\", count)\n",
    "    \n",
    "    index_list = df[df['ethnicity'] == i].index.tolist()\n",
    "    for ind in index_list:\n",
    "        df.loc[ind, 'percent'] = count_percentage\n",
    "        \n",
    "group = df[['percent','ethnicity','death_yn']].groupby(['ethnicity','death_yn']).sum()\n",
    "\n",
    "my_plot = group.unstack().plot(kind='bar', stacked=True, title=\"death_yn vs ethnicity\", figsize=(15,7))\n",
    "\n",
    "# add legend\n",
    "red_patch = mpatches.Patch(color='orange', label='Negative')\n",
    "blue_patch = mpatches.Patch(color='blue', label='Positive')\n",
    "my_plot.legend(handles=[red_patch, blue_patch], frameon = True)\n",
    "\n",
    "# add gridlines\n",
    "plt.grid(b=True, which='major', color='#666666', linestyle='-')\n",
    "plt.minorticks_on()\n",
    "plt.grid(b=True, which='minor', color='#999999', linestyle='-', alpha=0.2)\n",
    "\n",
    "# set labels\n",
    "my_plot.set_xlabel(\"ethnicity\")\n",
    "my_plot.set_ylabel(\"death_yn\")\n",
    "my_plot.set_ylim([0,100])"
   ]
  },
  {
   "cell_type": "markdown",
   "metadata": {},
   "source": [
    "New feature 3\n",
    "- Seasonal variation: Measures if a reported case is common in which season.\n",
    "- From analysis of the data, cases reported in March and April tends to have a higher death rate.  \n",
    "- Although winter has a largest reported cases while Spring has the least. \n",
    "- When taking the death rate as target outcome, it seam cases in Spring have higher precentage of death rate. \n",
    "\n",
    "Therefore it is makes sense to transform the 'cdc_case_earliest_dt' to a feature with seasonal outcome: Winter, Summer, Spring and Autumn."
   ]
  },
  {
   "cell_type": "code",
   "execution_count": 99,
   "metadata": {},
   "outputs": [],
   "source": [
    "df['seasonal_variation'] = df[\"cdc_case_earliest_dt\"]"
   ]
  },
  {
   "cell_type": "code",
   "execution_count": 100,
   "metadata": {},
   "outputs": [
    {
     "data": {
      "text/plain": [
       "<matplotlib.axes._subplots.AxesSubplot at 0x7f83f2714890>"
      ]
     },
     "execution_count": 100,
     "metadata": {},
     "output_type": "execute_result"
    },
    {
     "data": {
      "image/png": "[encoded data removed]",
      "text/plain": [
       "<Figure size 864x720 with 1 Axes>"
      ]
     },
     "metadata": {
      "needs_background": "light"
     },
     "output_type": "display_data"
    }
   ],
   "source": [
    "df[\"seasonal_variation\"]=df[\"seasonal_variation\"].astype('object') # cast it to 'object' first to avoid ValueError: Cannot setitem on a Categorical with a new category, set the categories first\n",
    "\n",
    "for row_index in range(len(df[\"seasonal_variation\"])): #for each row index of length of column \"Health_condition\"\n",
    "    column_index=df.columns.get_loc(\"seasonal_variation\") #get column index\n",
    "    health_condition=df.iat[row_index, column_index] #get content of the cell based on row and column index\n",
    "    if (isinstance(health_condition, int)):\n",
    "        if health_condition == 1 or health_condition == 12 or health_condition == 2:\n",
    "            df.iloc[[row_index], [column_index]]=('Winter') \n",
    "        elif health_condition == 6 or health_condition == 7 or health_condition == 8:\n",
    "            df.iloc[[row_index], [column_index]]=('Summer') \n",
    "        elif health_condition == 9 or health_condition == 10 or health_condition == 11:\n",
    "            df.iloc[[row_index], [column_index]]=('Autumn') \n",
    "        else:\n",
    "            df.iloc[[row_index], [column_index]]=('Spring')\n",
    "\n",
    "df['seasonal_variation'] = df['seasonal_variation'].astype('category') #convert it back to 'category'\n",
    "df['seasonal_variation'].value_counts().plot(kind='bar', figsize=(12,10))"
   ]
  },
  {
   "cell_type": "code",
   "execution_count": 101,
   "metadata": {},
   "outputs": [
    {
     "name": "stdout",
     "output_type": "stream",
     "text": [
      "seasonal_variation\n",
      "Index \t Count\n",
      "Autumn \t 3067\n",
      "Winter \t 3213\n",
      "Summer \t 2126\n",
      "Spring \t 1098\n"
     ]
    },
    {
     "data": {
      "text/plain": [
       "(0, 100)"
      ]
     },
     "execution_count": 101,
     "metadata": {},
     "output_type": "execute_result"
    },
    {
     "data": {
      "image/png": "[encoded data removed]",
      "text/plain": [
       "<Figure size 1080x504 with 1 Axes>"
      ]
     },
     "metadata": {
      "needs_background": "light"
     },
     "output_type": "display_data"
    }
   ],
   "source": [
    "#Using code from the module lab\n",
    "age_category = pd.unique(df['seasonal_variation'].ravel())\n",
    "\n",
    "# add new column and set values to zero\n",
    "df['percent'] = 0\n",
    "\n",
    "#print header\n",
    "print('seasonal_variation')\n",
    "print(\"Index \\t Count\")\n",
    "\n",
    "# for each age category\n",
    "for i in age_category:\n",
    "    \n",
    "    count = df[df['seasonal_variation'] == i].count()['death_yn']\n",
    "    count_percentage = (1 / count) * 100\n",
    "    \n",
    "    # print out index vs count\n",
    "    print(i, \"\\t\", count)\n",
    "    \n",
    "    index_list = df[df['seasonal_variation'] == i].index.tolist()\n",
    "    for ind in index_list:\n",
    "        df.loc[ind, 'percent'] = count_percentage\n",
    "        \n",
    "group = df[['percent','seasonal_variation','death_yn']].groupby(['seasonal_variation','death_yn']).sum()\n",
    "\n",
    "my_plot = group.unstack().plot(kind='bar', stacked=True, title=\"death_yn vs seasonal_variation\", figsize=(15,7))\n",
    "\n",
    "# add legend\n",
    "red_patch = mpatches.Patch(color='orange', label='Negative')\n",
    "blue_patch = mpatches.Patch(color='blue', label='Positive')\n",
    "my_plot.legend(handles=[red_patch, blue_patch], frameon = True)\n",
    "\n",
    "# add gridlines\n",
    "plt.grid(b=True, which='major', color='#666666', linestyle='-')\n",
    "plt.minorticks_on()\n",
    "plt.grid(b=True, which='minor', color='#999999', linestyle='-', alpha=0.2)\n",
    "\n",
    "# set labels\n",
    "my_plot.set_xlabel(\"seasonal_variation\")\n",
    "my_plot.set_ylabel(\"death_yn\")\n",
    "my_plot.set_ylim([0,100])"
   ]
  },
  {
   "cell_type": "markdown",
   "metadata": {},
   "source": [
    "We can see the stacked bar plot for the new feature 'seasonal_variation' against the target death status.\n",
    "\n",
    "- There is approx 10% likelihood of negative outcomes if cases reported in Spring.\n",
    "\n",
    "- Other seasons have around the same death rate ~5%. \n",
    "\n",
    "- Overll, the new feature seasonal variation is a good indicater of predicting the death rate."
   ]
  },
  {
   "cell_type": "markdown",
   "metadata": {},
   "source": [
    "### To finish - Print data types, descriptive tables, save to csv"
   ]
  },
  {
   "cell_type": "code",
   "execution_count": 102,
   "metadata": {},
   "outputs": [
    {
     "data": {
      "text/plain": [
       "cdc_case_earliest_dt       category\n",
       "pos_spec_dt                category\n",
       "onset_dt                   category\n",
       "current_status             category\n",
       "sex                        category\n",
       "age_group                  category\n",
       "race_ethnicity_combined    category\n",
       "hosp_yn                    category\n",
       "icu_yn                     category\n",
       "death_yn                   category\n",
       "percent                     float64\n",
       "age_category               category\n",
       "ethnicity                  category\n",
       "seasonal_variation         category\n",
       "dtype: object"
      ]
     },
     "execution_count": 102,
     "metadata": {},
     "output_type": "execute_result"
    }
   ],
   "source": [
    "df.dtypes"
   ]
  },
  {
   "cell_type": "code",
   "execution_count": 103,
   "metadata": {},
   "outputs": [
    {
     "data": {
      "text/html": [
       "<div>\n",
       "<style scoped>\n",
       "    .dataframe tbody tr th:only-of-type {\n",
       "        vertical-align: middle;\n",
       "    }\n",
       "\n",
       "    .dataframe tbody tr th {\n",
       "        vertical-align: top;\n",
       "    }\n",
       "\n",
       "    .dataframe thead th {\n",
       "        text-align: right;\n",
       "    }\n",
       "</style>\n",
       "<table border=\"1\" class=\"dataframe\">\n",
       "  <thead>\n",
       "    <tr style=\"text-align: right;\">\n",
       "      <th></th>\n",
       "      <th>count</th>\n",
       "      <th>unique</th>\n",
       "      <th>top</th>\n",
       "      <th>freq</th>\n",
       "    </tr>\n",
       "  </thead>\n",
       "  <tbody>\n",
       "    <tr>\n",
       "      <th>cdc_case_earliest_dt</th>\n",
       "      <td>9504</td>\n",
       "      <td>12</td>\n",
       "      <td>12</td>\n",
       "      <td>2177</td>\n",
       "    </tr>\n",
       "    <tr>\n",
       "      <th>pos_spec_dt</th>\n",
       "      <td>2770</td>\n",
       "      <td>11</td>\n",
       "      <td>11</td>\n",
       "      <td>483</td>\n",
       "    </tr>\n",
       "    <tr>\n",
       "      <th>onset_dt</th>\n",
       "      <td>5019</td>\n",
       "      <td>12</td>\n",
       "      <td>11</td>\n",
       "      <td>997</td>\n",
       "    </tr>\n",
       "    <tr>\n",
       "      <th>current_status</th>\n",
       "      <td>9504</td>\n",
       "      <td>2</td>\n",
       "      <td>Laboratory-confirmed case</td>\n",
       "      <td>8858</td>\n",
       "    </tr>\n",
       "    <tr>\n",
       "      <th>sex</th>\n",
       "      <td>9489</td>\n",
       "      <td>3</td>\n",
       "      <td>Female</td>\n",
       "      <td>5046</td>\n",
       "    </tr>\n",
       "    <tr>\n",
       "      <th>age_group</th>\n",
       "      <td>9491</td>\n",
       "      <td>9</td>\n",
       "      <td>20 - 29 Years</td>\n",
       "      <td>1778</td>\n",
       "    </tr>\n",
       "    <tr>\n",
       "      <th>race_ethnicity_combined</th>\n",
       "      <td>5763</td>\n",
       "      <td>7</td>\n",
       "      <td>White, Non-Hispanic</td>\n",
       "      <td>3290</td>\n",
       "    </tr>\n",
       "    <tr>\n",
       "      <th>hosp_yn</th>\n",
       "      <td>5890</td>\n",
       "      <td>3</td>\n",
       "      <td>No</td>\n",
       "      <td>5220</td>\n",
       "    </tr>\n",
       "    <tr>\n",
       "      <th>icu_yn</th>\n",
       "      <td>1050</td>\n",
       "      <td>2</td>\n",
       "      <td>No</td>\n",
       "      <td>968</td>\n",
       "    </tr>\n",
       "    <tr>\n",
       "      <th>death_yn</th>\n",
       "      <td>9504</td>\n",
       "      <td>2</td>\n",
       "      <td>No</td>\n",
       "      <td>9165</td>\n",
       "    </tr>\n",
       "    <tr>\n",
       "      <th>age_category</th>\n",
       "      <td>9491</td>\n",
       "      <td>3</td>\n",
       "      <td>Kids to Young Adults</td>\n",
       "      <td>4735</td>\n",
       "    </tr>\n",
       "    <tr>\n",
       "      <th>ethnicity</th>\n",
       "      <td>5763</td>\n",
       "      <td>2</td>\n",
       "      <td>Non-Hispanic</td>\n",
       "      <td>4788</td>\n",
       "    </tr>\n",
       "    <tr>\n",
       "      <th>seasonal_variation</th>\n",
       "      <td>9504</td>\n",
       "      <td>4</td>\n",
       "      <td>Winter</td>\n",
       "      <td>3213</td>\n",
       "    </tr>\n",
       "  </tbody>\n",
       "</table>\n",
       "</div>"
      ],
      "text/plain": [
       "                        count unique                        top  freq\n",
       "cdc_case_earliest_dt     9504     12                         12  2177\n",
       "pos_spec_dt              2770     11                         11   483\n",
       "onset_dt                 5019     12                         11   997\n",
       "current_status           9504      2  Laboratory-confirmed case  8858\n",
       "sex                      9489      3                     Female  5046\n",
       "age_group                9491      9              20 - 29 Years  1778\n",
       "race_ethnicity_combined  5763      7        White, Non-Hispanic  3290\n",
       "hosp_yn                  5890      3                         No  5220\n",
       "icu_yn                   1050      2                         No   968\n",
       "death_yn                 9504      2                         No  9165\n",
       "age_category             9491      3       Kids to Young Adults  4735\n",
       "ethnicity                5763      2               Non-Hispanic  4788\n",
       "seasonal_variation       9504      4                     Winter  3213"
      ]
     },
     "execution_count": 103,
     "metadata": {},
     "output_type": "execute_result"
    }
   ],
   "source": [
    "# Print table with categorical statistics\n",
    "df.select_dtypes(['category']).describe().T"
   ]
  },
  {
   "cell_type": "code",
   "execution_count": 104,
   "metadata": {},
   "outputs": [],
   "source": [
    "# Write the cleaned dataframe to a csv file\n",
    "df.to_csv('covid19_cdc_1-3_cleaned_new_features.csv', index=False)"
   ]
  },
  {
   "cell_type": "code",
   "execution_count": null,
   "metadata": {},
   "outputs": [],
   "source": []
  }
 ],
 "metadata": {
  "kernelspec": {
   "display_name": "Python 3",
   "language": "python",
   "name": "python3"
  },
  "language_info": {
   "codemirror_mode": {
    "name": "ipython",
    "version": 3
   },
   "file_extension": ".py",
   "mimetype": "text/x-python",
   "name": "python",
   "nbconvert_exporter": "python",
   "pygments_lexer": "ipython3",
   "version": "3.8.5"
  }
 },
 "nbformat": 4,
 "nbformat_minor": 1
}
